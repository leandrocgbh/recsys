{
 "cells": [
  {
   "cell_type": "markdown",
   "metadata": {},
   "source": [
    "# Learning about Recommender Systems\n",
    "\n",
    "The field of Recommender Systems (RecSys) is a broad area that combines Machine Learning algorithmns, Business Sense, User Experience, Big Data Processing and Domain Field to generate useful recommendations to people in many different products and services.\n",
    "\n",
    "Many aspects of RecSys have been covered and discussed through [this course](https://www.udemy.com/course/building-recommender-systems-with-machine-learning-and-ai/) and I'm using this document to summarize the main points and techniques learned in a self experiment** with `movielens` data.\n",
    "\n",
    "> I'm going to create my own user and rate some items that I've seen so I can subjectively evaluate the final recommendations\n",
    "\n",
    "Here are the topics of this document\n",
    "\n",
    "\n",
    "### 1. Recommender Systems Purposes\n",
    "* Whey they exists in the first place?\n",
    "* Should we be focusing on profitable or pure personalized recommendations?\n",
    "\n",
    "### 2. The main concerns we should be aware of\n",
    "* Type of data used to learn the user's preferences\n",
    "* How to measure recommendations quality\n",
    "* Diversity: User's Bubbles\n",
    "* Serendipity: Novelty effect\n",
    "* Reliability: Why should users trust in your recommendations? \n",
    "* Coverage: How many items from the product's catalog are being recommended? \n",
    "* Churn: How often do recommendations change?  \n",
    "* Resposiveness: How quickly does new user behavior influence your recommendations? \n",
    "* Cold Start Problem: Managing new items and/or users in the system\n",
    "* Temporal Effect: Your recent data is a stroger evidence of your preferences.\n",
    "* Frauds and Outliers: Bots, fake users and internal tests can affect your recommendations.\n",
    "* Stoplists/Whitelists: Is there any item that you should or shouldn't be recommending regardless of the algorithm's predictions? \n",
    "\n",
    "### 3. The Experiment\n",
    "* Creating my own user to use on the experiment\n",
    "* Testing several different approaches\n",
    "\n",
    "### 4. Evaluation\n",
    "* Trying many different metrics to evaluate the recommeder systems from different aspects\n",
    "\n",
    "### 5. Hybrid Recommender\n",
    "* Hybrid approach considering the best algorithms tested\n",
    "\n",
    "### 6. Conclusions\n",
    "* Final thoughts after all tests\n",
    "\n",
    "### 7. References\n",
    "* Some additional references, posts and courses"
   ]
  },
  {
   "cell_type": "markdown",
   "metadata": {},
   "source": [
    "## 1. Recommender Systems Purposes\n",
    "\n",
    "Recommender Systems help people to discover and/or find out items that they might like from a huge product/item catalog (Paradox of choice), by extracting their preferences from data to generate personalized recommendations. \n",
    "Imagine a platform like Netflix or Spotify without recommendations: Do you think it would be easy to find something you like without bigger effort? Even if you know what you like (some people don't), sometime you will be stucked in your own \"bubble\" and you will never get to know new cool things that you didn't even know that exists. So recommender systems are happy to provide recommedations that you already know and like, but they get even happier when they can find out something useful that you didn't know before!\n",
    "\n",
    "From user's perpecptive a recommender system is good because it can find the best items that fit to their preferences and from the company standpoint it is a way to generate more reveue by exposing users to items from the catalog that they are more likely to buy\n",
    "\n",
    "#### So should we be focusing on profitable items or pure personalized recommendations? \n",
    "\n",
    "Actually we can use some financial information about the item such as its profit margin as a \"tiebreaker\" or a refinement of the final list of recommendations (prescriptive phase) but we need to be careful about this approach because if we recommend only expensive items to the users, they might have the felling we are not trying to improve and personalize their experience but only making money at their expense. \n",
    "\n",
    "Therefore a mix of personalized items, profitable items, trending items, new items, items on offer and any other kind of items we can think of is what we aim to achieve with good recommender systems and it is actually the challenging (and fun) part of building it!"
   ]
  },
  {
   "cell_type": "markdown",
   "metadata": {},
   "source": [
    "## 2. The main concerns we should be aware of \n",
    "\n",
    "### 2.1 - Type of data used to learn the user's preferences\n",
    "The type of data we use to build recommendations is one of the most important point that we should take into account, as it is the core of any preference we can extract from users. We can either use `explicit` or `implicit` users signals/feedback data and each one has their pros and cons\n",
    "\n",
    "#### Explicit\n",
    "* **Pros:**\n",
    "    * We know what each user likes and doesn't like and depending on the scale we can extract **how much** they like or not a particular item (e.g. five Stars ratings)\n",
    "* **Cons:**\n",
    "    * Sparse data issues as users tend to not rating every item consumed. If we compare the rated items from each user to the amount of items available, we have many missing values and that is an issue in user's preferences calculations.\n",
    "\n",
    "#### Implicit\n",
    "* **Pros:**\n",
    "    * It is less sparse than explicit data if we are properly tracking user's behavior \n",
    "    * Less biased as it is not something the users are explicitly **saying** they like or not, but actually showing us with data! (Data is the customer's voice in a large scale).\n",
    "* **Cons:**\n",
    "    * We only know what the users like/consumed: Unlike explict data, users are not saying whether they like or not anything, and we cannot assume that an missing item hasn't been consumed yet because user doesn't like it or simply doesn't know it.\n",
    "    * Some signals could be noisy like `click` data as it is common to accidentally click on something that we didn't want to or even when is not a real person doing it like nots, web scrapers, etc.\n",
    "    \n",
    "> For implicit data maybe it would be necessary to perform some transformations like square or square root in order to emphasize some signals over another (e.g. real interest clicks x misleading clicks). Therefore by transforming the data, some noisy trackings could be automatically ignored in the calculations keeping only the useful signals.\n",
    "\n",
    "\n",
    "### 2.2 - How to measure recommendations quality?\n",
    "\n",
    "This is one of the most challenging part when it comes to RecSys and there are many current reaserches on this field. \n",
    "\n",
    "Traditional Machine Learning Evaluation techinques are not as efficient on most of recommender systems because, in fact optmizing for prediction's accuracy would only make it possible to predict items that users have already consumed, but <u>helping users to find new items</u> they might like is the main goal.\n",
    "\n",
    "This part from [this post](https://gab41.lab41.org/recommender-systems-its-not-all-about-the-accuracy-562c7dceeaff#.5exl13wqv) ilustrates very well this point:\n",
    "\n",
    "\"Imagine you are using a travel recommender system. Suppose all of the recommendations it gives to you are for places you have already traveled to. Even if the system were very good at ranking all of the places you have visited in order of preference, this still would be a poor recommender system. Would you use such a system?\"\n",
    "\n",
    "There are some ways though, inherited from `information retrieval` field for measuring **rank quality** and it has been a commom way to compare and evaluate RecSys since the industry realized that optimizing for accuracy of ratings predicition is not the best approach to generate good recommendations, so they stoped looking for `ratings predictions` and started to optimize for `Top N Recommendations`.\n",
    "\n",
    "> Predicting ratings is still an important piece of the whole system as it can accurately understand people's tastes from the items consumed, however having (only) a good rating predictor doesn't mean that it's a good recommender.\n",
    "\n",
    "We can split the evaluation into 2 parts:\n",
    "\n",
    "1. **OFFLINE:** When you evaluate your recommendations using your own data (i.e. train and test splits) which is very close to others Machine Learning evaluation approaches.\n",
    "\n",
    "2. **ONLINE:** Using AB Tests/Field Tests to evaluate your recommendations by showing them to real users and measuring the outcomes.\n",
    "\n",
    "They are not independent of each other and it would be good to go ONLINE only after passing the OFFLINE checks. Besides you can use different offline metrics according to your RecSys goals and some of these metrics are listed below:\n",
    "\n",
    "* **Diversity:** We need to explore and exploit recommendations so we can burst the user's bubles a little bit and explore new tastes. So diversity is as important metric to track and is one way to calculate this is by the average of `1 - the sum of item similarities score` of each user's recommendation list (Intra-List-Similarity).\n",
    "* **Coverage:** This is the metric that calculates the percentage of items/users are being recommended. RecSys are supposed to have good recommendations for every user and also explore all available content, so it could be calculated as the number of distinct items/users recommended divided by the total of items/users available.\n",
    "* **Serendipity:** This is the level of **surprising** recommendations the users are receiving on average. The calculations are similar to Diversity Intra-List-Similarity mentioned above, but it compares recommended items to items from **users history** rather than similarities between items within the recommendation list, so we can check whether the recommendations are too close to consumed items (hence less surprising stuff).\n",
    "* **Novelty:** Mean popularity rank of recommended items. It is related to the above metric as both are trying to measure how obvious the recommendations are, having the goal of explore and exploit the items in the catalog. If we think that usually there are popular items and niche items in a product/item catalog (Long Tail), novelty would show whether the recommendations are being generated mostly around popular items on average.\n",
    "\n",
    "> The balance between known (or popular) items and novelty is something to be careful about! Users tend to trust more in the recommendations when they are familiar with at least some of the items listed, so too much novelty could make users suspect that something is wrong even when is not.\n",
    "\n",
    "#### Some useful metrics...\n",
    "\n",
    "* **Hit Rate**: If the TOP N list (where N is a pre-defined number like 5 or 10) has something the user has already consumed/liked, it could be considered a \"hit\", so it could be calculated as:\n",
    "\n",
    "### $\\frac{SUM(hits)}{Users}$\n",
    "\n",
    "> We also could use Leave-One-Out approach which is similar to Hit-Rate but leaving one random item out of the testset and measure how often this excluded item is recommended. It is like a cross-validation approach.\n",
    "\n",
    "* **Average Reciprocal Hit Rate (ARHR)**: It is also similar to Hit Rate but accounts for the position of the items, so it penalizes relevant items when they are in lower positions.\n",
    "\n",
    "### $\\frac{SUM(Reciprocal Rank)}{Users}$\n",
    "\n",
    "Where Reciprocal Rank (RR) is like:\n",
    "\n",
    "Rank 1 = RR 1<br>\n",
    "Rank 2 = RR 1/2<br>\n",
    "Rank 3 = RR 1/3<br>\n",
    "\n",
    "* **Ranking Metrics:** Many ranking problems outside of RecSys also use some metrics to evaluate the Top N from a given list of items. Metrics such as `precision@K`, `recall@K`, `f1-score@K`, `MAP` and `NDCG` are great for those ranked lists and more detailed explanations can be found on [this](https://queirozf.com/entries/evaluation-metrics-for-ranking-problems-introduction-and-examples) post.\n",
    "\n",
    "Here are some implementations from `sklearn` of [MAP](https://scikit-learn.org/stable/modules/generated/sklearn.metrics.average_precision_score.html) and [NDCG](https://scikit-learn.org/stable/modules/generated/sklearn.metrics.ndcg_score.html) scores\n",
    "\n",
    "### 2.3 - Some additional things....\n",
    "\n",
    "* **Reliability:** Why should users trust in your recommendations? This is something that Amazon and others usually try to solve by explaning **why** a particular recommendation are presented there, whether it is based on the user's last purchase, last viewed or accessed product and it also enables them to fix and improve the recommendations by removing these items from their list. For example: It could be a one-time gift that does not represent the user's actuall taste.\n",
    "* **Churn:** How often do recommendations change for the users? If the same recommendation is repeatedly appearing for the same user even when he/she has not interacted with it, maybe we could be using this slot in a better way by giving some space for other recommendations. This would be a great chance to explore more items from the catalog and try new tastes for the users. \n",
    "* **Resposiveness:** How quickly does new user behavior influence your recommendations? The system should be robust enough to not change everything just because a small change has happened in user's behavior (e.g. weekends x working days) but it also should be sensitive enough to capture users's major changes/new interactions as quickly as possible. It could be related to how often the calculations are made (Nightly Job Runs, Once in a week, etc).\n",
    "* **Context:** Some external context could affect the user's behavior and it could be used as an input to the system so it can improve user's experience. For example: Depending on the device used, weather, weekday, seasonality and special dates, the system could adapt its recommendations to something that makes more sense in that context. So when you access your Netflix from your mobile device, maybe you are not willing to watch a long movie and could be looking for some short episode of your favorite show instead.\n",
    "\n",
    "\n",
    "#### Cold Start Problem\n",
    "\n",
    "Recommender systems suffer from <u>Cold Start Problem</u> which is when you have a new user or item and don't have enough data yet to provide any useful recommendations. \n",
    "\n",
    "In the case of new user, there are some discussions about how to deal with it like using `non-personalized recommendations` (Top Sellers, Trending Topics, etc). Popular items are popular for some reason right? So they should get attention of a larger group of people. \n",
    "\n",
    "We also can use some `semi-personalized` recommendations like getting user's geo-location from their IP and figure out where they are coming from and show popular items considering their regions for example, or we can simply ask them direclty some useful information or ratings that he/she would give for a particular item during the sign-up process, so we can assign them to a certain group (cluster) of similar people and generate group-based recommendations.\n",
    "\n",
    "Lastly content-based recommendations, exploration techniques like `multi armed bandit` and deep learning with RNNs approaches could be useful specially considering the user's current activies and visited items. Depending on the context it could do a great job, even when the user is not logged on your website/platform. \n",
    "\n",
    "For New Items the issue is a little bit different because it could take a long time until people start consuming it and hence it starts to show up on the recommendation lists, but by having an entire session of your UI only for recent added items can help you to address this. Another approach that could help on this could be randomly mixing some recent items into the final recommendation lists, so if we have 10 slots to fill up with recommendations, we could use 8 of them and let the remaining two for recent items that are more close to the user's taste.\n",
    "\n",
    "All of this could be tested in different versions of your recommender with ONLINE tests to check which one is the best for each business case.\n",
    "\n",
    "\n",
    "#### Temporal Effect: \n",
    "\n",
    "Your recent data is a stroger evidence of your current preferences, so applying some `decay function` that exponentially drops depending on the data recency could improve your recommendations quality, specially if the content are very time-sensitive as the user's tastes might change/evolve over time.\n",
    "\n",
    "A simple and practical `decay function` could be: \n",
    "\n",
    "### $\\frac{interaction value -1}{(time(in days/month/year) + 2)^G}$\n",
    "\n",
    "Where G is soome gravity constant (I usually use 1.8) and interaction value could be both implicit or explicit values.\n",
    "\n",
    "#### Frauds and Outliers: \n",
    "\n",
    "Bots, web crawlers, fake users and Internal Tests can affect the recommendations and similiarities calculations. One way to prevent this is removing *outliers* from the training set and/or check how much you can trust in a certain user's ratings by assessing his/her knowledge about the rated item, for example:\n",
    "\n",
    "1. Trying to keep only consumed items in the data if the UI/System allows users rate unseen movies for example. For implicit data it would be good to perform some `sanity check` to evaluate if the tracking data are correctly capturing the users interactions.\n",
    "2. Implementing some mechanism to ask users things about the item that we already know the answer in order to check the user's knowlegde about the item and also confirm whether he/she is actually a real user, specially in their first interactions. Therefore a level of trust could be calculated based on the answers and used as a weight in this user's ratings so we can refine our similarities calculations as well as the recommendations generated.\n",
    "\n",
    "\n",
    "#### Stoplists/Whitelists: \n",
    "Is there any item that you should or shouldn't be recommending regardless of the algorithms predictions? Maybe so..\n",
    "That's why we can have a stoplist/blacklist and a whiteist/wishlist to control those things.\n",
    "\n",
    "Unethical content like: Porn, Illegal, Cultural matters, Political questions, you name it. For any of these contents, a deeper analysis might be worth. Another example could be an online drugstore recommender that cannot suggest any controled medicine, so these items should be included in a stoplist.\n",
    "\n",
    "The opposite is also true: Is there something the company wants to promote like a new original movie from Netflix or free books ads on Amazon? This could be included in recommendations even when is not part of the calculations, so it is kind of a \"must have list\". "
   ]
  },
  {
   "cell_type": "markdown",
   "metadata": {},
   "source": [
    "## 3. Experiment\n",
    "\n",
    "In this part I'm going to perform experiments and discussions about the main algorithms currently used in recommender systems field in addition to test a hybrid approach after we have some intuition and the experiment's outcomes of the different algorithms tested. The `movielens20K` dataset will be used to create a movie recommender (as usual practice on recommender system experiments) and I'm going to create \"myself\" to be able to subjectively evalute the items recommended with some of the evaluation metrics mentioned earlier."
   ]
  },
  {
   "cell_type": "markdown",
   "metadata": {},
   "source": [
    "###  3.1 - Creating myself =)\n",
    "I'm going to check some of the movies available on the movielens dataset that I've seen before and rate them according to my own taste, so I can use myself as a subject for this experiment"
   ]
  },
  {
   "cell_type": "code",
   "execution_count": 1,
   "metadata": {},
   "outputs": [],
   "source": [
    "import pandas as pd\n",
    "import numpy as np\n",
    "from datetime import datetime, timedelta\n",
    "import matplotlib.pyplot as plt\n",
    "from collections import defaultdict\n",
    "from tqdm import tqdm"
   ]
  },
  {
   "cell_type": "code",
   "execution_count": 2,
   "metadata": {},
   "outputs": [],
   "source": [
    "df_raw_ratings = pd.read_csv('../datasets/ml-latest-small/ratings.csv')\n",
    "df_movies = pd.read_csv('../datasets/ml-latest-small/movies.csv')"
   ]
  },
  {
   "cell_type": "code",
   "execution_count": 3,
   "metadata": {},
   "outputs": [
    {
     "data": {
      "text/html": [
       "<div>\n",
       "<style scoped>\n",
       "    .dataframe tbody tr th:only-of-type {\n",
       "        vertical-align: middle;\n",
       "    }\n",
       "\n",
       "    .dataframe tbody tr th {\n",
       "        vertical-align: top;\n",
       "    }\n",
       "\n",
       "    .dataframe thead th {\n",
       "        text-align: right;\n",
       "    }\n",
       "</style>\n",
       "<table border=\"1\" class=\"dataframe\">\n",
       "  <thead>\n",
       "    <tr style=\"text-align: right;\">\n",
       "      <th></th>\n",
       "      <th>userId</th>\n",
       "      <th>movieId</th>\n",
       "      <th>rating</th>\n",
       "      <th>timestamp</th>\n",
       "    </tr>\n",
       "  </thead>\n",
       "  <tbody>\n",
       "    <tr>\n",
       "      <th>0</th>\n",
       "      <td>1</td>\n",
       "      <td>31</td>\n",
       "      <td>2.5</td>\n",
       "      <td>1260759144</td>\n",
       "    </tr>\n",
       "    <tr>\n",
       "      <th>1</th>\n",
       "      <td>1</td>\n",
       "      <td>1029</td>\n",
       "      <td>3.0</td>\n",
       "      <td>1260759179</td>\n",
       "    </tr>\n",
       "    <tr>\n",
       "      <th>2</th>\n",
       "      <td>1</td>\n",
       "      <td>1061</td>\n",
       "      <td>3.0</td>\n",
       "      <td>1260759182</td>\n",
       "    </tr>\n",
       "    <tr>\n",
       "      <th>3</th>\n",
       "      <td>1</td>\n",
       "      <td>1129</td>\n",
       "      <td>2.0</td>\n",
       "      <td>1260759185</td>\n",
       "    </tr>\n",
       "    <tr>\n",
       "      <th>4</th>\n",
       "      <td>1</td>\n",
       "      <td>1172</td>\n",
       "      <td>4.0</td>\n",
       "      <td>1260759205</td>\n",
       "    </tr>\n",
       "  </tbody>\n",
       "</table>\n",
       "</div>"
      ],
      "text/plain": [
       "   userId  movieId  rating   timestamp\n",
       "0       1       31     2.5  1260759144\n",
       "1       1     1029     3.0  1260759179\n",
       "2       1     1061     3.0  1260759182\n",
       "3       1     1129     2.0  1260759185\n",
       "4       1     1172     4.0  1260759205"
      ]
     },
     "execution_count": 3,
     "metadata": {},
     "output_type": "execute_result"
    }
   ],
   "source": [
    "df_raw_ratings.head()"
   ]
  },
  {
   "cell_type": "code",
   "execution_count": 4,
   "metadata": {},
   "outputs": [
    {
     "data": {
      "text/html": [
       "<div>\n",
       "<style scoped>\n",
       "    .dataframe tbody tr th:only-of-type {\n",
       "        vertical-align: middle;\n",
       "    }\n",
       "\n",
       "    .dataframe tbody tr th {\n",
       "        vertical-align: top;\n",
       "    }\n",
       "\n",
       "    .dataframe thead th {\n",
       "        text-align: right;\n",
       "    }\n",
       "</style>\n",
       "<table border=\"1\" class=\"dataframe\">\n",
       "  <thead>\n",
       "    <tr style=\"text-align: right;\">\n",
       "      <th></th>\n",
       "      <th>movieId</th>\n",
       "      <th>title</th>\n",
       "      <th>genres</th>\n",
       "    </tr>\n",
       "  </thead>\n",
       "  <tbody>\n",
       "    <tr>\n",
       "      <th>0</th>\n",
       "      <td>1</td>\n",
       "      <td>Toy Story (1995)</td>\n",
       "      <td>Adventure|Animation|Children|Comedy|Fantasy</td>\n",
       "    </tr>\n",
       "    <tr>\n",
       "      <th>1</th>\n",
       "      <td>2</td>\n",
       "      <td>Jumanji (1995)</td>\n",
       "      <td>Adventure|Children|Fantasy</td>\n",
       "    </tr>\n",
       "    <tr>\n",
       "      <th>2</th>\n",
       "      <td>3</td>\n",
       "      <td>Grumpier Old Men (1995)</td>\n",
       "      <td>Comedy|Romance</td>\n",
       "    </tr>\n",
       "    <tr>\n",
       "      <th>3</th>\n",
       "      <td>4</td>\n",
       "      <td>Waiting to Exhale (1995)</td>\n",
       "      <td>Comedy|Drama|Romance</td>\n",
       "    </tr>\n",
       "    <tr>\n",
       "      <th>4</th>\n",
       "      <td>5</td>\n",
       "      <td>Father of the Bride Part II (1995)</td>\n",
       "      <td>Comedy</td>\n",
       "    </tr>\n",
       "  </tbody>\n",
       "</table>\n",
       "</div>"
      ],
      "text/plain": [
       "   movieId                               title  \\\n",
       "0        1                    Toy Story (1995)   \n",
       "1        2                      Jumanji (1995)   \n",
       "2        3             Grumpier Old Men (1995)   \n",
       "3        4            Waiting to Exhale (1995)   \n",
       "4        5  Father of the Bride Part II (1995)   \n",
       "\n",
       "                                        genres  \n",
       "0  Adventure|Animation|Children|Comedy|Fantasy  \n",
       "1                   Adventure|Children|Fantasy  \n",
       "2                               Comedy|Romance  \n",
       "3                         Comedy|Drama|Romance  \n",
       "4                                       Comedy  "
      ]
     },
     "execution_count": 4,
     "metadata": {},
     "output_type": "execute_result"
    }
   ],
   "source": [
    "df_movies.head()"
   ]
  },
  {
   "cell_type": "code",
   "execution_count": 5,
   "metadata": {},
   "outputs": [
    {
     "name": "stdout",
     "output_type": "stream",
     "text": [
      "My ID is 672\n"
     ]
    }
   ],
   "source": [
    "my_id = df_raw_ratings['userId'].max()+1\n",
    "max_timestamp = df_raw_ratings['timestamp'].max()\n",
    "\n",
    "print(f\"My ID is {my_id}\")"
   ]
  },
  {
   "cell_type": "code",
   "execution_count": 6,
   "metadata": {},
   "outputs": [],
   "source": [
    "my_ratings = [(my_id, 673, 'Space Jam (1996)', 3.5),\n",
    "              (my_id, 1274, 'Akira (1988)', 3.0),\n",
    "              (my_id, 1580, 'Men in Black (a.k.a. MIB) (1997)', 3.0),\n",
    "              (my_id, 1591, 'Spawn (1997)', 3.0),\n",
    "              (my_id, 1682, 'Truman Show, The (1998)', 4.5),\n",
    "              (my_id, 1917, 'Armageddon (1998)', 5.0),\n",
    "              (my_id, 2571, 'Matrix, The (1999)', 5.0),\n",
    "              (my_id, 3793, 'X-Men (2000)', 4.0),\n",
    "              (my_id, 4643,'Planet of the Apes (2001)', 4.0),\n",
    "              (my_id, 5219, 'Resident Evil (2002)', 4.5),\n",
    "              (my_id, 5445, 'Minority Report (2002)', 5.0),\n",
    "              (my_id, 5349, 'Spider-Man (2002)', 3.5),\n",
    "              (my_id, 7254, 'The Butterfly Effect (2004)', 5.0),\n",
    "              (my_id, 82461, 'Tron: Legacy (2010)', 4.0),\n",
    "              (my_id, 89745, 'Avengers, The (2012)', 5.0),\n",
    "              (my_id, 122892, 'Avengers: Age of Ultron (2015)', 5.0),\n",
    "              (my_id, 122920, 'Captain America: Civil War (2016)', 5.0),\n",
    "              (my_id, 4720, 'Others, The (2001)', 4.0),\n",
    "              (my_id, 7361, 'Eternal Sunshine of the Spotless Mind (2004)', 5.0),\n",
    "              (my_id, 47099, 'Pursuit of Happyness, The (2006)', 5.0),\n",
    "              (my_id, 58803, '21 (2008)', 4.5),\n",
    "              (my_id, 367, 'Mask, The (1994)', 3.5),\n",
    "              (my_id, 33794, 'Batman Begins (2005)', 3.0),\n",
    "              (my_id, 110, 'Braveheart (1995)', 3.0),\n",
    "              (my_id, 43871, 'Firewall (2006)', 3.5),\n",
    "              (my_id, 106782, 'Wolf of Wall Street, The (2013)', 4.0),\n",
    "              (my_id, 148626, 'Big Short, The (2015)', 5.0)]"
   ]
  },
  {
   "cell_type": "code",
   "execution_count": 7,
   "metadata": {
    "scrolled": true
   },
   "outputs": [
    {
     "name": "stdout",
     "output_type": "stream",
     "text": [
      "27 movies have been rated to this experiment\n"
     ]
    }
   ],
   "source": [
    "print(f\"{len(my_ratings)} movies have been rated to this experiment\")"
   ]
  },
  {
   "cell_type": "code",
   "execution_count": 8,
   "metadata": {},
   "outputs": [],
   "source": [
    "df_my_ratings = pd.DataFrame(my_ratings, columns=['userId', 'movieId', 'title', 'rating'])"
   ]
  },
  {
   "cell_type": "code",
   "execution_count": 9,
   "metadata": {},
   "outputs": [],
   "source": [
    "df_my_ratings.drop('title', axis=1, inplace=True)"
   ]
  },
  {
   "cell_type": "code",
   "execution_count": 10,
   "metadata": {},
   "outputs": [],
   "source": [
    "df_my_ratings['timestamp'] = max_timestamp"
   ]
  },
  {
   "cell_type": "code",
   "execution_count": 11,
   "metadata": {},
   "outputs": [
    {
     "data": {
      "text/html": [
       "<div>\n",
       "<style scoped>\n",
       "    .dataframe tbody tr th:only-of-type {\n",
       "        vertical-align: middle;\n",
       "    }\n",
       "\n",
       "    .dataframe tbody tr th {\n",
       "        vertical-align: top;\n",
       "    }\n",
       "\n",
       "    .dataframe thead th {\n",
       "        text-align: right;\n",
       "    }\n",
       "</style>\n",
       "<table border=\"1\" class=\"dataframe\">\n",
       "  <thead>\n",
       "    <tr style=\"text-align: right;\">\n",
       "      <th></th>\n",
       "      <th>userId</th>\n",
       "      <th>movieId</th>\n",
       "      <th>rating</th>\n",
       "      <th>timestamp</th>\n",
       "    </tr>\n",
       "  </thead>\n",
       "  <tbody>\n",
       "    <tr>\n",
       "      <th>0</th>\n",
       "      <td>672</td>\n",
       "      <td>673</td>\n",
       "      <td>3.5</td>\n",
       "      <td>1476640644</td>\n",
       "    </tr>\n",
       "    <tr>\n",
       "      <th>1</th>\n",
       "      <td>672</td>\n",
       "      <td>1274</td>\n",
       "      <td>3.0</td>\n",
       "      <td>1476640644</td>\n",
       "    </tr>\n",
       "    <tr>\n",
       "      <th>2</th>\n",
       "      <td>672</td>\n",
       "      <td>1580</td>\n",
       "      <td>3.0</td>\n",
       "      <td>1476640644</td>\n",
       "    </tr>\n",
       "    <tr>\n",
       "      <th>3</th>\n",
       "      <td>672</td>\n",
       "      <td>1591</td>\n",
       "      <td>3.0</td>\n",
       "      <td>1476640644</td>\n",
       "    </tr>\n",
       "    <tr>\n",
       "      <th>4</th>\n",
       "      <td>672</td>\n",
       "      <td>1682</td>\n",
       "      <td>4.5</td>\n",
       "      <td>1476640644</td>\n",
       "    </tr>\n",
       "  </tbody>\n",
       "</table>\n",
       "</div>"
      ],
      "text/plain": [
       "   userId  movieId  rating   timestamp\n",
       "0     672      673     3.5  1476640644\n",
       "1     672     1274     3.0  1476640644\n",
       "2     672     1580     3.0  1476640644\n",
       "3     672     1591     3.0  1476640644\n",
       "4     672     1682     4.5  1476640644"
      ]
     },
     "execution_count": 11,
     "metadata": {},
     "output_type": "execute_result"
    }
   ],
   "source": [
    "df_my_ratings.head()"
   ]
  },
  {
   "cell_type": "code",
   "execution_count": 12,
   "metadata": {},
   "outputs": [],
   "source": [
    "df_ratings = pd.concat([df_my_ratings, df_raw_ratings])"
   ]
  },
  {
   "cell_type": "code",
   "execution_count": 13,
   "metadata": {},
   "outputs": [],
   "source": [
    "test_user = my_id"
   ]
  },
  {
   "cell_type": "markdown",
   "metadata": {},
   "source": [
    "### 3.2 - Pre-Processing"
   ]
  },
  {
   "cell_type": "markdown",
   "metadata": {},
   "source": [
    "### 3.2.1 - Weighting Ratings according to their aging"
   ]
  },
  {
   "cell_type": "code",
   "execution_count": 14,
   "metadata": {},
   "outputs": [],
   "source": [
    "df_aux_raw = df_ratings.copy()"
   ]
  },
  {
   "cell_type": "code",
   "execution_count": 15,
   "metadata": {},
   "outputs": [],
   "source": [
    "df_aux_raw['timestamp'] = df_aux_raw['timestamp'].apply(lambda x: datetime.fromtimestamp(x))"
   ]
  },
  {
   "cell_type": "code",
   "execution_count": 16,
   "metadata": {},
   "outputs": [],
   "source": [
    "df_max_rating_users = df_aux_raw[['userId', 'timestamp']].groupby('userId').max().reset_index()\n",
    "df_max_rating_users.columns = ['userId', 'last_review_date']"
   ]
  },
  {
   "cell_type": "code",
   "execution_count": 17,
   "metadata": {},
   "outputs": [],
   "source": [
    "df_aux_raw = df_aux_raw.merge(df_max_rating_users, on='userId')"
   ]
  },
  {
   "cell_type": "code",
   "execution_count": 18,
   "metadata": {},
   "outputs": [],
   "source": [
    "df_aux_raw['diff_date'] = df_aux_raw['last_review_date'] - df_aux_raw['timestamp']\n",
    "df_aux_raw['diff_date'] = df_aux_raw['diff_date'].apply(lambda x: np.ceil(x.days/30.0))"
   ]
  },
  {
   "cell_type": "code",
   "execution_count": 19,
   "metadata": {},
   "outputs": [],
   "source": [
    "def get_weight_rating(rating, days):\n",
    "    return rating / np.power(days+1, 0.1)"
   ]
  },
  {
   "cell_type": "code",
   "execution_count": 20,
   "metadata": {},
   "outputs": [],
   "source": [
    "df_aux_raw['weighted_rating'] = df_aux_raw.apply(lambda x: get_weight_rating(x['rating'], \n",
    "                                                                             x['diff_date']), axis=1)"
   ]
  },
  {
   "cell_type": "code",
   "execution_count": 21,
   "metadata": {},
   "outputs": [
    {
     "data": {
      "text/html": [
       "<div>\n",
       "<style scoped>\n",
       "    .dataframe tbody tr th:only-of-type {\n",
       "        vertical-align: middle;\n",
       "    }\n",
       "\n",
       "    .dataframe tbody tr th {\n",
       "        vertical-align: top;\n",
       "    }\n",
       "\n",
       "    .dataframe thead th {\n",
       "        text-align: right;\n",
       "    }\n",
       "</style>\n",
       "<table border=\"1\" class=\"dataframe\">\n",
       "  <thead>\n",
       "    <tr style=\"text-align: right;\">\n",
       "      <th></th>\n",
       "      <th>userId</th>\n",
       "      <th>movieId</th>\n",
       "      <th>rating</th>\n",
       "      <th>timestamp</th>\n",
       "      <th>last_review_date</th>\n",
       "      <th>diff_date</th>\n",
       "      <th>weighted_rating</th>\n",
       "    </tr>\n",
       "  </thead>\n",
       "  <tbody>\n",
       "    <tr>\n",
       "      <th>0</th>\n",
       "      <td>672</td>\n",
       "      <td>673</td>\n",
       "      <td>3.5</td>\n",
       "      <td>2016-10-16 15:57:24</td>\n",
       "      <td>2016-10-16 15:57:24</td>\n",
       "      <td>0.0</td>\n",
       "      <td>3.5</td>\n",
       "    </tr>\n",
       "    <tr>\n",
       "      <th>1</th>\n",
       "      <td>672</td>\n",
       "      <td>1274</td>\n",
       "      <td>3.0</td>\n",
       "      <td>2016-10-16 15:57:24</td>\n",
       "      <td>2016-10-16 15:57:24</td>\n",
       "      <td>0.0</td>\n",
       "      <td>3.0</td>\n",
       "    </tr>\n",
       "    <tr>\n",
       "      <th>2</th>\n",
       "      <td>672</td>\n",
       "      <td>1580</td>\n",
       "      <td>3.0</td>\n",
       "      <td>2016-10-16 15:57:24</td>\n",
       "      <td>2016-10-16 15:57:24</td>\n",
       "      <td>0.0</td>\n",
       "      <td>3.0</td>\n",
       "    </tr>\n",
       "    <tr>\n",
       "      <th>3</th>\n",
       "      <td>672</td>\n",
       "      <td>1591</td>\n",
       "      <td>3.0</td>\n",
       "      <td>2016-10-16 15:57:24</td>\n",
       "      <td>2016-10-16 15:57:24</td>\n",
       "      <td>0.0</td>\n",
       "      <td>3.0</td>\n",
       "    </tr>\n",
       "    <tr>\n",
       "      <th>4</th>\n",
       "      <td>672</td>\n",
       "      <td>1682</td>\n",
       "      <td>4.5</td>\n",
       "      <td>2016-10-16 15:57:24</td>\n",
       "      <td>2016-10-16 15:57:24</td>\n",
       "      <td>0.0</td>\n",
       "      <td>4.5</td>\n",
       "    </tr>\n",
       "  </tbody>\n",
       "</table>\n",
       "</div>"
      ],
      "text/plain": [
       "   userId  movieId  rating           timestamp    last_review_date  diff_date  \\\n",
       "0     672      673     3.5 2016-10-16 15:57:24 2016-10-16 15:57:24        0.0   \n",
       "1     672     1274     3.0 2016-10-16 15:57:24 2016-10-16 15:57:24        0.0   \n",
       "2     672     1580     3.0 2016-10-16 15:57:24 2016-10-16 15:57:24        0.0   \n",
       "3     672     1591     3.0 2016-10-16 15:57:24 2016-10-16 15:57:24        0.0   \n",
       "4     672     1682     4.5 2016-10-16 15:57:24 2016-10-16 15:57:24        0.0   \n",
       "\n",
       "   weighted_rating  \n",
       "0              3.5  \n",
       "1              3.0  \n",
       "2              3.0  \n",
       "3              3.0  \n",
       "4              4.5  "
      ]
     },
     "execution_count": 21,
     "metadata": {},
     "output_type": "execute_result"
    }
   ],
   "source": [
    "df_aux_raw.head()"
   ]
  },
  {
   "cell_type": "code",
   "execution_count": 22,
   "metadata": {},
   "outputs": [],
   "source": [
    "df_ratings = df_aux_raw[['userId', 'movieId', 'weighted_rating', 'timestamp']].copy()\n",
    "df_ratings.columns = ['userId', 'movieId', 'ratings', 'timestamp']"
   ]
  },
  {
   "cell_type": "markdown",
   "metadata": {},
   "source": [
    "### 3.2.2 - Movies Genres"
   ]
  },
  {
   "cell_type": "code",
   "execution_count": 23,
   "metadata": {},
   "outputs": [],
   "source": [
    "from sklearn.metrics.pairwise import cosine_similarity, pairwise_distances"
   ]
  },
  {
   "cell_type": "code",
   "execution_count": 24,
   "metadata": {},
   "outputs": [
    {
     "data": {
      "text/html": [
       "<div>\n",
       "<style scoped>\n",
       "    .dataframe tbody tr th:only-of-type {\n",
       "        vertical-align: middle;\n",
       "    }\n",
       "\n",
       "    .dataframe tbody tr th {\n",
       "        vertical-align: top;\n",
       "    }\n",
       "\n",
       "    .dataframe thead th {\n",
       "        text-align: right;\n",
       "    }\n",
       "</style>\n",
       "<table border=\"1\" class=\"dataframe\">\n",
       "  <thead>\n",
       "    <tr style=\"text-align: right;\">\n",
       "      <th></th>\n",
       "      <th>movieId</th>\n",
       "      <th>title</th>\n",
       "      <th>genres</th>\n",
       "    </tr>\n",
       "  </thead>\n",
       "  <tbody>\n",
       "    <tr>\n",
       "      <th>0</th>\n",
       "      <td>1</td>\n",
       "      <td>Toy Story (1995)</td>\n",
       "      <td>Adventure|Animation|Children|Comedy|Fantasy</td>\n",
       "    </tr>\n",
       "    <tr>\n",
       "      <th>1</th>\n",
       "      <td>2</td>\n",
       "      <td>Jumanji (1995)</td>\n",
       "      <td>Adventure|Children|Fantasy</td>\n",
       "    </tr>\n",
       "    <tr>\n",
       "      <th>2</th>\n",
       "      <td>3</td>\n",
       "      <td>Grumpier Old Men (1995)</td>\n",
       "      <td>Comedy|Romance</td>\n",
       "    </tr>\n",
       "    <tr>\n",
       "      <th>3</th>\n",
       "      <td>4</td>\n",
       "      <td>Waiting to Exhale (1995)</td>\n",
       "      <td>Comedy|Drama|Romance</td>\n",
       "    </tr>\n",
       "    <tr>\n",
       "      <th>4</th>\n",
       "      <td>5</td>\n",
       "      <td>Father of the Bride Part II (1995)</td>\n",
       "      <td>Comedy</td>\n",
       "    </tr>\n",
       "  </tbody>\n",
       "</table>\n",
       "</div>"
      ],
      "text/plain": [
       "   movieId                               title  \\\n",
       "0        1                    Toy Story (1995)   \n",
       "1        2                      Jumanji (1995)   \n",
       "2        3             Grumpier Old Men (1995)   \n",
       "3        4            Waiting to Exhale (1995)   \n",
       "4        5  Father of the Bride Part II (1995)   \n",
       "\n",
       "                                        genres  \n",
       "0  Adventure|Animation|Children|Comedy|Fantasy  \n",
       "1                   Adventure|Children|Fantasy  \n",
       "2                               Comedy|Romance  \n",
       "3                         Comedy|Drama|Romance  \n",
       "4                                       Comedy  "
      ]
     },
     "execution_count": 24,
     "metadata": {},
     "output_type": "execute_result"
    }
   ],
   "source": [
    "df_movies.head()"
   ]
  },
  {
   "cell_type": "code",
   "execution_count": 25,
   "metadata": {},
   "outputs": [],
   "source": [
    "df_movies['genres'] = df_movies['genres'].apply(lambda x: x.split('|'))"
   ]
  },
  {
   "cell_type": "code",
   "execution_count": 26,
   "metadata": {},
   "outputs": [],
   "source": [
    "movies_list = []\n",
    "for movie in df_movies.values:\n",
    "    for genre in movie[2]:\n",
    "        movies_list.append((movie[0], movie[1], genre))"
   ]
  },
  {
   "cell_type": "code",
   "execution_count": 27,
   "metadata": {},
   "outputs": [],
   "source": [
    "df_movies_aux = pd.DataFrame(movies_list, columns = ['movieId', 'title', 'genre'])"
   ]
  },
  {
   "cell_type": "code",
   "execution_count": 28,
   "metadata": {},
   "outputs": [],
   "source": [
    "df_movies_aux['flg_genre'] = np.ones(len(df_movies_aux))"
   ]
  },
  {
   "cell_type": "code",
   "execution_count": 29,
   "metadata": {},
   "outputs": [
    {
     "data": {
      "text/html": [
       "<div>\n",
       "<style scoped>\n",
       "    .dataframe tbody tr th:only-of-type {\n",
       "        vertical-align: middle;\n",
       "    }\n",
       "\n",
       "    .dataframe tbody tr th {\n",
       "        vertical-align: top;\n",
       "    }\n",
       "\n",
       "    .dataframe thead th {\n",
       "        text-align: right;\n",
       "    }\n",
       "</style>\n",
       "<table border=\"1\" class=\"dataframe\">\n",
       "  <thead>\n",
       "    <tr style=\"text-align: right;\">\n",
       "      <th></th>\n",
       "      <th>movieId</th>\n",
       "      <th>title</th>\n",
       "      <th>genre</th>\n",
       "      <th>flg_genre</th>\n",
       "    </tr>\n",
       "  </thead>\n",
       "  <tbody>\n",
       "    <tr>\n",
       "      <th>0</th>\n",
       "      <td>1</td>\n",
       "      <td>Toy Story (1995)</td>\n",
       "      <td>Adventure</td>\n",
       "      <td>1.0</td>\n",
       "    </tr>\n",
       "    <tr>\n",
       "      <th>1</th>\n",
       "      <td>1</td>\n",
       "      <td>Toy Story (1995)</td>\n",
       "      <td>Animation</td>\n",
       "      <td>1.0</td>\n",
       "    </tr>\n",
       "    <tr>\n",
       "      <th>2</th>\n",
       "      <td>1</td>\n",
       "      <td>Toy Story (1995)</td>\n",
       "      <td>Children</td>\n",
       "      <td>1.0</td>\n",
       "    </tr>\n",
       "    <tr>\n",
       "      <th>3</th>\n",
       "      <td>1</td>\n",
       "      <td>Toy Story (1995)</td>\n",
       "      <td>Comedy</td>\n",
       "      <td>1.0</td>\n",
       "    </tr>\n",
       "    <tr>\n",
       "      <th>4</th>\n",
       "      <td>1</td>\n",
       "      <td>Toy Story (1995)</td>\n",
       "      <td>Fantasy</td>\n",
       "      <td>1.0</td>\n",
       "    </tr>\n",
       "  </tbody>\n",
       "</table>\n",
       "</div>"
      ],
      "text/plain": [
       "   movieId             title      genre  flg_genre\n",
       "0        1  Toy Story (1995)  Adventure        1.0\n",
       "1        1  Toy Story (1995)  Animation        1.0\n",
       "2        1  Toy Story (1995)   Children        1.0\n",
       "3        1  Toy Story (1995)     Comedy        1.0\n",
       "4        1  Toy Story (1995)    Fantasy        1.0"
      ]
     },
     "execution_count": 29,
     "metadata": {},
     "output_type": "execute_result"
    }
   ],
   "source": [
    "df_movies_aux.head()"
   ]
  },
  {
   "cell_type": "code",
   "execution_count": 30,
   "metadata": {},
   "outputs": [],
   "source": [
    "df_movies_pvt = df_movies_aux.pivot_table(index=['movieId'],\n",
    "                                          columns=['genre'],\n",
    "                                          values=['flg_genre'],\n",
    "                                          aggfunc='max').fillna(0.0)"
   ]
  },
  {
   "cell_type": "code",
   "execution_count": 31,
   "metadata": {},
   "outputs": [],
   "source": [
    "df_movie_sim = 1 - pairwise_distances(df_movies_pvt, metric='cosine')"
   ]
  },
  {
   "cell_type": "code",
   "execution_count": 32,
   "metadata": {},
   "outputs": [],
   "source": [
    "df_movie_sim = pd.DataFrame(df_movie_sim, index=df_movies_aux['movieId'].unique(), \n",
    "                            columns=df_movies_aux['movieId'].unique())"
   ]
  },
  {
   "cell_type": "code",
   "execution_count": 33,
   "metadata": {},
   "outputs": [
    {
     "data": {
      "text/html": [
       "<div>\n",
       "<style scoped>\n",
       "    .dataframe tbody tr th:only-of-type {\n",
       "        vertical-align: middle;\n",
       "    }\n",
       "\n",
       "    .dataframe tbody tr th {\n",
       "        vertical-align: top;\n",
       "    }\n",
       "\n",
       "    .dataframe thead th {\n",
       "        text-align: right;\n",
       "    }\n",
       "</style>\n",
       "<table border=\"1\" class=\"dataframe\">\n",
       "  <thead>\n",
       "    <tr style=\"text-align: right;\">\n",
       "      <th></th>\n",
       "      <th>1</th>\n",
       "      <th>2</th>\n",
       "      <th>3</th>\n",
       "      <th>4</th>\n",
       "      <th>5</th>\n",
       "      <th>6</th>\n",
       "      <th>7</th>\n",
       "      <th>8</th>\n",
       "      <th>9</th>\n",
       "      <th>10</th>\n",
       "      <th>...</th>\n",
       "      <th>161830</th>\n",
       "      <th>161918</th>\n",
       "      <th>161944</th>\n",
       "      <th>162376</th>\n",
       "      <th>162542</th>\n",
       "      <th>162672</th>\n",
       "      <th>163056</th>\n",
       "      <th>163949</th>\n",
       "      <th>164977</th>\n",
       "      <th>164979</th>\n",
       "    </tr>\n",
       "  </thead>\n",
       "  <tbody>\n",
       "    <tr>\n",
       "      <th>1</th>\n",
       "      <td>1.000000</td>\n",
       "      <td>0.774597</td>\n",
       "      <td>0.316228</td>\n",
       "      <td>0.258199</td>\n",
       "      <td>0.447214</td>\n",
       "      <td>0.0</td>\n",
       "      <td>0.316228</td>\n",
       "      <td>0.632456</td>\n",
       "      <td>0.0</td>\n",
       "      <td>0.258199</td>\n",
       "      <td>...</td>\n",
       "      <td>0.000000</td>\n",
       "      <td>0.223607</td>\n",
       "      <td>0.00000</td>\n",
       "      <td>0.00000</td>\n",
       "      <td>0.000000</td>\n",
       "      <td>0.258199</td>\n",
       "      <td>0.447214</td>\n",
       "      <td>0.0</td>\n",
       "      <td>0.447214</td>\n",
       "      <td>0.0</td>\n",
       "    </tr>\n",
       "    <tr>\n",
       "      <th>2</th>\n",
       "      <td>0.774597</td>\n",
       "      <td>1.000000</td>\n",
       "      <td>0.000000</td>\n",
       "      <td>0.000000</td>\n",
       "      <td>0.000000</td>\n",
       "      <td>0.0</td>\n",
       "      <td>0.000000</td>\n",
       "      <td>0.816497</td>\n",
       "      <td>0.0</td>\n",
       "      <td>0.333333</td>\n",
       "      <td>...</td>\n",
       "      <td>0.000000</td>\n",
       "      <td>0.288675</td>\n",
       "      <td>0.00000</td>\n",
       "      <td>0.00000</td>\n",
       "      <td>0.000000</td>\n",
       "      <td>0.333333</td>\n",
       "      <td>0.577350</td>\n",
       "      <td>0.0</td>\n",
       "      <td>0.000000</td>\n",
       "      <td>0.0</td>\n",
       "    </tr>\n",
       "    <tr>\n",
       "      <th>3</th>\n",
       "      <td>0.316228</td>\n",
       "      <td>0.000000</td>\n",
       "      <td>1.000000</td>\n",
       "      <td>0.816497</td>\n",
       "      <td>0.707107</td>\n",
       "      <td>0.0</td>\n",
       "      <td>1.000000</td>\n",
       "      <td>0.000000</td>\n",
       "      <td>0.0</td>\n",
       "      <td>0.000000</td>\n",
       "      <td>...</td>\n",
       "      <td>0.000000</td>\n",
       "      <td>0.000000</td>\n",
       "      <td>0.00000</td>\n",
       "      <td>0.00000</td>\n",
       "      <td>0.500000</td>\n",
       "      <td>0.408248</td>\n",
       "      <td>0.000000</td>\n",
       "      <td>0.0</td>\n",
       "      <td>0.707107</td>\n",
       "      <td>0.0</td>\n",
       "    </tr>\n",
       "    <tr>\n",
       "      <th>4</th>\n",
       "      <td>0.258199</td>\n",
       "      <td>0.000000</td>\n",
       "      <td>0.816497</td>\n",
       "      <td>1.000000</td>\n",
       "      <td>0.577350</td>\n",
       "      <td>0.0</td>\n",
       "      <td>0.816497</td>\n",
       "      <td>0.000000</td>\n",
       "      <td>0.0</td>\n",
       "      <td>0.000000</td>\n",
       "      <td>...</td>\n",
       "      <td>0.333333</td>\n",
       "      <td>0.000000</td>\n",
       "      <td>0.57735</td>\n",
       "      <td>0.57735</td>\n",
       "      <td>0.408248</td>\n",
       "      <td>0.666667</td>\n",
       "      <td>0.000000</td>\n",
       "      <td>0.0</td>\n",
       "      <td>0.577350</td>\n",
       "      <td>0.0</td>\n",
       "    </tr>\n",
       "    <tr>\n",
       "      <th>5</th>\n",
       "      <td>0.447214</td>\n",
       "      <td>0.000000</td>\n",
       "      <td>0.707107</td>\n",
       "      <td>0.577350</td>\n",
       "      <td>1.000000</td>\n",
       "      <td>0.0</td>\n",
       "      <td>0.707107</td>\n",
       "      <td>0.000000</td>\n",
       "      <td>0.0</td>\n",
       "      <td>0.000000</td>\n",
       "      <td>...</td>\n",
       "      <td>0.000000</td>\n",
       "      <td>0.000000</td>\n",
       "      <td>0.00000</td>\n",
       "      <td>0.00000</td>\n",
       "      <td>0.000000</td>\n",
       "      <td>0.000000</td>\n",
       "      <td>0.000000</td>\n",
       "      <td>0.0</td>\n",
       "      <td>1.000000</td>\n",
       "      <td>0.0</td>\n",
       "    </tr>\n",
       "  </tbody>\n",
       "</table>\n",
       "<p>5 rows × 9125 columns</p>\n",
       "</div>"
      ],
      "text/plain": [
       "     1         2         3         4         5       6         7       \\\n",
       "1  1.000000  0.774597  0.316228  0.258199  0.447214     0.0  0.316228   \n",
       "2  0.774597  1.000000  0.000000  0.000000  0.000000     0.0  0.000000   \n",
       "3  0.316228  0.000000  1.000000  0.816497  0.707107     0.0  1.000000   \n",
       "4  0.258199  0.000000  0.816497  1.000000  0.577350     0.0  0.816497   \n",
       "5  0.447214  0.000000  0.707107  0.577350  1.000000     0.0  0.707107   \n",
       "\n",
       "     8       9         10      ...    161830    161918   161944   162376  \\\n",
       "1  0.632456     0.0  0.258199  ...  0.000000  0.223607  0.00000  0.00000   \n",
       "2  0.816497     0.0  0.333333  ...  0.000000  0.288675  0.00000  0.00000   \n",
       "3  0.000000     0.0  0.000000  ...  0.000000  0.000000  0.00000  0.00000   \n",
       "4  0.000000     0.0  0.000000  ...  0.333333  0.000000  0.57735  0.57735   \n",
       "5  0.000000     0.0  0.000000  ...  0.000000  0.000000  0.00000  0.00000   \n",
       "\n",
       "     162542    162672    163056  163949    164977  164979  \n",
       "1  0.000000  0.258199  0.447214     0.0  0.447214     0.0  \n",
       "2  0.000000  0.333333  0.577350     0.0  0.000000     0.0  \n",
       "3  0.500000  0.408248  0.000000     0.0  0.707107     0.0  \n",
       "4  0.408248  0.666667  0.000000     0.0  0.577350     0.0  \n",
       "5  0.000000  0.000000  0.000000     0.0  1.000000     0.0  \n",
       "\n",
       "[5 rows x 9125 columns]"
      ]
     },
     "execution_count": 33,
     "metadata": {},
     "output_type": "execute_result"
    }
   ],
   "source": [
    "df_movie_sim.head()"
   ]
  },
  {
   "cell_type": "code",
   "execution_count": 34,
   "metadata": {},
   "outputs": [],
   "source": [
    "df_movie_rating_pvt = df_ratings.pivot(index='movieId',\n",
    "                                       columns='userId',\n",
    "                                       values='ratings').fillna(0.0)\n",
    "df_movie_ratings_sim = pairwise_distances(df_movie_rating_pvt,metric='cosine')"
   ]
  },
  {
   "cell_type": "code",
   "execution_count": 35,
   "metadata": {},
   "outputs": [],
   "source": [
    "df_movie_ratings_sim = pd.DataFrame(df_movie_ratings_sim,\n",
    "                                    columns=df_ratings['movieId'].unique(),\n",
    "                                    index=df_ratings['movieId'].unique())"
   ]
  },
  {
   "cell_type": "markdown",
   "metadata": {},
   "source": [
    "## 3.3 - Calculating Recommendations"
   ]
  },
  {
   "cell_type": "markdown",
   "metadata": {},
   "source": [
    "### 3.3.1 - Item-Item Colaborative Filtering\n",
    "\n",
    "The first thing we're going to try is the weighted average score using two kinds of item's similarity to come up with recommendations.\n",
    "\n",
    "The difference is on how we calculate the movies similarities, either based on their genres or ratings (which is something like: \"people who liked this movie also like this one\")"
   ]
  },
  {
   "cell_type": "code",
   "execution_count": 36,
   "metadata": {},
   "outputs": [],
   "source": [
    "# Getting the items I liked (greater or equal to 4 stars) and the respective ratings\n",
    "test_users_ratings = df_ratings[(df_ratings['userId'] == test_user) &\n",
    "                               (df_ratings['ratings'] >= 4)][['ratings','movieId']]"
   ]
  },
  {
   "cell_type": "code",
   "execution_count": 37,
   "metadata": {},
   "outputs": [],
   "source": [
    "def get_item_item_score(user, item, df_sim, k=10):\n",
    "         \n",
    "    user_ratings = test_users_ratings.copy()\n",
    "    \n",
    "    if item in df_sim.index:\n",
    "        user_ratings['sim'] = user_ratings['movieId'].apply(lambda x: df_sim.loc[item,x])\n",
    "    \n",
    "        ratings = user_ratings.sort_values(by=['sim'], ascending=False)[:k]\n",
    "\n",
    "        score = 0\n",
    "        total_sim = 0\n",
    "\n",
    "        for rating, movie, sim in ratings.values:\n",
    "            score += rating * sim\n",
    "            total_sim += sim\n",
    "\n",
    "        return score / total_sim\n",
    "    else:\n",
    "        return 0.0\n",
    "    "
   ]
  },
  {
   "cell_type": "code",
   "execution_count": 38,
   "metadata": {},
   "outputs": [],
   "source": [
    "#Experiment 1 - Item Item based on genres similarity \n",
    "exp_1 = df_movies['movieId'].apply(lambda x: get_item_item_score(test_user, x, df_movie_sim, 10))"
   ]
  },
  {
   "cell_type": "code",
   "execution_count": 39,
   "metadata": {},
   "outputs": [],
   "source": [
    "#Experiment 1.1 - Item Item based on ratings similarity \n",
    "exp_1_1 = df_movies['movieId'].apply(lambda x: get_item_item_score(test_user,x, df_movie_ratings_sim, 10))"
   ]
  },
  {
   "cell_type": "code",
   "execution_count": 40,
   "metadata": {},
   "outputs": [],
   "source": [
    "df_exp_1 = pd.DataFrame(exp_1.values, index=df_movies['movieId'], columns=['sim'])\n",
    "df_exp_1_1 = pd.DataFrame(exp_1_1.values, index=df_movies['movieId'], columns=['sim'])"
   ]
  },
  {
   "cell_type": "code",
   "execution_count": 41,
   "metadata": {},
   "outputs": [],
   "source": [
    "## Removing seen movies from the final recomendations\n",
    "user_seen_movies = df_ratings[df_ratings['userId'] == test_user]['movieId'].unique().tolist()\n",
    "\n",
    "df_exp_1.loc[user_seen_movies, 'sim'] = 0.0\n",
    "df_exp_1_1.loc[user_seen_movies, 'sim'] = 0.0"
   ]
  },
  {
   "cell_type": "code",
   "execution_count": 42,
   "metadata": {},
   "outputs": [],
   "source": [
    "recs_exp_1 = df_exp_1.sort_values('sim',ascending=False)[:10].index.tolist()\n",
    "recs_exp_1_1 = df_exp_1_1.sort_values('sim',ascending=False)[:10].index.tolist()"
   ]
  },
  {
   "cell_type": "code",
   "execution_count": 43,
   "metadata": {},
   "outputs": [
    {
     "data": {
      "text/html": [
       "<div>\n",
       "<style scoped>\n",
       "    .dataframe tbody tr th:only-of-type {\n",
       "        vertical-align: middle;\n",
       "    }\n",
       "\n",
       "    .dataframe tbody tr th {\n",
       "        vertical-align: top;\n",
       "    }\n",
       "\n",
       "    .dataframe thead th {\n",
       "        text-align: right;\n",
       "    }\n",
       "</style>\n",
       "<table border=\"1\" class=\"dataframe\">\n",
       "  <thead>\n",
       "    <tr style=\"text-align: right;\">\n",
       "      <th></th>\n",
       "      <th>movieId</th>\n",
       "      <th>title</th>\n",
       "      <th>genres</th>\n",
       "    </tr>\n",
       "  </thead>\n",
       "  <tbody>\n",
       "    <tr>\n",
       "      <th>707</th>\n",
       "      <td>880</td>\n",
       "      <td>Island of Dr. Moreau, The (1996)</td>\n",
       "      <td>[Sci-Fi, Thriller]</td>\n",
       "    </tr>\n",
       "    <tr>\n",
       "      <th>1194</th>\n",
       "      <td>1479</td>\n",
       "      <td>Saint, The (1997)</td>\n",
       "      <td>[Action, Romance, Sci-Fi, Thriller]</td>\n",
       "    </tr>\n",
       "    <tr>\n",
       "      <th>2773</th>\n",
       "      <td>3474</td>\n",
       "      <td>Retroactive (1997)</td>\n",
       "      <td>[Sci-Fi, Thriller]</td>\n",
       "    </tr>\n",
       "    <tr>\n",
       "      <th>2916</th>\n",
       "      <td>3659</td>\n",
       "      <td>Quatermass 2 (Enemy from Space) (1957)</td>\n",
       "      <td>[Sci-Fi, Thriller]</td>\n",
       "    </tr>\n",
       "    <tr>\n",
       "      <th>3146</th>\n",
       "      <td>3937</td>\n",
       "      <td>Runaway (1984)</td>\n",
       "      <td>[Sci-Fi, Thriller]</td>\n",
       "    </tr>\n",
       "    <tr>\n",
       "      <th>3913</th>\n",
       "      <td>5054</td>\n",
       "      <td>Brainstorm (1983)</td>\n",
       "      <td>[Sci-Fi, Thriller]</td>\n",
       "    </tr>\n",
       "    <tr>\n",
       "      <th>4194</th>\n",
       "      <td>5544</td>\n",
       "      <td>Time After Time (1979)</td>\n",
       "      <td>[Sci-Fi, Thriller]</td>\n",
       "    </tr>\n",
       "    <tr>\n",
       "      <th>7150</th>\n",
       "      <td>65642</td>\n",
       "      <td>Timecrimes (Cronocrímenes, Los) (2007)</td>\n",
       "      <td>[Sci-Fi, Thriller]</td>\n",
       "    </tr>\n",
       "    <tr>\n",
       "      <th>7681</th>\n",
       "      <td>82095</td>\n",
       "      <td>Skyline (2010)</td>\n",
       "      <td>[Sci-Fi, Thriller]</td>\n",
       "    </tr>\n",
       "    <tr>\n",
       "      <th>8804</th>\n",
       "      <td>127096</td>\n",
       "      <td>Project Almanac (2015)</td>\n",
       "      <td>[Sci-Fi, Thriller]</td>\n",
       "    </tr>\n",
       "  </tbody>\n",
       "</table>\n",
       "</div>"
      ],
      "text/plain": [
       "      movieId                                   title  \\\n",
       "707       880        Island of Dr. Moreau, The (1996)   \n",
       "1194     1479                       Saint, The (1997)   \n",
       "2773     3474                      Retroactive (1997)   \n",
       "2916     3659  Quatermass 2 (Enemy from Space) (1957)   \n",
       "3146     3937                          Runaway (1984)   \n",
       "3913     5054                       Brainstorm (1983)   \n",
       "4194     5544                  Time After Time (1979)   \n",
       "7150    65642  Timecrimes (Cronocrímenes, Los) (2007)   \n",
       "7681    82095                          Skyline (2010)   \n",
       "8804   127096                  Project Almanac (2015)   \n",
       "\n",
       "                                   genres  \n",
       "707                    [Sci-Fi, Thriller]  \n",
       "1194  [Action, Romance, Sci-Fi, Thriller]  \n",
       "2773                   [Sci-Fi, Thriller]  \n",
       "2916                   [Sci-Fi, Thriller]  \n",
       "3146                   [Sci-Fi, Thriller]  \n",
       "3913                   [Sci-Fi, Thriller]  \n",
       "4194                   [Sci-Fi, Thriller]  \n",
       "7150                   [Sci-Fi, Thriller]  \n",
       "7681                   [Sci-Fi, Thriller]  \n",
       "8804                   [Sci-Fi, Thriller]  "
      ]
     },
     "execution_count": 43,
     "metadata": {},
     "output_type": "execute_result"
    }
   ],
   "source": [
    "df_movies[df_movies['movieId'].isin(recs_exp_1)]"
   ]
  },
  {
   "cell_type": "code",
   "execution_count": 44,
   "metadata": {},
   "outputs": [
    {
     "data": {
      "text/html": [
       "<div>\n",
       "<style scoped>\n",
       "    .dataframe tbody tr th:only-of-type {\n",
       "        vertical-align: middle;\n",
       "    }\n",
       "\n",
       "    .dataframe tbody tr th {\n",
       "        vertical-align: top;\n",
       "    }\n",
       "\n",
       "    .dataframe thead th {\n",
       "        text-align: right;\n",
       "    }\n",
       "</style>\n",
       "<table border=\"1\" class=\"dataframe\">\n",
       "  <thead>\n",
       "    <tr style=\"text-align: right;\">\n",
       "      <th></th>\n",
       "      <th>movieId</th>\n",
       "      <th>title</th>\n",
       "      <th>genres</th>\n",
       "    </tr>\n",
       "  </thead>\n",
       "  <tbody>\n",
       "    <tr>\n",
       "      <th>128</th>\n",
       "      <td>149</td>\n",
       "      <td>Amateur (1994)</td>\n",
       "      <td>[Crime, Drama, Thriller]</td>\n",
       "    </tr>\n",
       "    <tr>\n",
       "      <th>220</th>\n",
       "      <td>248</td>\n",
       "      <td>Houseguest (1994)</td>\n",
       "      <td>[Comedy]</td>\n",
       "    </tr>\n",
       "    <tr>\n",
       "      <th>268</th>\n",
       "      <td>300</td>\n",
       "      <td>Quiz Show (1994)</td>\n",
       "      <td>[Drama]</td>\n",
       "    </tr>\n",
       "    <tr>\n",
       "      <th>326</th>\n",
       "      <td>362</td>\n",
       "      <td>Jungle Book, The (1994)</td>\n",
       "      <td>[Adventure, Children, Romance]</td>\n",
       "    </tr>\n",
       "    <tr>\n",
       "      <th>390</th>\n",
       "      <td>441</td>\n",
       "      <td>Dazed and Confused (1993)</td>\n",
       "      <td>[Comedy]</td>\n",
       "    </tr>\n",
       "    <tr>\n",
       "      <th>1026</th>\n",
       "      <td>1272</td>\n",
       "      <td>Patton (1970)</td>\n",
       "      <td>[Drama, War]</td>\n",
       "    </tr>\n",
       "    <tr>\n",
       "      <th>1060</th>\n",
       "      <td>1307</td>\n",
       "      <td>When Harry Met Sally... (1989)</td>\n",
       "      <td>[Comedy, Romance]</td>\n",
       "    </tr>\n",
       "    <tr>\n",
       "      <th>1936</th>\n",
       "      <td>2427</td>\n",
       "      <td>Thin Red Line, The (1998)</td>\n",
       "      <td>[Action, Drama, War]</td>\n",
       "    </tr>\n",
       "    <tr>\n",
       "      <th>2135</th>\n",
       "      <td>2668</td>\n",
       "      <td>Swamp Thing (1982)</td>\n",
       "      <td>[Horror, Sci-Fi]</td>\n",
       "    </tr>\n",
       "    <tr>\n",
       "      <th>6539</th>\n",
       "      <td>48516</td>\n",
       "      <td>Departed, The (2006)</td>\n",
       "      <td>[Crime, Drama, Thriller]</td>\n",
       "    </tr>\n",
       "  </tbody>\n",
       "</table>\n",
       "</div>"
      ],
      "text/plain": [
       "      movieId                           title                          genres\n",
       "128       149                  Amateur (1994)        [Crime, Drama, Thriller]\n",
       "220       248               Houseguest (1994)                        [Comedy]\n",
       "268       300                Quiz Show (1994)                         [Drama]\n",
       "326       362         Jungle Book, The (1994)  [Adventure, Children, Romance]\n",
       "390       441       Dazed and Confused (1993)                        [Comedy]\n",
       "1026     1272                   Patton (1970)                    [Drama, War]\n",
       "1060     1307  When Harry Met Sally... (1989)               [Comedy, Romance]\n",
       "1936     2427       Thin Red Line, The (1998)            [Action, Drama, War]\n",
       "2135     2668              Swamp Thing (1982)                [Horror, Sci-Fi]\n",
       "6539    48516            Departed, The (2006)        [Crime, Drama, Thriller]"
      ]
     },
     "execution_count": 44,
     "metadata": {},
     "output_type": "execute_result"
    }
   ],
   "source": [
    "df_movies[df_movies['movieId'].isin(recs_exp_1_1)]"
   ]
  },
  {
   "cell_type": "markdown",
   "metadata": {},
   "source": [
    "Despite I'm not familiar with many of the titles recommended, the second experiment (based on ratings similarity) seems more reasonable to me, as it's mixing different types but yet correlated movies.\n",
    "\n",
    "Let's check some others techniques next.."
   ]
  },
  {
   "cell_type": "markdown",
   "metadata": {},
   "source": [
    "### 3.3.2 - Content Based - Customer Profile by Genre\n",
    "\n",
    "With content base approach we can use `genre information` as features to approximate users tastes to their corresponding movies, by creating a \"genre profile\" and measure the distance between this profile and each available movie in the catalog. It is like we are representing both users and movies on the same hyperplane which is genre in this case, so we can check which movies are close to user's profile on this plane.\n",
    "\n",
    "I'll be using my own profile to check the final results"
   ]
  },
  {
   "cell_type": "code",
   "execution_count": 45,
   "metadata": {},
   "outputs": [],
   "source": [
    "#Building customer profile based on genre information\n",
    "df_customer_profile = df_movies_aux[['movieId',\n",
    "                                     'genre']].merge(df_ratings, on='movieId')"
   ]
  },
  {
   "cell_type": "code",
   "execution_count": 46,
   "metadata": {},
   "outputs": [],
   "source": [
    "df_customer_profile_pvt = df_customer_profile[['userId',\n",
    "                                               'genre',\n",
    "                                               'ratings']].groupby(['userId',\n",
    "                                                                    'genre']).sum().reset_index()"
   ]
  },
  {
   "cell_type": "code",
   "execution_count": 47,
   "metadata": {},
   "outputs": [],
   "source": [
    "df_customer_profile_pvt = df_customer_profile_pvt.pivot_table(index='userId',\n",
    "                                                              columns = 'genre',\n",
    "                                                              values='ratings').fillna(0)"
   ]
  },
  {
   "cell_type": "code",
   "execution_count": 48,
   "metadata": {},
   "outputs": [],
   "source": [
    "# def get_user_item_distance(u):\n",
    "    \n",
    "#     sims = []\n",
    "#     u_aux = u / u.sum()\n",
    "    \n",
    "#     print(u_aux)\n",
    "    \n",
    "#     for m in df_movies_pvt.values:\n",
    "#         m_aux = m / m.sum()\n",
    "#         sim = cosine_similarity([u_aux], [m_aux])\n",
    "#         sims.append((sim[0][0]))\n",
    "    \n",
    "#     return sims"
   ]
  },
  {
   "cell_type": "code",
   "execution_count": 49,
   "metadata": {},
   "outputs": [],
   "source": [
    "def get_user_item_distance(u):\n",
    "    \n",
    "    sims = []\n",
    "    u_aux = u / u.sum()\n",
    "    m_aux = df_movies_pvt / df_movies_pvt.sum()\n",
    "    \n",
    "    sims = np.dot(u_aux, m_aux.T) \n",
    "    return sims"
   ]
  },
  {
   "cell_type": "code",
   "execution_count": 50,
   "metadata": {},
   "outputs": [],
   "source": [
    "def content_based_recommendation(user, df_ratings, k=10):\n",
    "    \n",
    "    user_seen_movies = df_ratings.set_index('userId').loc[user]['movieId'].unique()\n",
    "    \n",
    "    exp_2 = get_user_item_distance(df_customer_profile_pvt.loc[user].values)\n",
    "    \n",
    "    \n",
    "    recs_exp_2 = pd.DataFrame(exp_2, \n",
    "                          index=df_movies_pvt.index,\n",
    "                          columns = ['sim']).nlargest(k, columns=['sim']).index\n",
    "    \n",
    "    \n",
    "    return df_movies[(df_movies['movieId'].isin(recs_exp_2)) & ~(df_movies['movieId'].isin(user_seen_movies))]\n",
    "    "
   ]
  },
  {
   "cell_type": "code",
   "execution_count": 51,
   "metadata": {},
   "outputs": [
    {
     "data": {
      "text/html": [
       "<div>\n",
       "<style scoped>\n",
       "    .dataframe tbody tr th:only-of-type {\n",
       "        vertical-align: middle;\n",
       "    }\n",
       "\n",
       "    .dataframe tbody tr th {\n",
       "        vertical-align: top;\n",
       "    }\n",
       "\n",
       "    .dataframe thead th {\n",
       "        text-align: right;\n",
       "    }\n",
       "</style>\n",
       "<table border=\"1\" class=\"dataframe\">\n",
       "  <thead>\n",
       "    <tr style=\"text-align: right;\">\n",
       "      <th></th>\n",
       "      <th>movieId</th>\n",
       "      <th>title</th>\n",
       "      <th>genres</th>\n",
       "    </tr>\n",
       "  </thead>\n",
       "  <tbody>\n",
       "    <tr>\n",
       "      <th>4603</th>\n",
       "      <td>6365</td>\n",
       "      <td>Matrix Reloaded, The (2003)</td>\n",
       "      <td>[Action, Adventure, Sci-Fi, Thriller, IMAX]</td>\n",
       "    </tr>\n",
       "    <tr>\n",
       "      <th>4880</th>\n",
       "      <td>6934</td>\n",
       "      <td>Matrix Revolutions, The (2003)</td>\n",
       "      <td>[Action, Adventure, Sci-Fi, Thriller, IMAX]</td>\n",
       "    </tr>\n",
       "    <tr>\n",
       "      <th>6691</th>\n",
       "      <td>52722</td>\n",
       "      <td>Spider-Man 3 (2007)</td>\n",
       "      <td>[Action, Adventure, Sci-Fi, Thriller, IMAX]</td>\n",
       "    </tr>\n",
       "    <tr>\n",
       "      <th>7004</th>\n",
       "      <td>60684</td>\n",
       "      <td>Watchmen (2009)</td>\n",
       "      <td>[Action, Drama, Mystery, Sci-Fi, Thriller, IMAX]</td>\n",
       "    </tr>\n",
       "    <tr>\n",
       "      <th>7526</th>\n",
       "      <td>77561</td>\n",
       "      <td>Iron Man 2 (2010)</td>\n",
       "      <td>[Action, Adventure, Sci-Fi, Thriller, IMAX]</td>\n",
       "    </tr>\n",
       "    <tr>\n",
       "      <th>7575</th>\n",
       "      <td>79132</td>\n",
       "      <td>Inception (2010)</td>\n",
       "      <td>[Action, Crime, Drama, Mystery, Sci-Fi, Thrill...</td>\n",
       "    </tr>\n",
       "    <tr>\n",
       "      <th>7760</th>\n",
       "      <td>85261</td>\n",
       "      <td>Mars Needs Moms (2011)</td>\n",
       "      <td>[Action, Adventure, Animation, Children, Comed...</td>\n",
       "    </tr>\n",
       "    <tr>\n",
       "      <th>8284</th>\n",
       "      <td>101076</td>\n",
       "      <td>G.I. Joe: Retaliation (2013)</td>\n",
       "      <td>[Action, Adventure, Sci-Fi, Thriller, IMAX]</td>\n",
       "    </tr>\n",
       "    <tr>\n",
       "      <th>8336</th>\n",
       "      <td>103042</td>\n",
       "      <td>Man of Steel (2013)</td>\n",
       "      <td>[Action, Adventure, Fantasy, Sci-Fi, IMAX]</td>\n",
       "    </tr>\n",
       "    <tr>\n",
       "      <th>8783</th>\n",
       "      <td>122886</td>\n",
       "      <td>Star Wars: Episode VII - The Force Awakens (2015)</td>\n",
       "      <td>[Action, Adventure, Fantasy, Sci-Fi, IMAX]</td>\n",
       "    </tr>\n",
       "  </tbody>\n",
       "</table>\n",
       "</div>"
      ],
      "text/plain": [
       "      movieId                                              title  \\\n",
       "4603     6365                        Matrix Reloaded, The (2003)   \n",
       "4880     6934                     Matrix Revolutions, The (2003)   \n",
       "6691    52722                                Spider-Man 3 (2007)   \n",
       "7004    60684                                    Watchmen (2009)   \n",
       "7526    77561                                  Iron Man 2 (2010)   \n",
       "7575    79132                                   Inception (2010)   \n",
       "7760    85261                             Mars Needs Moms (2011)   \n",
       "8284   101076                       G.I. Joe: Retaliation (2013)   \n",
       "8336   103042                                Man of Steel (2013)   \n",
       "8783   122886  Star Wars: Episode VII - The Force Awakens (2015)   \n",
       "\n",
       "                                                 genres  \n",
       "4603        [Action, Adventure, Sci-Fi, Thriller, IMAX]  \n",
       "4880        [Action, Adventure, Sci-Fi, Thriller, IMAX]  \n",
       "6691        [Action, Adventure, Sci-Fi, Thriller, IMAX]  \n",
       "7004   [Action, Drama, Mystery, Sci-Fi, Thriller, IMAX]  \n",
       "7526        [Action, Adventure, Sci-Fi, Thriller, IMAX]  \n",
       "7575  [Action, Crime, Drama, Mystery, Sci-Fi, Thrill...  \n",
       "7760  [Action, Adventure, Animation, Children, Comed...  \n",
       "8284        [Action, Adventure, Sci-Fi, Thriller, IMAX]  \n",
       "8336         [Action, Adventure, Fantasy, Sci-Fi, IMAX]  \n",
       "8783         [Action, Adventure, Fantasy, Sci-Fi, IMAX]  "
      ]
     },
     "execution_count": 51,
     "metadata": {},
     "output_type": "execute_result"
    }
   ],
   "source": [
    "content_based_recommendation(test_user, df_ratings)"
   ]
  },
  {
   "cell_type": "code",
   "execution_count": 53,
   "metadata": {},
   "outputs": [
    {
     "data": {
      "text/plain": [
       "genre\n",
       "Sci-Fi                77.0\n",
       "Action                68.5\n",
       "Thriller              48.0\n",
       "Drama                 47.5\n",
       "Adventure             35.0\n",
       "Crime                 23.5\n",
       "Comedy                18.5\n",
       "Romance               14.5\n",
       "IMAX                  12.0\n",
       "Mystery                9.0\n",
       "Horror                 8.5\n",
       "Fantasy                7.0\n",
       "Animation              6.5\n",
       "Children               3.5\n",
       "War                    3.0\n",
       "Western                0.0\n",
       "Documentary            0.0\n",
       "Film-Noir              0.0\n",
       "Musical                0.0\n",
       "(no genres listed)     0.0\n",
       "Name: 672, dtype: float64"
      ]
     },
     "execution_count": 53,
     "metadata": {},
     "output_type": "execute_result"
    }
   ],
   "source": [
    "#My Genre Profile...\n",
    "df_customer_profile_pvt.loc[test_user].sort_values(ascending=False)"
   ]
  },
  {
   "cell_type": "markdown",
   "metadata": {},
   "source": [
    "A profile was built with my ratings and the recommendations turned out to be less diverse but still relevant. For movies, such recommendations with a little bit more exploration could generate good results with minimum effort and maybe this would be a good candidate for in a hybrid approach.\n",
    "\n",
    "We can see below how the genre's preferences are distributed among the users"
   ]
  },
  {
   "cell_type": "code",
   "execution_count": 54,
   "metadata": {},
   "outputs": [
    {
     "data": {
      "image/png": "[encoded data removed]",
      "text/plain": [
       "<Figure size 864x360 with 1 Axes>"
      ]
     },
     "metadata": {
      "needs_background": "light"
     },
     "output_type": "display_data"
    }
   ],
   "source": [
    "df_customer_profile[df_customer_profile['ratings'] > 0]\\\n",
    "[['genre', 'userId']]\\\n",
    ".groupby('genre').count()\\\n",
    ".plot(kind='bar', figsize=(12,5));"
   ]
  },
  {
   "cell_type": "markdown",
   "metadata": {},
   "source": [
    "Some genres are very popular like `Drama` and `Comedy` but some others are less popular but still relevant for some users like me and the content-based approach was able to capture this very well."
   ]
  },
  {
   "cell_type": "markdown",
   "metadata": {},
   "source": [
    "### 3.3.3 - Model Based - User-Item Matrix Factorization\n",
    "\n",
    "Matrix Factorization techniques are widely used on RecSys field and have already been considered the state of the art at some relatively recent point. The Netflix Prize winner used a Matrix Factorization technique as one of the pieces of the hybrid solution and the same algorithm will be test in this document.\n",
    "\n",
    "There are different types of Matrix Factorization implementions and in this section we are trying out some of them from a great library called [lenskit](https://pypi.org/project/lenskit/)"
   ]
  },
  {
   "cell_type": "code",
   "execution_count": 55,
   "metadata": {},
   "outputs": [],
   "source": [
    "from lenskit.algorithms.funksvd import FunkSVD \n",
    "from lenskit.algorithms.als import BiasedMF\n",
    "#from lenskit.algorithms.item_knn import ItemItem\n",
    "#from lenskit.algorithms.user_knn import UserUser\n",
    "from lenskit.algorithms.implicit import BPR"
   ]
  },
  {
   "cell_type": "code",
   "execution_count": 56,
   "metadata": {},
   "outputs": [],
   "source": [
    "df_train_data = df_ratings[['userId', 'movieId', 'ratings']]\n",
    "df_train_data.columns = ['user', 'item', 'rating']"
   ]
  },
  {
   "cell_type": "code",
   "execution_count": 57,
   "metadata": {},
   "outputs": [],
   "source": [
    "def get_lenskit_recommendations(clf, k=10):\n",
    "    exp = clf.predict_for_user(test_user, df_movies['movieId'].unique().tolist())\n",
    "    exp.loc[user_seen_movies] = 0.0\n",
    "    recs_exp = exp.sort_values(ascending=False).index[:k]\n",
    "    \n",
    "    return df_movies[(df_movies['movieId'].isin(recs_exp))]"
   ]
  },
  {
   "cell_type": "code",
   "execution_count": 58,
   "metadata": {},
   "outputs": [],
   "source": [
    "funk_svd_clf = FunkSVD(features=50,random_state=0)"
   ]
  },
  {
   "cell_type": "code",
   "execution_count": 59,
   "metadata": {},
   "outputs": [
    {
     "data": {
      "text/plain": [
       "<lenskit.algorithms.funksvd.FunkSVD at 0x7fd2f95484d0>"
      ]
     },
     "execution_count": 59,
     "metadata": {},
     "output_type": "execute_result"
    }
   ],
   "source": [
    "funk_svd_clf.fit(df_train_data)"
   ]
  },
  {
   "cell_type": "code",
   "execution_count": 60,
   "metadata": {},
   "outputs": [
    {
     "data": {
      "text/html": [
       "<div>\n",
       "<style scoped>\n",
       "    .dataframe tbody tr th:only-of-type {\n",
       "        vertical-align: middle;\n",
       "    }\n",
       "\n",
       "    .dataframe tbody tr th {\n",
       "        vertical-align: top;\n",
       "    }\n",
       "\n",
       "    .dataframe thead th {\n",
       "        text-align: right;\n",
       "    }\n",
       "</style>\n",
       "<table border=\"1\" class=\"dataframe\">\n",
       "  <thead>\n",
       "    <tr style=\"text-align: right;\">\n",
       "      <th></th>\n",
       "      <th>movieId</th>\n",
       "      <th>title</th>\n",
       "      <th>genres</th>\n",
       "    </tr>\n",
       "  </thead>\n",
       "  <tbody>\n",
       "    <tr>\n",
       "      <th>48</th>\n",
       "      <td>50</td>\n",
       "      <td>Usual Suspects, The (1995)</td>\n",
       "      <td>[Crime, Mystery, Thriller]</td>\n",
       "    </tr>\n",
       "    <tr>\n",
       "      <th>284</th>\n",
       "      <td>318</td>\n",
       "      <td>Shawshank Redemption, The (1994)</td>\n",
       "      <td>[Crime, Drama]</td>\n",
       "    </tr>\n",
       "    <tr>\n",
       "      <th>472</th>\n",
       "      <td>527</td>\n",
       "      <td>Schindler's List (1993)</td>\n",
       "      <td>[Drama, War]</td>\n",
       "    </tr>\n",
       "    <tr>\n",
       "      <th>695</th>\n",
       "      <td>858</td>\n",
       "      <td>Godfather, The (1972)</td>\n",
       "      <td>[Crime, Drama]</td>\n",
       "    </tr>\n",
       "    <tr>\n",
       "      <th>734</th>\n",
       "      <td>913</td>\n",
       "      <td>Maltese Falcon, The (1941)</td>\n",
       "      <td>[Film-Noir, Mystery]</td>\n",
       "    </tr>\n",
       "    <tr>\n",
       "      <th>746</th>\n",
       "      <td>926</td>\n",
       "      <td>All About Eve (1950)</td>\n",
       "      <td>[Drama]</td>\n",
       "    </tr>\n",
       "    <tr>\n",
       "      <th>786</th>\n",
       "      <td>969</td>\n",
       "      <td>African Queen, The (1951)</td>\n",
       "      <td>[Adventure, Comedy, Romance, War]</td>\n",
       "    </tr>\n",
       "    <tr>\n",
       "      <th>977</th>\n",
       "      <td>1221</td>\n",
       "      <td>Godfather: Part II, The (1974)</td>\n",
       "      <td>[Crime, Drama]</td>\n",
       "    </tr>\n",
       "    <tr>\n",
       "      <th>1501</th>\n",
       "      <td>1939</td>\n",
       "      <td>Best Years of Our Lives, The (1946)</td>\n",
       "      <td>[Drama, War]</td>\n",
       "    </tr>\n",
       "    <tr>\n",
       "      <th>8202</th>\n",
       "      <td>98491</td>\n",
       "      <td>Paperman (2012)</td>\n",
       "      <td>[Animation, Comedy, Romance]</td>\n",
       "    </tr>\n",
       "  </tbody>\n",
       "</table>\n",
       "</div>"
      ],
      "text/plain": [
       "      movieId                                title  \\\n",
       "48         50           Usual Suspects, The (1995)   \n",
       "284       318     Shawshank Redemption, The (1994)   \n",
       "472       527              Schindler's List (1993)   \n",
       "695       858                Godfather, The (1972)   \n",
       "734       913           Maltese Falcon, The (1941)   \n",
       "746       926                 All About Eve (1950)   \n",
       "786       969            African Queen, The (1951)   \n",
       "977      1221       Godfather: Part II, The (1974)   \n",
       "1501     1939  Best Years of Our Lives, The (1946)   \n",
       "8202    98491                      Paperman (2012)   \n",
       "\n",
       "                                 genres  \n",
       "48           [Crime, Mystery, Thriller]  \n",
       "284                      [Crime, Drama]  \n",
       "472                        [Drama, War]  \n",
       "695                      [Crime, Drama]  \n",
       "734                [Film-Noir, Mystery]  \n",
       "746                             [Drama]  \n",
       "786   [Adventure, Comedy, Romance, War]  \n",
       "977                      [Crime, Drama]  \n",
       "1501                       [Drama, War]  \n",
       "8202       [Animation, Comedy, Romance]  "
      ]
     },
     "execution_count": 60,
     "metadata": {},
     "output_type": "execute_result"
    }
   ],
   "source": [
    "get_lenskit_recommendations(funk_svd_clf, k=10)"
   ]
  },
  {
   "cell_type": "code",
   "execution_count": 61,
   "metadata": {},
   "outputs": [],
   "source": [
    "#item_item_clf = ItemItem(nnbrs=30)"
   ]
  },
  {
   "cell_type": "code",
   "execution_count": 62,
   "metadata": {},
   "outputs": [],
   "source": [
    "#item_item_clf.fit(df_train_data)"
   ]
  },
  {
   "cell_type": "code",
   "execution_count": 63,
   "metadata": {},
   "outputs": [],
   "source": [
    "#get_lenskit_recommendations(item_item_clf, k=10)"
   ]
  },
  {
   "cell_type": "code",
   "execution_count": 64,
   "metadata": {},
   "outputs": [],
   "source": [
    "#user_user_clf = UserUser(nnbrs=30)"
   ]
  },
  {
   "cell_type": "code",
   "execution_count": 65,
   "metadata": {},
   "outputs": [],
   "source": [
    "#user_user_clf.fit(df_train_data)"
   ]
  },
  {
   "cell_type": "code",
   "execution_count": 66,
   "metadata": {},
   "outputs": [],
   "source": [
    "#get_lenskit_recommendations(user_user_clf, k=10)"
   ]
  },
  {
   "cell_type": "code",
   "execution_count": 67,
   "metadata": {},
   "outputs": [],
   "source": [
    "mf_clf = BiasedMF(features=50, method='cd')"
   ]
  },
  {
   "cell_type": "code",
   "execution_count": 68,
   "metadata": {},
   "outputs": [
    {
     "data": {
      "text/plain": [
       "<lenskit.algorithms.als.BiasedMF at 0x7fd2f66cdd10>"
      ]
     },
     "execution_count": 68,
     "metadata": {},
     "output_type": "execute_result"
    }
   ],
   "source": [
    "mf_clf.fit(df_train_data)"
   ]
  },
  {
   "cell_type": "code",
   "execution_count": 69,
   "metadata": {},
   "outputs": [
    {
     "data": {
      "text/html": [
       "<div>\n",
       "<style scoped>\n",
       "    .dataframe tbody tr th:only-of-type {\n",
       "        vertical-align: middle;\n",
       "    }\n",
       "\n",
       "    .dataframe tbody tr th {\n",
       "        vertical-align: top;\n",
       "    }\n",
       "\n",
       "    .dataframe thead th {\n",
       "        text-align: right;\n",
       "    }\n",
       "</style>\n",
       "<table border=\"1\" class=\"dataframe\">\n",
       "  <thead>\n",
       "    <tr style=\"text-align: right;\">\n",
       "      <th></th>\n",
       "      <th>movieId</th>\n",
       "      <th>title</th>\n",
       "      <th>genres</th>\n",
       "    </tr>\n",
       "  </thead>\n",
       "  <tbody>\n",
       "    <tr>\n",
       "      <th>266</th>\n",
       "      <td>296</td>\n",
       "      <td>Pulp Fiction (1994)</td>\n",
       "      <td>[Comedy, Crime, Drama, Thriller]</td>\n",
       "    </tr>\n",
       "    <tr>\n",
       "      <th>931</th>\n",
       "      <td>1172</td>\n",
       "      <td>Cinema Paradiso (Nuovo cinema Paradiso) (1989)</td>\n",
       "      <td>[Drama]</td>\n",
       "    </tr>\n",
       "    <tr>\n",
       "      <th>1501</th>\n",
       "      <td>1939</td>\n",
       "      <td>Best Years of Our Lives, The (1946)</td>\n",
       "      <td>[Drama, War]</td>\n",
       "    </tr>\n",
       "    <tr>\n",
       "      <th>1869</th>\n",
       "      <td>2359</td>\n",
       "      <td>Waking Ned Devine (a.k.a. Waking Ned) (1998)</td>\n",
       "      <td>[Comedy]</td>\n",
       "    </tr>\n",
       "    <tr>\n",
       "      <th>2152</th>\n",
       "      <td>2690</td>\n",
       "      <td>Ideal Husband, An (1999)</td>\n",
       "      <td>[Comedy, Romance]</td>\n",
       "    </tr>\n",
       "    <tr>\n",
       "      <th>2503</th>\n",
       "      <td>3111</td>\n",
       "      <td>Places in the Heart (1984)</td>\n",
       "      <td>[Drama]</td>\n",
       "    </tr>\n",
       "    <tr>\n",
       "      <th>4057</th>\n",
       "      <td>5301</td>\n",
       "      <td>Bite the Bullet (1975)</td>\n",
       "      <td>[Action, Adventure, Western]</td>\n",
       "    </tr>\n",
       "    <tr>\n",
       "      <th>7424</th>\n",
       "      <td>73290</td>\n",
       "      <td>Hachiko: A Dog's Story (a.k.a. Hachi: A Dog's ...</td>\n",
       "      <td>[Drama]</td>\n",
       "    </tr>\n",
       "    <tr>\n",
       "      <th>8202</th>\n",
       "      <td>98491</td>\n",
       "      <td>Paperman (2012)</td>\n",
       "      <td>[Animation, Comedy, Romance]</td>\n",
       "    </tr>\n",
       "    <tr>\n",
       "      <th>8967</th>\n",
       "      <td>140152</td>\n",
       "      <td>Dreamcatcher (2015)</td>\n",
       "      <td>[Children, Crime, Documentary]</td>\n",
       "    </tr>\n",
       "  </tbody>\n",
       "</table>\n",
       "</div>"
      ],
      "text/plain": [
       "      movieId                                              title  \\\n",
       "266       296                                Pulp Fiction (1994)   \n",
       "931      1172     Cinema Paradiso (Nuovo cinema Paradiso) (1989)   \n",
       "1501     1939                Best Years of Our Lives, The (1946)   \n",
       "1869     2359       Waking Ned Devine (a.k.a. Waking Ned) (1998)   \n",
       "2152     2690                           Ideal Husband, An (1999)   \n",
       "2503     3111                         Places in the Heart (1984)   \n",
       "4057     5301                             Bite the Bullet (1975)   \n",
       "7424    73290  Hachiko: A Dog's Story (a.k.a. Hachi: A Dog's ...   \n",
       "8202    98491                                    Paperman (2012)   \n",
       "8967   140152                                Dreamcatcher (2015)   \n",
       "\n",
       "                                genres  \n",
       "266   [Comedy, Crime, Drama, Thriller]  \n",
       "931                            [Drama]  \n",
       "1501                      [Drama, War]  \n",
       "1869                          [Comedy]  \n",
       "2152                 [Comedy, Romance]  \n",
       "2503                           [Drama]  \n",
       "4057      [Action, Adventure, Western]  \n",
       "7424                           [Drama]  \n",
       "8202      [Animation, Comedy, Romance]  \n",
       "8967    [Children, Crime, Documentary]  "
      ]
     },
     "execution_count": 69,
     "metadata": {},
     "output_type": "execute_result"
    }
   ],
   "source": [
    "get_lenskit_recommendations(mf_clf, k=10)"
   ]
  },
  {
   "cell_type": "code",
   "execution_count": 70,
   "metadata": {},
   "outputs": [],
   "source": [
    "bpr_clf = BPR(factors=30)"
   ]
  },
  {
   "cell_type": "code",
   "execution_count": 71,
   "metadata": {},
   "outputs": [
    {
     "data": {
      "application/vnd.jupyter.widget-view+json": {
       "model_id": "78a55127642b485bb5a5fafbe6e3afb6",
       "version_major": 2,
       "version_minor": 0
      },
      "text/plain": [
       "HBox(children=(FloatProgress(value=0.0), HTML(value='')))"
      ]
     },
     "metadata": {},
     "output_type": "display_data"
    },
    {
     "name": "stdout",
     "output_type": "stream",
     "text": [
      "\n"
     ]
    },
    {
     "data": {
      "text/plain": [
       "<lenskit.algorithms.implicit.BPR at 0x7fd2f92217d0>"
      ]
     },
     "execution_count": 71,
     "metadata": {},
     "output_type": "execute_result"
    }
   ],
   "source": [
    "bpr_clf.fit(df_train_data)"
   ]
  },
  {
   "cell_type": "code",
   "execution_count": 72,
   "metadata": {},
   "outputs": [
    {
     "data": {
      "text/html": [
       "<div>\n",
       "<style scoped>\n",
       "    .dataframe tbody tr th:only-of-type {\n",
       "        vertical-align: middle;\n",
       "    }\n",
       "\n",
       "    .dataframe tbody tr th {\n",
       "        vertical-align: top;\n",
       "    }\n",
       "\n",
       "    .dataframe thead th {\n",
       "        text-align: right;\n",
       "    }\n",
       "</style>\n",
       "<table border=\"1\" class=\"dataframe\">\n",
       "  <thead>\n",
       "    <tr style=\"text-align: right;\">\n",
       "      <th></th>\n",
       "      <th>movieId</th>\n",
       "      <th>title</th>\n",
       "      <th>genres</th>\n",
       "    </tr>\n",
       "  </thead>\n",
       "  <tbody>\n",
       "    <tr>\n",
       "      <th>3871</th>\n",
       "      <td>4993</td>\n",
       "      <td>Lord of the Rings: The Fellowship of the Ring,...</td>\n",
       "      <td>[Adventure, Fantasy]</td>\n",
       "    </tr>\n",
       "    <tr>\n",
       "      <th>4372</th>\n",
       "      <td>5903</td>\n",
       "      <td>Equilibrium (2002)</td>\n",
       "      <td>[Action, Sci-Fi, Thriller]</td>\n",
       "    </tr>\n",
       "    <tr>\n",
       "      <th>4603</th>\n",
       "      <td>6365</td>\n",
       "      <td>Matrix Reloaded, The (2003)</td>\n",
       "      <td>[Action, Adventure, Sci-Fi, Thriller, IMAX]</td>\n",
       "    </tr>\n",
       "    <tr>\n",
       "      <th>5026</th>\n",
       "      <td>7153</td>\n",
       "      <td>Lord of the Rings: The Return of the King, The...</td>\n",
       "      <td>[Action, Adventure, Drama, Fantasy]</td>\n",
       "    </tr>\n",
       "    <tr>\n",
       "      <th>5091</th>\n",
       "      <td>7293</td>\n",
       "      <td>50 First Dates (2004)</td>\n",
       "      <td>[Comedy, Romance]</td>\n",
       "    </tr>\n",
       "    <tr>\n",
       "      <th>5624</th>\n",
       "      <td>8957</td>\n",
       "      <td>Saw (2004)</td>\n",
       "      <td>[Horror, Mystery, Thriller]</td>\n",
       "    </tr>\n",
       "    <tr>\n",
       "      <th>6916</th>\n",
       "      <td>58559</td>\n",
       "      <td>Dark Knight, The (2008)</td>\n",
       "      <td>[Action, Crime, Drama, IMAX]</td>\n",
       "    </tr>\n",
       "    <tr>\n",
       "      <th>6944</th>\n",
       "      <td>59315</td>\n",
       "      <td>Iron Man (2008)</td>\n",
       "      <td>[Action, Adventure, Sci-Fi]</td>\n",
       "    </tr>\n",
       "    <tr>\n",
       "      <th>6966</th>\n",
       "      <td>59784</td>\n",
       "      <td>Kung Fu Panda (2008)</td>\n",
       "      <td>[Action, Animation, Children, Comedy, IMAX]</td>\n",
       "    </tr>\n",
       "    <tr>\n",
       "      <th>7575</th>\n",
       "      <td>79132</td>\n",
       "      <td>Inception (2010)</td>\n",
       "      <td>[Action, Crime, Drama, Mystery, Sci-Fi, Thrill...</td>\n",
       "    </tr>\n",
       "  </tbody>\n",
       "</table>\n",
       "</div>"
      ],
      "text/plain": [
       "      movieId                                              title  \\\n",
       "3871     4993  Lord of the Rings: The Fellowship of the Ring,...   \n",
       "4372     5903                                 Equilibrium (2002)   \n",
       "4603     6365                        Matrix Reloaded, The (2003)   \n",
       "5026     7153  Lord of the Rings: The Return of the King, The...   \n",
       "5091     7293                              50 First Dates (2004)   \n",
       "5624     8957                                         Saw (2004)   \n",
       "6916    58559                            Dark Knight, The (2008)   \n",
       "6944    59315                                    Iron Man (2008)   \n",
       "6966    59784                               Kung Fu Panda (2008)   \n",
       "7575    79132                                   Inception (2010)   \n",
       "\n",
       "                                                 genres  \n",
       "3871                               [Adventure, Fantasy]  \n",
       "4372                         [Action, Sci-Fi, Thriller]  \n",
       "4603        [Action, Adventure, Sci-Fi, Thriller, IMAX]  \n",
       "5026                [Action, Adventure, Drama, Fantasy]  \n",
       "5091                                  [Comedy, Romance]  \n",
       "5624                        [Horror, Mystery, Thriller]  \n",
       "6916                       [Action, Crime, Drama, IMAX]  \n",
       "6944                        [Action, Adventure, Sci-Fi]  \n",
       "6966        [Action, Animation, Children, Comedy, IMAX]  \n",
       "7575  [Action, Crime, Drama, Mystery, Sci-Fi, Thrill...  "
      ]
     },
     "execution_count": 72,
     "metadata": {},
     "output_type": "execute_result"
    }
   ],
   "source": [
    "get_lenskit_recommendations(bpr_clf, k=10)"
   ]
  },
  {
   "cell_type": "markdown",
   "metadata": {},
   "source": [
    "BPR presented the best results so far (at least subjectively speaking) ! \n",
    "Some of the movies I've already seen and liked but intentionally let them out of my ratings just to check whether some would be recommended for me. Another great thing was about the release year from the movies above, BPR seems to learn it as a feature too."
   ]
  },
  {
   "cell_type": "markdown",
   "metadata": {},
   "source": [
    "## 3.3.3.1 - Spark\n",
    "[Spark](https://spark.apache.org/) is one of the most used framework to deal with Big Data and parallel processing and it has great library to work with Machine Learning algorithms running on this distributed enviroment. \n",
    "\n",
    "Below you can find the list of available algorithms extracted from [Spark MLlib URL](https://spark.apache.org/mllib/)\n",
    "\n",
    "#### Algorithms\n",
    "MLlib contains many algorithms and utilities.\n",
    "\n",
    "ML algorithms include:\n",
    "\n",
    "* Classification: logistic regression, naive Bayes,...\n",
    "* Regression: generalized linear regression, survival regression,...\n",
    "* Decision trees, random forests, and gradient-boosted trees\n",
    "* **Recommendation: alternating least squares (ALS)**\n",
    "* Clustering: K-means, Gaussian mixtures (GMMs),...\n",
    "* Topic modeling: latent Dirichlet allocation (LDA)\n",
    "* Frequent itemsets, association rules, and sequential pattern mining\n",
    "\n",
    "Let's check this ALS algorithm..."
   ]
  },
  {
   "cell_type": "code",
   "execution_count": 73,
   "metadata": {},
   "outputs": [],
   "source": [
    "from pyspark import SparkContext, Row\n",
    "from pyspark.sql import SparkSession, SQLContext\n",
    "from pyspark.ml.evaluation import RegressionEvaluator\n",
    "from pyspark.ml.recommendation import ALS"
   ]
  },
  {
   "cell_type": "code",
   "execution_count": 74,
   "metadata": {},
   "outputs": [],
   "source": [
    "sp_context = SparkContext().getOrCreate()\n",
    "sp_session = SparkSession(sp_context)"
   ]
  },
  {
   "cell_type": "code",
   "execution_count": 75,
   "metadata": {},
   "outputs": [],
   "source": [
    "sp_session = SparkSession(sp_context)"
   ]
  },
  {
   "cell_type": "code",
   "execution_count": 76,
   "metadata": {},
   "outputs": [],
   "source": [
    "sql_context = SQLContext(sp_context, sp_session)"
   ]
  },
  {
   "cell_type": "code",
   "execution_count": 77,
   "metadata": {},
   "outputs": [],
   "source": [
    "def getRatingsRowRDD(row):\n",
    "    \n",
    "    return Row(userId=int(row['userId']), \n",
    "               movieId=int(row['movieId']), \n",
    "               rating=float(row['ratings']))\n"
   ]
  },
  {
   "cell_type": "code",
   "execution_count": 78,
   "metadata": {},
   "outputs": [],
   "source": [
    "df_movie_ratings = sql_context.createDataFrame(df_ratings)"
   ]
  },
  {
   "cell_type": "code",
   "execution_count": 79,
   "metadata": {},
   "outputs": [
    {
     "data": {
      "text/plain": [
       "[Row(userId=672, movieId=673, ratings=3.5, timestamp=datetime.datetime(2016, 10, 16, 15, 57, 24)),\n",
       " Row(userId=672, movieId=1274, ratings=3.0, timestamp=datetime.datetime(2016, 10, 16, 15, 57, 24)),\n",
       " Row(userId=672, movieId=1580, ratings=3.0, timestamp=datetime.datetime(2016, 10, 16, 15, 57, 24)),\n",
       " Row(userId=672, movieId=1591, ratings=3.0, timestamp=datetime.datetime(2016, 10, 16, 15, 57, 24)),\n",
       " Row(userId=672, movieId=1682, ratings=4.5, timestamp=datetime.datetime(2016, 10, 16, 15, 57, 24)),\n",
       " Row(userId=672, movieId=1917, ratings=5.0, timestamp=datetime.datetime(2016, 10, 16, 15, 57, 24)),\n",
       " Row(userId=672, movieId=2571, ratings=5.0, timestamp=datetime.datetime(2016, 10, 16, 15, 57, 24)),\n",
       " Row(userId=672, movieId=3793, ratings=4.0, timestamp=datetime.datetime(2016, 10, 16, 15, 57, 24)),\n",
       " Row(userId=672, movieId=4643, ratings=4.0, timestamp=datetime.datetime(2016, 10, 16, 15, 57, 24)),\n",
       " Row(userId=672, movieId=5219, ratings=4.5, timestamp=datetime.datetime(2016, 10, 16, 15, 57, 24))]"
      ]
     },
     "execution_count": 79,
     "metadata": {},
     "output_type": "execute_result"
    }
   ],
   "source": [
    "df_movie_ratings.head(10)"
   ]
  },
  {
   "cell_type": "code",
   "execution_count": 80,
   "metadata": {},
   "outputs": [],
   "source": [
    "(training, test) = df_movie_ratings.randomSplit([0.9, 0.1])"
   ]
  },
  {
   "cell_type": "code",
   "execution_count": 81,
   "metadata": {},
   "outputs": [],
   "source": [
    "test_user_sp_ds = sql_context.createDataFrame(pd.DataFrame([[int(test_user)]], columns=['userId']))"
   ]
  },
  {
   "cell_type": "code",
   "execution_count": 82,
   "metadata": {},
   "outputs": [],
   "source": [
    "als = ALS(maxIter=5,\n",
    "          rank=10,\n",
    "          regParam=0.1,\n",
    "          numItemBlocks=50,\n",
    "          userCol=\"userId\",\n",
    "          itemCol=\"movieId\",\n",
    "          ratingCol=\"ratings\",\n",
    "          coldStartStrategy=\"drop\",\n",
    "         implicitPrefs=True)"
   ]
  },
  {
   "cell_type": "code",
   "execution_count": 83,
   "metadata": {},
   "outputs": [],
   "source": [
    "model = als.fit(training)"
   ]
  },
  {
   "cell_type": "code",
   "execution_count": 84,
   "metadata": {},
   "outputs": [
    {
     "name": "stdout",
     "output_type": "stream",
     "text": [
      "Root-mean-square error = 2.8770929217692562\n"
     ]
    }
   ],
   "source": [
    "exp_5 = model.transform(test)\n",
    "evaluator = RegressionEvaluator(metricName=\"rmse\",\n",
    "                                labelCol=\"ratings\",\n",
    "                                predictionCol=\"prediction\")\n",
    "\n",
    "rmse = evaluator.evaluate(exp_5)\n",
    "\n",
    "print(\"Root-mean-square error = \" + str(rmse))"
   ]
  },
  {
   "cell_type": "code",
   "execution_count": 85,
   "metadata": {},
   "outputs": [],
   "source": [
    "#Training with full dataset\n",
    "model = als.fit(df_movie_ratings)"
   ]
  },
  {
   "cell_type": "code",
   "execution_count": 86,
   "metadata": {},
   "outputs": [],
   "source": [
    "recs_exp_5 = model.recommendForUserSubset(test_user_sp_ds, 10)"
   ]
  },
  {
   "cell_type": "code",
   "execution_count": 88,
   "metadata": {},
   "outputs": [],
   "source": [
    "testuser_exp_5_recs = recs_exp_5.collect()"
   ]
  },
  {
   "cell_type": "code",
   "execution_count": 89,
   "metadata": {},
   "outputs": [],
   "source": [
    "recs = [m.movieId for m in testuser_exp_5_recs[0]['recommendations']]"
   ]
  },
  {
   "cell_type": "code",
   "execution_count": 90,
   "metadata": {},
   "outputs": [
    {
     "data": {
      "text/html": [
       "<div>\n",
       "<style scoped>\n",
       "    .dataframe tbody tr th:only-of-type {\n",
       "        vertical-align: middle;\n",
       "    }\n",
       "\n",
       "    .dataframe tbody tr th {\n",
       "        vertical-align: top;\n",
       "    }\n",
       "\n",
       "    .dataframe thead th {\n",
       "        text-align: right;\n",
       "    }\n",
       "</style>\n",
       "<table border=\"1\" class=\"dataframe\">\n",
       "  <thead>\n",
       "    <tr style=\"text-align: right;\">\n",
       "      <th></th>\n",
       "      <th>movieId</th>\n",
       "      <th>title</th>\n",
       "      <th>genres</th>\n",
       "    </tr>\n",
       "  </thead>\n",
       "  <tbody>\n",
       "    <tr>\n",
       "      <th>284</th>\n",
       "      <td>318</td>\n",
       "      <td>Shawshank Redemption, The (1994)</td>\n",
       "      <td>[Crime, Drama]</td>\n",
       "    </tr>\n",
       "    <tr>\n",
       "      <th>321</th>\n",
       "      <td>356</td>\n",
       "      <td>Forrest Gump (1994)</td>\n",
       "      <td>[Comedy, Drama, Romance, War]</td>\n",
       "    </tr>\n",
       "    <tr>\n",
       "      <th>2062</th>\n",
       "      <td>2571</td>\n",
       "      <td>Matrix, The (1999)</td>\n",
       "      <td>[Action, Sci-Fi, Thriller]</td>\n",
       "    </tr>\n",
       "    <tr>\n",
       "      <th>2374</th>\n",
       "      <td>2959</td>\n",
       "      <td>Fight Club (1999)</td>\n",
       "      <td>[Action, Crime, Drama, Thriller]</td>\n",
       "    </tr>\n",
       "    <tr>\n",
       "      <th>2860</th>\n",
       "      <td>3578</td>\n",
       "      <td>Gladiator (2000)</td>\n",
       "      <td>[Action, Adventure, Drama]</td>\n",
       "    </tr>\n",
       "    <tr>\n",
       "      <th>3871</th>\n",
       "      <td>4993</td>\n",
       "      <td>Lord of the Rings: The Fellowship of the Ring,...</td>\n",
       "      <td>[Adventure, Fantasy]</td>\n",
       "    </tr>\n",
       "    <tr>\n",
       "      <th>4395</th>\n",
       "      <td>5952</td>\n",
       "      <td>Lord of the Rings: The Two Towers, The (2002)</td>\n",
       "      <td>[Adventure, Fantasy]</td>\n",
       "    </tr>\n",
       "    <tr>\n",
       "      <th>5026</th>\n",
       "      <td>7153</td>\n",
       "      <td>Lord of the Rings: The Return of the King, The...</td>\n",
       "      <td>[Action, Adventure, Drama, Fantasy]</td>\n",
       "    </tr>\n",
       "    <tr>\n",
       "      <th>6916</th>\n",
       "      <td>58559</td>\n",
       "      <td>Dark Knight, The (2008)</td>\n",
       "      <td>[Action, Crime, Drama, IMAX]</td>\n",
       "    </tr>\n",
       "    <tr>\n",
       "      <th>7575</th>\n",
       "      <td>79132</td>\n",
       "      <td>Inception (2010)</td>\n",
       "      <td>[Action, Crime, Drama, Mystery, Sci-Fi, Thrill...</td>\n",
       "    </tr>\n",
       "  </tbody>\n",
       "</table>\n",
       "</div>"
      ],
      "text/plain": [
       "      movieId                                              title  \\\n",
       "284       318                   Shawshank Redemption, The (1994)   \n",
       "321       356                                Forrest Gump (1994)   \n",
       "2062     2571                                 Matrix, The (1999)   \n",
       "2374     2959                                  Fight Club (1999)   \n",
       "2860     3578                                   Gladiator (2000)   \n",
       "3871     4993  Lord of the Rings: The Fellowship of the Ring,...   \n",
       "4395     5952      Lord of the Rings: The Two Towers, The (2002)   \n",
       "5026     7153  Lord of the Rings: The Return of the King, The...   \n",
       "6916    58559                            Dark Knight, The (2008)   \n",
       "7575    79132                                   Inception (2010)   \n",
       "\n",
       "                                                 genres  \n",
       "284                                      [Crime, Drama]  \n",
       "321                       [Comedy, Drama, Romance, War]  \n",
       "2062                         [Action, Sci-Fi, Thriller]  \n",
       "2374                   [Action, Crime, Drama, Thriller]  \n",
       "2860                         [Action, Adventure, Drama]  \n",
       "3871                               [Adventure, Fantasy]  \n",
       "4395                               [Adventure, Fantasy]  \n",
       "5026                [Action, Adventure, Drama, Fantasy]  \n",
       "6916                       [Action, Crime, Drama, IMAX]  \n",
       "7575  [Action, Crime, Drama, Mystery, Sci-Fi, Thrill...  "
      ]
     },
     "execution_count": 90,
     "metadata": {},
     "output_type": "execute_result"
    }
   ],
   "source": [
    "df_movies[df_movies['movieId'].isin(recs)]"
   ]
  },
  {
   "cell_type": "markdown",
   "metadata": {},
   "source": [
    "The result seems pretty reasonable for me! I had to tune a little bit some hyperparameters which cost a significantly increase (the lower the better in this case) on ratings prediction accuracy (RMSE), but the generated list is way better than the previous one at least for the test user.\n",
    "\n",
    "We've already talked about the trade-off between Ratings Prediction x Top N Recommendations and I certainly would perform more tests on this. Considering it is built on Spark Framework which is known to be widely used in production enviroments in many huge companies and it is maintained by [Apache](https://www.apache.org/), it makes a really reliable, powerful and scalable solution and these are good things to consider when you're planning to deploy something to your environment. \n",
    "\n",
    "Therefore from the results above I think it's worth testing different parameter sets and check the outcomes for more users as well as using an objective evaluation metric to compare to other approaches"
   ]
  },
  {
   "cell_type": "code",
   "execution_count": 91,
   "metadata": {},
   "outputs": [],
   "source": [
    "sp_context.stop()"
   ]
  },
  {
   "cell_type": "markdown",
   "metadata": {},
   "source": [
    "### 3.3.3.2 - Deep Learning - AutoEnconders\n",
    "\n",
    "Deep Learning is being tested in many different fields with very robust and efficient algorithms, overcoming the known solutions so far and bringing evolution in areas like image recognition, self-drive cars, natural language processing (NLP) and also Recommender Systems.\n",
    "\n",
    "On this [awesome post](https://github.com/marlesson/recsys_autoencoders) we can check a solution using [AutoEncoders](https://en.wikipedia.org/wiki/Autoencoder#:~:text=An%20autoencoder%20is%20a%20type,to%20ignore%20signal%20%E2%80%9Cnoise%E2%80%9D) to extract users preferences generating good recommendations.\n",
    "\n",
    "Part of this post was tested in here:"
   ]
  },
  {
   "cell_type": "code",
   "execution_count": 92,
   "metadata": {},
   "outputs": [],
   "source": [
    "from tensorflow.keras.optimizers import Adam\n",
    "from tensorflow.keras.layers import Input,Dense,Dropout\n",
    "from tensorflow.keras.models import Model,Sequential"
   ]
  },
  {
   "cell_type": "code",
   "execution_count": 93,
   "metadata": {},
   "outputs": [],
   "source": [
    "def autoEncoder(X):\n",
    "    \n",
    "    model = Sequential()\n",
    "    model.add(Input(shape=(X.shape[1],),name='UserScore'))\n",
    "    model.add(Dense(512, activation='selu', name='EncLayer1'))\n",
    "    model.add(Dense(256, activation='selu', name='LatentSpace'))\n",
    "    model.add(Dropout(0.3, name='Dropout'))\n",
    "    model.add(Dense(512, activation='selu', name='DecLayer1'))\n",
    "    model.add(Dense(X.shape[1], activation='linear', name='UserScorePred'))\n",
    "    \n",
    "    return model"
   ]
  },
  {
   "cell_type": "code",
   "execution_count": 94,
   "metadata": {},
   "outputs": [],
   "source": [
    "df_ratings_aux =  df_ratings.copy()\n",
    "df_ratings_aux['ratings'] = df_ratings_aux['ratings'].astype('float32') \n",
    "df_ratings_aux = df_ratings_aux.pivot(index='userId', columns='movieId', values='ratings').fillna(0)"
   ]
  },
  {
   "cell_type": "code",
   "execution_count": 95,
   "metadata": {},
   "outputs": [],
   "source": [
    "X = df_ratings_aux.values\n",
    "Y = df_ratings_aux.values"
   ]
  },
  {
   "cell_type": "code",
   "execution_count": 96,
   "metadata": {},
   "outputs": [],
   "source": [
    "model = autoEncoder(X)"
   ]
  },
  {
   "cell_type": "code",
   "execution_count": 97,
   "metadata": {},
   "outputs": [
    {
     "name": "stdout",
     "output_type": "stream",
     "text": [
      "Model: \"sequential\"\n",
      "_________________________________________________________________\n",
      "Layer (type)                 Output Shape              Param #   \n",
      "=================================================================\n",
      "EncLayer1 (Dense)            (None, 512)               4642304   \n",
      "_________________________________________________________________\n",
      "LatentSpace (Dense)          (None, 256)               131328    \n",
      "_________________________________________________________________\n",
      "Dropout (Dropout)            (None, 256)               0         \n",
      "_________________________________________________________________\n",
      "DecLayer1 (Dense)            (None, 512)               131584    \n",
      "_________________________________________________________________\n",
      "UserScorePred (Dense)        (None, 9066)              4650858   \n",
      "=================================================================\n",
      "Total params: 9,556,074\n",
      "Trainable params: 9,556,074\n",
      "Non-trainable params: 0\n",
      "_________________________________________________________________\n"
     ]
    }
   ],
   "source": [
    "model.summary()"
   ]
  },
  {
   "cell_type": "code",
   "execution_count": 98,
   "metadata": {},
   "outputs": [],
   "source": [
    "model.compile(optimizer=Adam(lr=0.0001), loss='mse')"
   ]
  },
  {
   "cell_type": "code",
   "execution_count": 99,
   "metadata": {},
   "outputs": [
    {
     "name": "stdout",
     "output_type": "stream",
     "text": [
      "Train on 604 samples, validate on 68 samples\n",
      "Epoch 1/10\n",
      "604/604 [==============================] - 10s 16ms/sample - loss: 0.2310 - val_loss: 0.1863\n",
      "Epoch 2/10\n",
      "604/604 [==============================] - 4s 7ms/sample - loss: 0.2115 - val_loss: 0.1751\n",
      "Epoch 3/10\n",
      "604/604 [==============================] - 4s 6ms/sample - loss: 0.1940 - val_loss: 0.1619\n",
      "Epoch 4/10\n",
      "604/604 [==============================] - 4s 6ms/sample - loss: 0.1785 - val_loss: 0.1539\n",
      "Epoch 5/10\n",
      "604/604 [==============================] - 4s 6ms/sample - loss: 0.1697 - val_loss: 0.1502\n",
      "Epoch 6/10\n",
      "604/604 [==============================] - 4s 7ms/sample - loss: 0.1635 - val_loss: 0.1478\n",
      "Epoch 7/10\n",
      "604/604 [==============================] - 6s 10ms/sample - loss: 0.1586 - val_loss: 0.1456\n",
      "Epoch 8/10\n",
      "604/604 [==============================] - 3s 5ms/sample - loss: 0.1545 - val_loss: 0.1436\n",
      "Epoch 9/10\n",
      "604/604 [==============================] - 3s 5ms/sample - loss: 0.1503 - val_loss: 0.1411\n",
      "Epoch 10/10\n",
      "604/604 [==============================] - 3s 6ms/sample - loss: 0.1462 - val_loss: 0.1392\n"
     ]
    }
   ],
   "source": [
    "hist = model.fit(x=X, y=Y, \n",
    "                 epochs=10, \n",
    "                 batch_size=64,\n",
    "                 shuffle=True,\n",
    "                 validation_split=0.1)"
   ]
  },
  {
   "cell_type": "code",
   "execution_count": 100,
   "metadata": {},
   "outputs": [],
   "source": [
    "#Predict new Matrix Interactions, set score zero on seen movies\n",
    "new_matrix = model.predict(X) * (X == 0)"
   ]
  },
  {
   "cell_type": "code",
   "execution_count": 101,
   "metadata": {},
   "outputs": [],
   "source": [
    "# Converting the reconstructed matrix back to a Pandas DataFrame\n",
    "df_new_users_items_matrix = pd.DataFrame(new_matrix,\n",
    "                                        columns = df_ratings_aux.columns,\n",
    "                                        index= df_ratings_aux.index)"
   ]
  },
  {
   "cell_type": "code",
   "execution_count": 102,
   "metadata": {},
   "outputs": [
    {
     "data": {
      "text/html": [
       "<div>\n",
       "<style scoped>\n",
       "    .dataframe tbody tr th:only-of-type {\n",
       "        vertical-align: middle;\n",
       "    }\n",
       "\n",
       "    .dataframe tbody tr th {\n",
       "        vertical-align: top;\n",
       "    }\n",
       "\n",
       "    .dataframe thead th {\n",
       "        text-align: right;\n",
       "    }\n",
       "</style>\n",
       "<table border=\"1\" class=\"dataframe\">\n",
       "  <thead>\n",
       "    <tr style=\"text-align: right;\">\n",
       "      <th>movieId</th>\n",
       "      <th>1</th>\n",
       "      <th>2</th>\n",
       "      <th>3</th>\n",
       "      <th>4</th>\n",
       "      <th>5</th>\n",
       "      <th>6</th>\n",
       "      <th>7</th>\n",
       "      <th>8</th>\n",
       "      <th>9</th>\n",
       "      <th>10</th>\n",
       "      <th>...</th>\n",
       "      <th>161084</th>\n",
       "      <th>161155</th>\n",
       "      <th>161594</th>\n",
       "      <th>161830</th>\n",
       "      <th>161918</th>\n",
       "      <th>161944</th>\n",
       "      <th>162376</th>\n",
       "      <th>162542</th>\n",
       "      <th>162672</th>\n",
       "      <th>163949</th>\n",
       "    </tr>\n",
       "    <tr>\n",
       "      <th>userId</th>\n",
       "      <th></th>\n",
       "      <th></th>\n",
       "      <th></th>\n",
       "      <th></th>\n",
       "      <th></th>\n",
       "      <th></th>\n",
       "      <th></th>\n",
       "      <th></th>\n",
       "      <th></th>\n",
       "      <th></th>\n",
       "      <th></th>\n",
       "      <th></th>\n",
       "      <th></th>\n",
       "      <th></th>\n",
       "      <th></th>\n",
       "      <th></th>\n",
       "      <th></th>\n",
       "      <th></th>\n",
       "      <th></th>\n",
       "      <th></th>\n",
       "      <th></th>\n",
       "    </tr>\n",
       "  </thead>\n",
       "  <tbody>\n",
       "    <tr>\n",
       "      <th>1</th>\n",
       "      <td>-0.193595</td>\n",
       "      <td>0.025113</td>\n",
       "      <td>-0.065107</td>\n",
       "      <td>-0.081100</td>\n",
       "      <td>0.020313</td>\n",
       "      <td>0.161938</td>\n",
       "      <td>0.014157</td>\n",
       "      <td>-0.064383</td>\n",
       "      <td>-0.036993</td>\n",
       "      <td>-0.009150</td>\n",
       "      <td>...</td>\n",
       "      <td>0.001583</td>\n",
       "      <td>-0.103139</td>\n",
       "      <td>0.003741</td>\n",
       "      <td>0.047388</td>\n",
       "      <td>0.055618</td>\n",
       "      <td>-0.109920</td>\n",
       "      <td>0.004066</td>\n",
       "      <td>-0.049402</td>\n",
       "      <td>-0.004861</td>\n",
       "      <td>-0.054164</td>\n",
       "    </tr>\n",
       "    <tr>\n",
       "      <th>2</th>\n",
       "      <td>1.028608</td>\n",
       "      <td>0.877700</td>\n",
       "      <td>0.402187</td>\n",
       "      <td>0.034990</td>\n",
       "      <td>0.404340</td>\n",
       "      <td>0.524839</td>\n",
       "      <td>0.549183</td>\n",
       "      <td>-0.005376</td>\n",
       "      <td>0.264323</td>\n",
       "      <td>0.000000</td>\n",
       "      <td>...</td>\n",
       "      <td>0.092972</td>\n",
       "      <td>0.003973</td>\n",
       "      <td>0.020365</td>\n",
       "      <td>-0.014681</td>\n",
       "      <td>0.001222</td>\n",
       "      <td>0.044946</td>\n",
       "      <td>-0.077278</td>\n",
       "      <td>0.128575</td>\n",
       "      <td>0.009055</td>\n",
       "      <td>-0.047018</td>\n",
       "    </tr>\n",
       "    <tr>\n",
       "      <th>3</th>\n",
       "      <td>0.898305</td>\n",
       "      <td>0.423872</td>\n",
       "      <td>0.108600</td>\n",
       "      <td>-0.044139</td>\n",
       "      <td>0.095579</td>\n",
       "      <td>0.239009</td>\n",
       "      <td>0.146793</td>\n",
       "      <td>0.055606</td>\n",
       "      <td>0.062544</td>\n",
       "      <td>0.332309</td>\n",
       "      <td>...</td>\n",
       "      <td>-0.124542</td>\n",
       "      <td>0.002230</td>\n",
       "      <td>-0.062759</td>\n",
       "      <td>0.109531</td>\n",
       "      <td>0.049560</td>\n",
       "      <td>-0.049913</td>\n",
       "      <td>-0.111592</td>\n",
       "      <td>0.000425</td>\n",
       "      <td>-0.045954</td>\n",
       "      <td>-0.215367</td>\n",
       "    </tr>\n",
       "    <tr>\n",
       "      <th>4</th>\n",
       "      <td>2.000247</td>\n",
       "      <td>0.567205</td>\n",
       "      <td>0.252114</td>\n",
       "      <td>0.322319</td>\n",
       "      <td>0.584063</td>\n",
       "      <td>0.892139</td>\n",
       "      <td>0.501803</td>\n",
       "      <td>0.074379</td>\n",
       "      <td>0.043622</td>\n",
       "      <td>0.000000</td>\n",
       "      <td>...</td>\n",
       "      <td>-0.240565</td>\n",
       "      <td>0.063445</td>\n",
       "      <td>-0.055246</td>\n",
       "      <td>-0.077202</td>\n",
       "      <td>-0.134997</td>\n",
       "      <td>-0.012308</td>\n",
       "      <td>-0.012764</td>\n",
       "      <td>-0.005331</td>\n",
       "      <td>0.035603</td>\n",
       "      <td>0.146394</td>\n",
       "    </tr>\n",
       "    <tr>\n",
       "      <th>5</th>\n",
       "      <td>1.458643</td>\n",
       "      <td>0.694981</td>\n",
       "      <td>0.000000</td>\n",
       "      <td>0.218893</td>\n",
       "      <td>0.430248</td>\n",
       "      <td>0.458370</td>\n",
       "      <td>0.304518</td>\n",
       "      <td>0.037013</td>\n",
       "      <td>0.251998</td>\n",
       "      <td>0.945795</td>\n",
       "      <td>...</td>\n",
       "      <td>0.023510</td>\n",
       "      <td>0.102836</td>\n",
       "      <td>0.042973</td>\n",
       "      <td>-0.281686</td>\n",
       "      <td>0.042118</td>\n",
       "      <td>0.029429</td>\n",
       "      <td>0.067756</td>\n",
       "      <td>-0.113656</td>\n",
       "      <td>0.115177</td>\n",
       "      <td>0.044804</td>\n",
       "    </tr>\n",
       "  </tbody>\n",
       "</table>\n",
       "<p>5 rows × 9066 columns</p>\n",
       "</div>"
      ],
      "text/plain": [
       "movieId    1         2         3         4         5         6         7       \\\n",
       "userId                                                                          \n",
       "1       -0.193595  0.025113 -0.065107 -0.081100  0.020313  0.161938  0.014157   \n",
       "2        1.028608  0.877700  0.402187  0.034990  0.404340  0.524839  0.549183   \n",
       "3        0.898305  0.423872  0.108600 -0.044139  0.095579  0.239009  0.146793   \n",
       "4        2.000247  0.567205  0.252114  0.322319  0.584063  0.892139  0.501803   \n",
       "5        1.458643  0.694981  0.000000  0.218893  0.430248  0.458370  0.304518   \n",
       "\n",
       "movieId    8         9         10      ...    161084    161155    161594  \\\n",
       "userId                                 ...                                 \n",
       "1       -0.064383 -0.036993 -0.009150  ...  0.001583 -0.103139  0.003741   \n",
       "2       -0.005376  0.264323  0.000000  ...  0.092972  0.003973  0.020365   \n",
       "3        0.055606  0.062544  0.332309  ... -0.124542  0.002230 -0.062759   \n",
       "4        0.074379  0.043622  0.000000  ... -0.240565  0.063445 -0.055246   \n",
       "5        0.037013  0.251998  0.945795  ...  0.023510  0.102836  0.042973   \n",
       "\n",
       "movieId    161830    161918    161944    162376    162542    162672    163949  \n",
       "userId                                                                         \n",
       "1        0.047388  0.055618 -0.109920  0.004066 -0.049402 -0.004861 -0.054164  \n",
       "2       -0.014681  0.001222  0.044946 -0.077278  0.128575  0.009055 -0.047018  \n",
       "3        0.109531  0.049560 -0.049913 -0.111592  0.000425 -0.045954 -0.215367  \n",
       "4       -0.077202 -0.134997 -0.012308 -0.012764 -0.005331  0.035603  0.146394  \n",
       "5       -0.281686  0.042118  0.029429  0.067756 -0.113656  0.115177  0.044804  \n",
       "\n",
       "[5 rows x 9066 columns]"
      ]
     },
     "execution_count": 102,
     "metadata": {},
     "output_type": "execute_result"
    }
   ],
   "source": [
    "df_new_users_items_matrix.head()"
   ]
  },
  {
   "cell_type": "code",
   "execution_count": 103,
   "metadata": {},
   "outputs": [],
   "source": [
    "recs_ae = df_new_users_items_matrix.loc[test_user].nlargest(10).index"
   ]
  },
  {
   "cell_type": "code",
   "execution_count": 104,
   "metadata": {},
   "outputs": [
    {
     "data": {
      "text/html": [
       "<div>\n",
       "<style scoped>\n",
       "    .dataframe tbody tr th:only-of-type {\n",
       "        vertical-align: middle;\n",
       "    }\n",
       "\n",
       "    .dataframe tbody tr th {\n",
       "        vertical-align: top;\n",
       "    }\n",
       "\n",
       "    .dataframe thead th {\n",
       "        text-align: right;\n",
       "    }\n",
       "</style>\n",
       "<table border=\"1\" class=\"dataframe\">\n",
       "  <thead>\n",
       "    <tr style=\"text-align: right;\">\n",
       "      <th></th>\n",
       "      <th>movieId</th>\n",
       "      <th>title</th>\n",
       "      <th>genres</th>\n",
       "    </tr>\n",
       "  </thead>\n",
       "  <tbody>\n",
       "    <tr>\n",
       "      <th>0</th>\n",
       "      <td>1</td>\n",
       "      <td>Toy Story (1995)</td>\n",
       "      <td>[Adventure, Animation, Children, Comedy, Fantasy]</td>\n",
       "    </tr>\n",
       "    <tr>\n",
       "      <th>232</th>\n",
       "      <td>260</td>\n",
       "      <td>Star Wars: Episode IV - A New Hope (1977)</td>\n",
       "      <td>[Action, Adventure, Sci-Fi]</td>\n",
       "    </tr>\n",
       "    <tr>\n",
       "      <th>266</th>\n",
       "      <td>296</td>\n",
       "      <td>Pulp Fiction (1994)</td>\n",
       "      <td>[Comedy, Crime, Drama, Thriller]</td>\n",
       "    </tr>\n",
       "    <tr>\n",
       "      <th>284</th>\n",
       "      <td>318</td>\n",
       "      <td>Shawshank Redemption, The (1994)</td>\n",
       "      <td>[Crime, Drama]</td>\n",
       "    </tr>\n",
       "    <tr>\n",
       "      <th>954</th>\n",
       "      <td>1197</td>\n",
       "      <td>Princess Bride, The (1987)</td>\n",
       "      <td>[Action, Adventure, Comedy, Fantasy, Romance]</td>\n",
       "    </tr>\n",
       "    <tr>\n",
       "      <th>994</th>\n",
       "      <td>1240</td>\n",
       "      <td>Terminator, The (1984)</td>\n",
       "      <td>[Action, Sci-Fi, Thriller]</td>\n",
       "    </tr>\n",
       "    <tr>\n",
       "      <th>3871</th>\n",
       "      <td>4993</td>\n",
       "      <td>Lord of the Rings: The Fellowship of the Ring,...</td>\n",
       "      <td>[Adventure, Fantasy]</td>\n",
       "    </tr>\n",
       "    <tr>\n",
       "      <th>5026</th>\n",
       "      <td>7153</td>\n",
       "      <td>Lord of the Rings: The Return of the King, The...</td>\n",
       "      <td>[Action, Adventure, Drama, Fantasy]</td>\n",
       "    </tr>\n",
       "    <tr>\n",
       "      <th>5626</th>\n",
       "      <td>8961</td>\n",
       "      <td>Incredibles, The (2004)</td>\n",
       "      <td>[Action, Adventure, Animation, Children, Comedy]</td>\n",
       "    </tr>\n",
       "    <tr>\n",
       "      <th>6916</th>\n",
       "      <td>58559</td>\n",
       "      <td>Dark Knight, The (2008)</td>\n",
       "      <td>[Action, Crime, Drama, IMAX]</td>\n",
       "    </tr>\n",
       "  </tbody>\n",
       "</table>\n",
       "</div>"
      ],
      "text/plain": [
       "      movieId                                              title  \\\n",
       "0           1                                   Toy Story (1995)   \n",
       "232       260          Star Wars: Episode IV - A New Hope (1977)   \n",
       "266       296                                Pulp Fiction (1994)   \n",
       "284       318                   Shawshank Redemption, The (1994)   \n",
       "954      1197                         Princess Bride, The (1987)   \n",
       "994      1240                             Terminator, The (1984)   \n",
       "3871     4993  Lord of the Rings: The Fellowship of the Ring,...   \n",
       "5026     7153  Lord of the Rings: The Return of the King, The...   \n",
       "5626     8961                            Incredibles, The (2004)   \n",
       "6916    58559                            Dark Knight, The (2008)   \n",
       "\n",
       "                                                 genres  \n",
       "0     [Adventure, Animation, Children, Comedy, Fantasy]  \n",
       "232                         [Action, Adventure, Sci-Fi]  \n",
       "266                    [Comedy, Crime, Drama, Thriller]  \n",
       "284                                      [Crime, Drama]  \n",
       "954       [Action, Adventure, Comedy, Fantasy, Romance]  \n",
       "994                          [Action, Sci-Fi, Thriller]  \n",
       "3871                               [Adventure, Fantasy]  \n",
       "5026                [Action, Adventure, Drama, Fantasy]  \n",
       "5626   [Action, Adventure, Animation, Children, Comedy]  \n",
       "6916                       [Action, Crime, Drama, IMAX]  "
      ]
     },
     "execution_count": 104,
     "metadata": {},
     "output_type": "execute_result"
    }
   ],
   "source": [
    "df_movies[df_movies['movieId'].isin(recs_ae)]"
   ]
  },
  {
   "cell_type": "markdown",
   "metadata": {},
   "source": [
    "Even with a small dataset and using default parameters for AutoEncoder model, the results were pretty good for the test user. Many of them are similar to Spark Solution and it seems to capture the user's taste very well. \n",
    "\n",
    "it could be more flexible and powerful than ALS as it's possible to add some layers of the Neural Network to improve it, but in contrast it needs additional knowlege about deep learning tuning and its applications to not `overfit` your recommender (because of its complexity and hability to capture complex relationships, Neural Networks are prone to overfitting if we don't take some security measures).\n",
    "\n",
    "Maybe it could be considered some kind of advanced matrix factorization techique that solves the problem of not having the user on the trained matrix, as with AutoEncoders you can still pass a unknown user's vector interactions as input and it will be able to generate recommendations anyway."
   ]
  },
  {
   "cell_type": "markdown",
   "metadata": {},
   "source": [
    "## 3.3.3.3 - Deep Learning - WORD2VEC\n",
    "\n",
    "\n",
    "The [Word2vec](https://en.wikipedia.org/wiki/Word2vec) algorithm is a recent(2013) and powerful algorithm created and published by Google to deal with NLP tasks, that basically uses the context around the words to understand \"meanings\" and create word embeddings.\n",
    "\n",
    "Based on the idea from [this post](https://towardsdatascience.com/using-word2vec-for-music-recommendations-bb9649ac2484) we can use this as an embedding creator to recommender systems associating movies in the same context, so I'm going to use movies rated as 4 or 5 stars for the same user as a \"sentence\" of liked movies and use this as a training set for Word2Vec so we can generate predictions like \"Who liked this movie also likes this one\"\n",
    "The [gensim library](https://radimrehurek.com/gensim/models/word2vec.html) makes it easy to implement this in python\n"
   ]
  },
  {
   "cell_type": "code",
   "execution_count": 105,
   "metadata": {},
   "outputs": [],
   "source": [
    "from gensim.models.word2vec import Word2Vec"
   ]
  },
  {
   "cell_type": "code",
   "execution_count": 106,
   "metadata": {},
   "outputs": [],
   "source": [
    "df_aux = df_ratings.merge(df_movies, on='movieId')"
   ]
  },
  {
   "cell_type": "code",
   "execution_count": 107,
   "metadata": {},
   "outputs": [],
   "source": [
    "df_aux = df_aux[df_aux['ratings'] >= 4.0][['userId', 'title']]"
   ]
  },
  {
   "cell_type": "code",
   "execution_count": 108,
   "metadata": {},
   "outputs": [],
   "source": [
    "df_aux.sort_values(by='userId',inplace=True)"
   ]
  },
  {
   "cell_type": "code",
   "execution_count": 109,
   "metadata": {},
   "outputs": [],
   "source": [
    "movies = []\n",
    "for u in df_aux['userId'].unique().tolist():\n",
    "    movie_list = list(df_aux[df_aux['userId'] == u]['title'])\n",
    "    movies.append(movie_list)"
   ]
  },
  {
   "cell_type": "code",
   "execution_count": 110,
   "metadata": {},
   "outputs": [
    {
     "data": {
      "text/plain": [
       "[['Tron (1982)',\n",
       "  'French Connection, The (1971)',\n",
       "  'Cinema Paradiso (Nuovo cinema Paradiso) (1989)']]"
      ]
     },
     "execution_count": 110,
     "metadata": {},
     "output_type": "execute_result"
    }
   ],
   "source": [
    "#Context to use in the Model Training phase...\n",
    "movies[:1]"
   ]
  },
  {
   "cell_type": "code",
   "execution_count": 111,
   "metadata": {},
   "outputs": [],
   "source": [
    "#Using 50 factors...\n",
    "w2v_model = Word2Vec(movies, size=50, window=10, min_count=1, workers=2, iter=30, sg=0, hs=1, seed=0)"
   ]
  },
  {
   "cell_type": "code",
   "execution_count": 112,
   "metadata": {},
   "outputs": [],
   "source": [
    "def get_input_vector(consumed_items: list):\n",
    "    user_input_vector = None\n",
    "    arr_aux = []\n",
    "    \n",
    "    for item in consumed_items:\n",
    "        arr_aux.append(w2v_model.wv[item])\n",
    "\n",
    "    user_input_vector = np.average(arr_aux, axis=0)\n",
    "\n",
    "    return user_input_vector"
   ]
  },
  {
   "cell_type": "code",
   "execution_count": 113,
   "metadata": {},
   "outputs": [
    {
     "data": {
      "text/plain": [
       "array([-0.41447565, -1.4009926 , -2.7115405 ,  2.2450814 , -0.29997602,\n",
       "       -3.051877  , -2.7926931 ,  0.68447846, -1.2513301 , -0.3497819 ,\n",
       "       -0.7346919 , -0.0093342 , -2.100095  , -0.3455386 ,  1.3994967 ,\n",
       "       -0.9963535 , -1.032889  , -0.7441372 ,  0.6124658 ,  0.2657062 ,\n",
       "       -0.37605384,  0.45695204, -0.40918866, -1.4590149 ,  0.26743048,\n",
       "        0.93970674, -2.249431  , -0.8843871 ,  0.4503927 ,  1.1354984 ,\n",
       "       -0.31766158, -0.5637655 ,  0.6021394 , -2.8717988 ,  1.5063577 ,\n",
       "       -1.249833  ,  0.7870019 ,  0.8364381 ,  3.5126038 , -0.14729926,\n",
       "       -0.26681566, -0.80598897, -1.4744409 ,  0.9750054 ,  0.79144984,\n",
       "       -2.6408923 ,  1.290147  ,  1.1309161 , -0.8155447 ,  1.62486   ],\n",
       "      dtype=float32)"
      ]
     },
     "execution_count": 113,
     "metadata": {},
     "output_type": "execute_result"
    }
   ],
   "source": [
    "# Representation of Shrek (2001) movie in the model's embeddings\n",
    "w2v_model.wv['Shrek (2001)']"
   ]
  },
  {
   "cell_type": "code",
   "execution_count": 114,
   "metadata": {},
   "outputs": [
    {
     "data": {
      "text/plain": [
       "array([-1.0460179 , -0.5812059 , -0.9555964 ,  0.58461386, -0.09766452,\n",
       "       -1.7727141 , -1.3364677 , -0.82286644, -0.9838642 ,  0.15252805,\n",
       "       -0.49388474,  0.6396166 , -1.2432984 , -1.4928148 ,  1.2025553 ,\n",
       "        0.45396677,  0.5955542 , -0.37439537,  0.27664623, -0.91226315,\n",
       "       -0.9400424 , -0.62062573, -0.7460149 , -1.3022864 , -0.5811798 ,\n",
       "        1.0987093 , -1.2172358 ,  0.6487593 ,  0.60162467,  1.0784601 ,\n",
       "        0.62120146,  0.25760704, -0.84666777, -1.3321415 ,  1.1268585 ,\n",
       "        0.0030959 , -0.3599796 ,  0.08262873,  0.8636017 ,  0.86271155,\n",
       "       -0.74872845, -1.3762822 , -0.04130628,  0.6081541 ,  0.2392758 ,\n",
       "       -1.911874  , -0.5115108 ,  0.8420922 ,  0.0792881 ,  0.5421011 ],\n",
       "      dtype=float32)"
      ]
     },
     "execution_count": 114,
     "metadata": {},
     "output_type": "execute_result"
    }
   ],
   "source": [
    "# Representation Shrek 2 movie in the model's embeddings\n",
    "w2v_model.wv['Shrek 2 (2004)']"
   ]
  },
  {
   "cell_type": "code",
   "execution_count": 115,
   "metadata": {},
   "outputs": [
    {
     "data": {
      "text/plain": [
       "array([[0.6716833]], dtype=float32)"
      ]
     },
     "execution_count": 115,
     "metadata": {},
     "output_type": "execute_result"
    }
   ],
   "source": [
    "#Shrek 1 and 2 are supposed to be close (the higher the closer between 0 and 1)\n",
    "cosine_similarity([w2v_model.wv['Shrek (2001)']], \n",
    "                  [w2v_model.wv['Shrek 2 (2004)']])"
   ]
  },
  {
   "cell_type": "code",
   "execution_count": 116,
   "metadata": {},
   "outputs": [],
   "source": [
    "def get_recommendations_by_interactions(interactions, k=10):\n",
    "    \n",
    "    user_input_vector = get_input_vector(interactions)\n",
    "    \n",
    "    recs = w2v_model.wv.most_similar(positive=[user_input_vector], topn=100)\n",
    "    \n",
    "    final_recs = []\n",
    "    \n",
    "    for i in recs:\n",
    "        if not i[0] in interactions:\n",
    "            final_recs.append(i)\n",
    "    \n",
    "    return pd.DataFrame(final_recs[:k], columns=['title', 'score']).sort_values(by='score', ascending=False)"
   ]
  },
  {
   "cell_type": "code",
   "execution_count": 117,
   "metadata": {},
   "outputs": [],
   "source": [
    "def get_recommendations_by_user(user_id, k=10):\n",
    "    \n",
    "    test_user_likes = df_aux[df_aux['userId'] ==user_id]['title'].values.tolist()\n",
    "    \n",
    "    return get_recommendations_by_interactions(test_user_likes, k=k)"
   ]
  },
  {
   "cell_type": "code",
   "execution_count": 118,
   "metadata": {},
   "outputs": [
    {
     "data": {
      "text/html": [
       "<div>\n",
       "<style scoped>\n",
       "    .dataframe tbody tr th:only-of-type {\n",
       "        vertical-align: middle;\n",
       "    }\n",
       "\n",
       "    .dataframe tbody tr th {\n",
       "        vertical-align: top;\n",
       "    }\n",
       "\n",
       "    .dataframe thead th {\n",
       "        text-align: right;\n",
       "    }\n",
       "</style>\n",
       "<table border=\"1\" class=\"dataframe\">\n",
       "  <thead>\n",
       "    <tr style=\"text-align: right;\">\n",
       "      <th></th>\n",
       "      <th>title</th>\n",
       "      <th>score</th>\n",
       "    </tr>\n",
       "  </thead>\n",
       "  <tbody>\n",
       "    <tr>\n",
       "      <th>0</th>\n",
       "      <td>Hobbit: The Desolation of Smaug, The (2013)</td>\n",
       "      <td>0.875628</td>\n",
       "    </tr>\n",
       "    <tr>\n",
       "      <th>1</th>\n",
       "      <td>Iron Man (2008)</td>\n",
       "      <td>0.870405</td>\n",
       "    </tr>\n",
       "    <tr>\n",
       "      <th>2</th>\n",
       "      <td>Pirates of the Caribbean: The Curse of the Bla...</td>\n",
       "      <td>0.863647</td>\n",
       "    </tr>\n",
       "    <tr>\n",
       "      <th>3</th>\n",
       "      <td>Harry Potter and the Half-Blood Prince (2009)</td>\n",
       "      <td>0.862563</td>\n",
       "    </tr>\n",
       "    <tr>\n",
       "      <th>4</th>\n",
       "      <td>Bourne Ultimatum, The (2007)</td>\n",
       "      <td>0.859553</td>\n",
       "    </tr>\n",
       "    <tr>\n",
       "      <th>5</th>\n",
       "      <td>Last Samurai, The (2003)</td>\n",
       "      <td>0.852791</td>\n",
       "    </tr>\n",
       "    <tr>\n",
       "      <th>6</th>\n",
       "      <td>Lord of the Rings: The Fellowship of the Ring,...</td>\n",
       "      <td>0.850260</td>\n",
       "    </tr>\n",
       "    <tr>\n",
       "      <th>7</th>\n",
       "      <td>Pirates of the Caribbean: Dead Man's Chest (2006)</td>\n",
       "      <td>0.849272</td>\n",
       "    </tr>\n",
       "    <tr>\n",
       "      <th>8</th>\n",
       "      <td>Harry Potter and the Sorcerer's Stone (a.k.a. ...</td>\n",
       "      <td>0.849212</td>\n",
       "    </tr>\n",
       "    <tr>\n",
       "      <th>9</th>\n",
       "      <td>How to Train Your Dragon (2010)</td>\n",
       "      <td>0.844427</td>\n",
       "    </tr>\n",
       "  </tbody>\n",
       "</table>\n",
       "</div>"
      ],
      "text/plain": [
       "                                               title     score\n",
       "0        Hobbit: The Desolation of Smaug, The (2013)  0.875628\n",
       "1                                    Iron Man (2008)  0.870405\n",
       "2  Pirates of the Caribbean: The Curse of the Bla...  0.863647\n",
       "3      Harry Potter and the Half-Blood Prince (2009)  0.862563\n",
       "4                       Bourne Ultimatum, The (2007)  0.859553\n",
       "5                           Last Samurai, The (2003)  0.852791\n",
       "6  Lord of the Rings: The Fellowship of the Ring,...  0.850260\n",
       "7  Pirates of the Caribbean: Dead Man's Chest (2006)  0.849272\n",
       "8  Harry Potter and the Sorcerer's Stone (a.k.a. ...  0.849212\n",
       "9                    How to Train Your Dragon (2010)  0.844427"
      ]
     },
     "execution_count": 118,
     "metadata": {},
     "output_type": "execute_result"
    }
   ],
   "source": [
    "get_recommendations_by_user(test_user)"
   ]
  },
  {
   "cell_type": "markdown",
   "metadata": {},
   "source": [
    "Using word2Vec techinque to come up with something like \"Who liked these movies also liked these ones\" seems to work but I would say it could be used as complement of another more personalized approach. Even with a small corpus it has already captured some good relationships and maybe it would be good to use it in a hybrid recommender.\n",
    "\n",
    "Another good use of this recommender is when we have less data about a certain user. We could simply use the movies he/she has clicked on (or any other kind of interest signal) as input and it would still have some good recommendations.\n",
    "\n",
    "For example:\n",
    "Which movies would be recommended for someone who has just clicked for more details about the movies `Shrek 1`, `Shrek 2` and `Toy Story (1995)`?"
   ]
  },
  {
   "cell_type": "code",
   "execution_count": 119,
   "metadata": {},
   "outputs": [
    {
     "data": {
      "text/html": [
       "<div>\n",
       "<style scoped>\n",
       "    .dataframe tbody tr th:only-of-type {\n",
       "        vertical-align: middle;\n",
       "    }\n",
       "\n",
       "    .dataframe tbody tr th {\n",
       "        vertical-align: top;\n",
       "    }\n",
       "\n",
       "    .dataframe thead th {\n",
       "        text-align: right;\n",
       "    }\n",
       "</style>\n",
       "<table border=\"1\" class=\"dataframe\">\n",
       "  <thead>\n",
       "    <tr style=\"text-align: right;\">\n",
       "      <th></th>\n",
       "      <th>title</th>\n",
       "      <th>score</th>\n",
       "    </tr>\n",
       "  </thead>\n",
       "  <tbody>\n",
       "    <tr>\n",
       "      <th>0</th>\n",
       "      <td>Green Mile, The (1999)</td>\n",
       "      <td>0.823591</td>\n",
       "    </tr>\n",
       "    <tr>\n",
       "      <th>1</th>\n",
       "      <td>Harry Potter and the Sorcerer's Stone (a.k.a. ...</td>\n",
       "      <td>0.808731</td>\n",
       "    </tr>\n",
       "    <tr>\n",
       "      <th>2</th>\n",
       "      <td>Lord of the Rings: The Return of the King, The...</td>\n",
       "      <td>0.794285</td>\n",
       "    </tr>\n",
       "    <tr>\n",
       "      <th>3</th>\n",
       "      <td>Finding Nemo (2003)</td>\n",
       "      <td>0.792304</td>\n",
       "    </tr>\n",
       "    <tr>\n",
       "      <th>4</th>\n",
       "      <td>Game, The (1997)</td>\n",
       "      <td>0.775567</td>\n",
       "    </tr>\n",
       "    <tr>\n",
       "      <th>5</th>\n",
       "      <td>Spider-Man (2002)</td>\n",
       "      <td>0.766376</td>\n",
       "    </tr>\n",
       "    <tr>\n",
       "      <th>6</th>\n",
       "      <td>Matrix Reloaded, The (2003)</td>\n",
       "      <td>0.761370</td>\n",
       "    </tr>\n",
       "    <tr>\n",
       "      <th>7</th>\n",
       "      <td>Lord of the Rings: The Two Towers, The (2002)</td>\n",
       "      <td>0.740857</td>\n",
       "    </tr>\n",
       "    <tr>\n",
       "      <th>8</th>\n",
       "      <td>Social Network, The (2010)</td>\n",
       "      <td>0.728248</td>\n",
       "    </tr>\n",
       "    <tr>\n",
       "      <th>9</th>\n",
       "      <td>Rain Man (1988)</td>\n",
       "      <td>0.726942</td>\n",
       "    </tr>\n",
       "  </tbody>\n",
       "</table>\n",
       "</div>"
      ],
      "text/plain": [
       "                                               title     score\n",
       "0                             Green Mile, The (1999)  0.823591\n",
       "1  Harry Potter and the Sorcerer's Stone (a.k.a. ...  0.808731\n",
       "2  Lord of the Rings: The Return of the King, The...  0.794285\n",
       "3                                Finding Nemo (2003)  0.792304\n",
       "4                                   Game, The (1997)  0.775567\n",
       "5                                  Spider-Man (2002)  0.766376\n",
       "6                        Matrix Reloaded, The (2003)  0.761370\n",
       "7      Lord of the Rings: The Two Towers, The (2002)  0.740857\n",
       "8                         Social Network, The (2010)  0.728248\n",
       "9                                    Rain Man (1988)  0.726942"
      ]
     },
     "execution_count": 119,
     "metadata": {},
     "output_type": "execute_result"
    }
   ],
   "source": [
    "get_recommendations_by_interactions(['Shrek (2001)', 'Shrek 2 (2004)', 'Toy Story (1995)'])"
   ]
  },
  {
   "cell_type": "markdown",
   "metadata": {},
   "source": [
    "We can see the relavance of `Finding Nemo` movie which is also animation and it would make sense to be related to `Shrek` and `Toy Story` inputs, in addition to other less obvious recommendations. \n",
    "\n",
    "I think with a larger corpus these kind of relationships would be better represented, but having in mind in this case we are using \"Who **likes** movie A also likes Movie B\" approach, which means that a user has given 4+ stars for both movies A and B, thereby in the same ID we could have one single user that sometimes are watching movies with the kids and sometimes on his/her own and that would make the same user gives good ratings for kids and adults movies at the same time, hence some \"obscure\" recommendations could be generated anyway."
   ]
  },
  {
   "cell_type": "markdown",
   "metadata": {},
   "source": [
    "## 4. - Evaluation\n",
    "\n",
    "Now it's time to put it all together, organize the knowledge and impressions we've got from the experiments and evaluate the different approaches explored using an objective metric like `hit rate`, so we can select good candidates for a Hybrid Recommender in the end.\n",
    "\n",
    "The first thing we need to do is dividing our data into train and test sets and by using the `timestamp` column I'm trying to simulate what would happen in the real world, using previous ratings to predict future ratings, therefore the test set will be stratified by each user and their last 20% ratings."
   ]
  },
  {
   "cell_type": "code",
   "execution_count": 120,
   "metadata": {},
   "outputs": [],
   "source": [
    "def get_train_test_data(ratings, test_size=0.1):\n",
    "    \n",
    "    users = ratings['userId'].unique()\n",
    "    \n",
    "    train_list = []\n",
    "    test_list = []\n",
    "    \n",
    "    for u in users:\n",
    "        user_data = ratings[ratings['userId'] == u].sort_values(by='timestamp')\n",
    "        test_index = int(np.ceil(len(user_data) * test_size))\n",
    "        test_data = user_data.iloc[test_index:]\n",
    "        train_data = user_data.iloc[:test_index]\n",
    "        \n",
    "        train_list.append(train_data)\n",
    "        test_list.append(test_data)\n",
    "    \n",
    "    return pd.concat(train_list), pd.concat(test_list)"
   ]
  },
  {
   "cell_type": "code",
   "execution_count": 121,
   "metadata": {},
   "outputs": [],
   "source": [
    "df_training, df_test_data = get_train_test_data(df_ratings, 0.2)"
   ]
  },
  {
   "cell_type": "code",
   "execution_count": 122,
   "metadata": {},
   "outputs": [],
   "source": [
    "df_training = df_training[['userId', 'movieId', 'ratings']]\n",
    "df_test_data = df_test_data[['userId', 'movieId', 'ratings']]\n",
    "df_training.columns = ['user', 'item', 'rating']\n",
    "df_test_data.columns = ['user', 'item', 'rating']"
   ]
  },
  {
   "cell_type": "code",
   "execution_count": 123,
   "metadata": {},
   "outputs": [
    {
     "data": {
      "text/plain": [
       "(79769, 3)"
      ]
     },
     "execution_count": 123,
     "metadata": {},
     "output_type": "execute_result"
    }
   ],
   "source": [
    "df_test_data.shape"
   ]
  },
  {
   "cell_type": "code",
   "execution_count": 124,
   "metadata": {},
   "outputs": [
    {
     "data": {
      "text/plain": [
       "(20262, 3)"
      ]
     },
     "execution_count": 124,
     "metadata": {},
     "output_type": "execute_result"
    }
   ],
   "source": [
    "df_training.shape"
   ]
  },
  {
   "cell_type": "markdown",
   "metadata": {},
   "source": [
    "Now we need to create an easier way to get recommendation from the several classifiers we've tried in the experiments and evaluating each of them with the same metrics. That's why we need the following wrapper functions with each algorithm's specific implementations but having the outcomes in the same format"
   ]
  },
  {
   "cell_type": "code",
   "execution_count": 125,
   "metadata": {},
   "outputs": [],
   "source": [
    "## Function to create a stoplist to not recommend seen movies for the users\n",
    "def get_user_seen_movies(user, interactions, flg_name=False):\n",
    "    if not flg_name:\n",
    "        return interactions[interactions['user'] == user]['item'].unique().tolist()\n",
    "    else:\n",
    "        df_aux = interactions.merge(df_movies, left_on='item', right_on='movieId')\n",
    "        return df_aux[df_aux['user'] == user]['title'].unique().tolist()"
   ]
  },
  {
   "cell_type": "code",
   "execution_count": 126,
   "metadata": {},
   "outputs": [],
   "source": [
    "def calculate_user_hit_rate(recs, test_data, k):\n",
    "    \n",
    "    #Considering only Liked movies\n",
    "    aux_test_data = test_data[test_data['rating'] >= 4.0]\n",
    "    precision = len(aux_test_data[aux_test_data['item'].isin(recs['item'])])\n",
    "    #precision = len([i for i in recs['item'].unique() if i in aux_test_data['item'].unique()])\n",
    "    return precision / k"
   ]
  },
  {
   "cell_type": "code",
   "execution_count": 127,
   "metadata": {},
   "outputs": [],
   "source": [
    "def generate_customers_profile(training_data):\n",
    "    \n",
    "    df_customer_profile = df_movies_aux[['movieId',\n",
    "                                         'genre']].merge(training_data,\n",
    "                                                         left_on='movieId',\n",
    "                                                         right_on='item')\n",
    "    \n",
    "    df_customer_profile_pvt = df_customer_profile[['user',\n",
    "                                                   'genre',\n",
    "                                                   'rating']].groupby(['user',\n",
    "                                                                        'genre']).sum().reset_index()\n",
    "    \n",
    "    df_customer_profile_pvt = df_customer_profile_pvt.pivot_table(index='user',\n",
    "                                                              columns = 'genre',\n",
    "                                                              values='rating').fillna(0)\n",
    "    \n",
    "    return df_customer_profile_pvt"
   ]
  },
  {
   "cell_type": "code",
   "execution_count": 128,
   "metadata": {},
   "outputs": [],
   "source": [
    "def build_w2v_dataset(training_data):\n",
    "    \n",
    "    df_aux = training_data.merge(df_movies, left_on='item', right_on='movieId')\n",
    "    df_aux = df_aux[df_aux['rating'] >= 4.0][['user', 'title']]\n",
    "    df_aux.sort_values(by='user',inplace=True)\n",
    "    \n",
    "    interactions = []\n",
    "    for u in df_aux['user'].unique().tolist():\n",
    "        movie_list = list(df_aux[df_aux['user'] == u]['title'])\n",
    "        interactions.append(movie_list)\n",
    "    \n",
    "    return interactions\n",
    "    "
   ]
  },
  {
   "cell_type": "code",
   "execution_count": 129,
   "metadata": {},
   "outputs": [],
   "source": [
    "def build_autoencoder_model(training_data):\n",
    "    \n",
    "    df_ratings_aux =  training_data.copy()\n",
    "    df_ratings_aux['rating'] = df_ratings_aux['rating'].astype('float32') \n",
    "    df_ratings_aux = df_ratings_aux.pivot(index='user', columns='item', values='rating').fillna(0)\n",
    "\n",
    "    X = df_ratings_aux.values\n",
    "    Y = df_ratings_aux.values\n",
    "    \n",
    "    model = Sequential()\n",
    "    model.add(Input(shape=(X.shape[1],),name='UserScore'))\n",
    "    model.add(Dense(512, activation='selu', name='EncLayer1'))\n",
    "    model.add(Dense(256, activation='selu', name='LatentSpace'))\n",
    "    model.add(Dropout(0.3, name='Dropout'))\n",
    "    model.add(Dense(512, activation='selu', name='DecLayer1'))\n",
    "    model.add(Dense(X.shape[1], activation='linear', name='UserScorePred'))\n",
    "    \n",
    "    model.compile(optimizer=Adam(lr=0.0001), loss='mse')\n",
    "\n",
    "\n",
    "    hist = model.fit(x=X, y=Y,\n",
    "                     epochs=10,\n",
    "                     batch_size=64,\n",
    "                     shuffle=True,\n",
    "                     validation_split=0.1)\n",
    "    \n",
    "    new_matrix = model.predict(X) * (X == 0)\n",
    "\n",
    "    df_new_users_items_matrix = pd.DataFrame(new_matrix,\n",
    "                                            columns = df_ratings_aux.columns,\n",
    "                                            index= df_ratings_aux.index)\n",
    "\n",
    "    return df_new_users_items_matrix\n"
   ]
  },
  {
   "cell_type": "code",
   "execution_count": 130,
   "metadata": {},
   "outputs": [],
   "source": [
    "df_popularity = df_ratings.merge(df_movies, \n",
    "                                 on='movieId')[['ratings',\n",
    "                                                'movieId',\n",
    "                                                'userId',\n",
    "                                                'title']].groupby(['movieId',\n",
    "                                                                   'title']).agg({'ratings': 'mean',\n",
    "                                                                                 'userId': 'count'}).reset_index()"
   ]
  },
  {
   "cell_type": "code",
   "execution_count": 131,
   "metadata": {},
   "outputs": [],
   "source": [
    "df_popularity['score'] = df_popularity['ratings'] * df_popularity['userId']"
   ]
  },
  {
   "cell_type": "code",
   "execution_count": 132,
   "metadata": {},
   "outputs": [],
   "source": [
    "df_popularity['rank'] = df_popularity['score'].rank(ascending=False)"
   ]
  },
  {
   "cell_type": "code",
   "execution_count": 133,
   "metadata": {},
   "outputs": [],
   "source": [
    "def get_diversity_serendipity(recs):\n",
    "    movies_recommended = df_movie_sim.loc[recs, recs]\n",
    "    diversity = np.sum(movies_recommended.mean(axis=1)) / len(recs)\n",
    "    serendipity = df_popularity[df_popularity['movieId'].isin(recs)]['rank'].mean()\n",
    "    \n",
    "    return 1-diversity, serendipity"
   ]
  },
  {
   "cell_type": "code",
   "execution_count": 134,
   "metadata": {},
   "outputs": [],
   "source": [
    "#BPR Algorithm\n",
    "def get_BPR_recs(clf, user, stoplist, k=10):\n",
    "    \n",
    "    recs = clf.predict_for_user(user, df_movies['movieId'].unique().tolist())\n",
    "    recs.loc[stoplist] = 0.0\n",
    "    recs_exp = recs.sort_values(ascending=False).index[:k]\n",
    "    final_recs = df_movies[(df_movies['movieId'].isin(recs_exp))].copy()\n",
    "    final_recs['user'] = u\n",
    "    final_recs.columns = ['item', 'movie', 'genre', 'user']\n",
    "    \n",
    "    return final_recs"
   ]
  },
  {
   "cell_type": "code",
   "execution_count": 135,
   "metadata": {},
   "outputs": [],
   "source": [
    "# Content-based tests\n",
    "def get_cb_recs(user, stoplist, profile_data, k=10):\n",
    "    \n",
    "    sims = get_user_item_distance(profile_data)\n",
    "    \n",
    "    recs = pd.DataFrame(sims,\n",
    "                        index=df_movies_pvt.index,\n",
    "                        columns = ['sim']).sort_values(by='sim',\n",
    "                                                       ascending=False)[:k].index\n",
    "    final_recs = df_movies[(df_movies['movieId'].isin(recs)) & \\\n",
    "                           ~(df_movies['movieId'].isin(stoplist))].copy()\n",
    "    \n",
    "    final_recs['user'] = u\n",
    "    final_recs.columns = ['item', 'movie', 'genre', 'user']\n",
    "    \n",
    "    return final_recs\n"
   ]
  },
  {
   "cell_type": "code",
   "execution_count": 136,
   "metadata": {},
   "outputs": [],
   "source": [
    "#Word2Vec algorithm\n",
    "def get_word2vec_recs(model, user, user_interactions, k=10):\n",
    "    \n",
    "    #Only known movies\n",
    "    interactions_aux = [ w for w in user_interactions if w in list(model.wv.vocab)]\n",
    "\n",
    "    recs = model.wv.most_similar(positive=interactions_aux, topn=100)\n",
    "    \n",
    "    final_recs = []\n",
    "\n",
    "    for r in recs:\n",
    "        if r[0] not in interactions_aux:\n",
    "            final_recs.append(r)\n",
    "\n",
    "    final_recs = pd.DataFrame(final_recs, columns=['title', 'score']).merge(df_movies, on='title')\n",
    "    \n",
    "    final_recs['user'] = user\n",
    "    \n",
    "    final_recs.columns = ['movie', 'score', 'item', 'genres', 'user']\n",
    "    \n",
    "    return final_recs.sort_values(by='score', ascending=False)[:k]\n",
    "    "
   ]
  },
  {
   "cell_type": "code",
   "execution_count": 137,
   "metadata": {},
   "outputs": [],
   "source": [
    "#Autoencoder algorithm\n",
    "def get_autoencoder_recs(user, predictions, stoplist, k=10):\n",
    "    \n",
    "    recs_ae = predictions.loc[user].nlargest(k).index\n",
    "    \n",
    "    final_recs = df_movies[(df_movies['movieId'].isin(recs_ae)) & ~(df_movies['movieId'].isin(stoplist))].copy()\n",
    "    \n",
    "    final_recs['user'] = user\n",
    "    \n",
    "    final_recs.columns = ['item', 'movie', 'genre','user']\n",
    "    \n",
    "    return final_recs"
   ]
  },
  {
   "cell_type": "markdown",
   "metadata": {},
   "source": [
    "### Pipelines"
   ]
  },
  {
   "cell_type": "code",
   "execution_count": 138,
   "metadata": {},
   "outputs": [],
   "source": [
    "def run_HR_BPR_pipeline(user_list, training_data, test_data, k=10):\n",
    "    \n",
    "    print(\"Starting BPR pipeline...\")\n",
    "        \n",
    "    bpr_clf = BPR(factors=50)\n",
    "    bpr_clf.fit(training_data)\n",
    "        \n",
    "    hits = 0\n",
    "    diversity = 0\n",
    "    serendipity = 0\n",
    "    user_count = len(user_list)\n",
    "        \n",
    "    print(\"BPR fit finished...\")\n",
    "        \n",
    "        \n",
    "    for u in tqdm(user_list):\n",
    "        stoplist = get_user_seen_movies(u, training_data)\n",
    "        recs = get_BPR_recs(bpr_clf, u, stoplist, k)\n",
    "        # A hit is when we recommend something we know the user has liked (rating >= 4)\n",
    "        hits += calculate_user_hit_rate(recs, test_data[test_data['user'] == u], k)\n",
    "        div, ser = get_diversity_serendipity(recs['item'])\n",
    "        diversity += div\n",
    "        serendipity += ser\n",
    "        \n",
    "    return (hits / user_count, diversity / user_count, serendipity / user_count)"
   ]
  },
  {
   "cell_type": "code",
   "execution_count": 139,
   "metadata": {},
   "outputs": [],
   "source": [
    "def run_HR_CB_pipeline(user_list, training_data, test_data, k=10):\n",
    "    \n",
    "    print(\"Starting to build customers profile...\")\n",
    "    \n",
    "    profile_data = generate_customers_profile(training_data)\n",
    "    hits = 0\n",
    "    diversity = 0\n",
    "    serendipity = 0\n",
    "    user_count = len(user_list)\n",
    "   \n",
    "    print(\"Customer profile generation finished...\")\n",
    "    \n",
    "    print(f'Starting users recommendations: {len(user_list)} users found!')\n",
    "    \n",
    "    for u in tqdm(user_list):\n",
    "        stoplist = get_user_seen_movies(u, training_data)\n",
    "        recs = get_cb_recs(u, stoplist, profile_data.loc[u].values, k)\n",
    "        # A hit is when we recommend something we know the user has liked (rating >= 4)\n",
    "        hits += calculate_user_hit_rate(recs, test_data[test_data['user'] == u], k)\n",
    "        div, ser = get_diversity_serendipity(recs['item'])\n",
    "        diversity += div\n",
    "        serendipity += ser\n",
    "        \n",
    "    return (hits / user_count, diversity / user_count, serendipity / user_count)"
   ]
  },
  {
   "cell_type": "code",
   "execution_count": 140,
   "metadata": {},
   "outputs": [],
   "source": [
    "def run_HR_W2V_pipeline(user_list, training_data, test_data, k=10):\n",
    "    \n",
    "    print(\"building training dataset...\")\n",
    "    \n",
    "    ## training\n",
    "    train_dataset = build_w2v_dataset(training_data)\n",
    "    \n",
    "    print(\"training dataset ready...\")\n",
    "    \n",
    "    print(\"Starting to build embeddings...\")\n",
    "    model = Word2Vec(train_dataset, size=50, window=10, min_count=1, workers=2, iter=30, sg=0, hs=1, seed=0)\n",
    "    print(\"Model finished...\")\n",
    "    \n",
    "    hits = 0\n",
    "    diversity = 0\n",
    "    serendipity = 0\n",
    "    user_count = len(user_list)\n",
    "    \n",
    "    print(f'Starting users recommendations: {len(user_list)} users found!')\n",
    "    \n",
    "    for u in tqdm(user_list):\n",
    "        interactions = get_user_seen_movies(u, training_data, flg_name=True)\n",
    "        recs = get_word2vec_recs(model,u, interactions, k)\n",
    "        # A hit is when we recommend something we know the user has liked (rating >= 4)\n",
    "        hits += calculate_user_hit_rate(recs, test_data[test_data['user'] == u], k)\n",
    "        div, ser = get_diversity_serendipity(recs['item'])\n",
    "        diversity += div\n",
    "        serendipity += ser\n",
    "        \n",
    "    return (hits / user_count, diversity / user_count, serendipity / user_count)"
   ]
  },
  {
   "cell_type": "code",
   "execution_count": 141,
   "metadata": {},
   "outputs": [],
   "source": [
    "def run_HR_AE_pipeline(user_list, training_data, test_data, k=10):\n",
    "    \n",
    "    print(\"building autoencoder...\")\n",
    "    predictions = build_autoencoder_model(training_data)\n",
    "    print(\"building model step finished...\")\n",
    "    \n",
    "    hits = 0\n",
    "    diversity = 0\n",
    "    serendipity = 0\n",
    "    user_count = len(user_list)\n",
    "    \n",
    "    print(f'Starting users recommendations: {len(user_list)} users found!')\n",
    "    \n",
    "    for u in tqdm(user_list):\n",
    "        stoplist = get_user_seen_movies(u, training_data, flg_name=True)\n",
    "        recs = get_autoencoder_recs(u, predictions, stoplist, k)\n",
    "        # A hit is when we recommend something we know the user has liked (rating >= 4)\n",
    "        hits += calculate_user_hit_rate(recs, test_data[test_data['user'] == u], k)\n",
    "        div, ser = get_diversity_serendipity(recs['item'])\n",
    "        diversity += div\n",
    "        serendipity += ser\n",
    "        \n",
    "    return (hits / user_count, diversity / user_count, serendipity / user_count)"
   ]
  },
  {
   "cell_type": "code",
   "execution_count": 142,
   "metadata": {},
   "outputs": [],
   "source": [
    "def evaluate_recommenders(rec_list, training_data, test_data, k=10):\n",
    "    \n",
    "    final_results = defaultdict(dict)\n",
    "    \n",
    "    #Only known users from the training set will be considered...\n",
    "    user_list = test_data[test_data['user'].isin(training_data['user'])]['user'].unique()\n",
    "    \n",
    "    if 'BPR' in rec_list:\n",
    "        \n",
    "        bpr_hit_rate, bpr_div, bpr_ser = run_HR_BPR_pipeline(user_list, training_data, test_data, k)\n",
    "        final_results['BPR']['Hit Rate'] = bpr_hit_rate\n",
    "        final_results['BPR']['Diversity'] = bpr_div\n",
    "        final_results['BPR']['AVG Rank'] = bpr_ser\n",
    "    \n",
    "    if 'CB' in rec_list:\n",
    "        \n",
    "        cb_hit_rate, cb_div, cb_ser = run_HR_CB_pipeline(user_list, training_data, test_data, k)\n",
    "        final_results['CB']['Hit Rate'] = cb_hit_rate\n",
    "        final_results['CB']['Diversity'] = cb_div\n",
    "        final_results['CB']['AVG Rank'] = cb_ser        \n",
    "    \n",
    "    if 'W2V' in rec_list:\n",
    "        w2v_hit_rate, w2v_div, w2v_ser = run_HR_W2V_pipeline(user_list, training_data, test_data, k)\n",
    "        final_results['W2V']['Hit Rate'] = w2v_hit_rate\n",
    "        final_results['W2V']['Diversity'] = w2v_div\n",
    "        final_results['W2V']['AVG Rank'] = w2v_ser\n",
    "        \n",
    "    if 'AE' in rec_list:\n",
    "        ae_hit_rate, ae_div, ae_ser = run_HR_AE_pipeline(user_list, training_data, test_data, k)\n",
    "        final_results['AE']['Hit Rate'] = ae_hit_rate\n",
    "        final_results['AE']['Diversity'] = ae_div        \n",
    "        final_results['AE']['AVG Rank'] = ae_ser\n",
    "        \n",
    "    return final_results\n"
   ]
  },
  {
   "cell_type": "code",
   "execution_count": 143,
   "metadata": {},
   "outputs": [
    {
     "name": "stdout",
     "output_type": "stream",
     "text": [
      "Starting BPR pipeline...\n"
     ]
    },
    {
     "data": {
      "application/vnd.jupyter.widget-view+json": {
       "model_id": "ba49863c1bed42c9878e460ea3a3bd25",
       "version_major": 2,
       "version_minor": 0
      },
      "text/plain": [
       "HBox(children=(FloatProgress(value=0.0), HTML(value='')))"
      ]
     },
     "metadata": {},
     "output_type": "display_data"
    },
    {
     "name": "stderr",
     "output_type": "stream",
     "text": [
      "  0%|          | 3/672 [00:00<00:26, 25.49it/s]"
     ]
    },
    {
     "name": "stdout",
     "output_type": "stream",
     "text": [
      "\n",
      "BPR fit finished...\n"
     ]
    },
    {
     "name": "stderr",
     "output_type": "stream",
     "text": [
      "100%|██████████| 672/672 [00:20<00:00, 32.06it/s]\n",
      "  0%|          | 0/672 [00:00<?, ?it/s]"
     ]
    },
    {
     "name": "stdout",
     "output_type": "stream",
     "text": [
      "Starting to build customers profile...\n",
      "Customer profile generation finished...\n",
      "Starting users recommendations: 672 users found!\n"
     ]
    },
    {
     "name": "stderr",
     "output_type": "stream",
     "text": [
      "100%|██████████| 672/672 [00:31<00:00, 21.53it/s]\n"
     ]
    },
    {
     "name": "stdout",
     "output_type": "stream",
     "text": [
      "building training dataset...\n",
      "training dataset ready...\n",
      "Starting to build embeddings...\n"
     ]
    },
    {
     "name": "stderr",
     "output_type": "stream",
     "text": [
      "  1%|          | 4/672 [00:00<00:21, 30.68it/s]"
     ]
    },
    {
     "name": "stdout",
     "output_type": "stream",
     "text": [
      "Model finished...\n",
      "Starting users recommendations: 672 users found!\n"
     ]
    },
    {
     "name": "stderr",
     "output_type": "stream",
     "text": [
      "100%|██████████| 672/672 [00:28<00:00, 23.94it/s]\n"
     ]
    },
    {
     "name": "stdout",
     "output_type": "stream",
     "text": [
      "building autoencoder...\n",
      "Train on 604 samples, validate on 68 samples\n",
      "Epoch 1/10\n",
      "604/604 [==============================] - 5s 8ms/sample - loss: 0.1611 - val_loss: 0.1207\n",
      "Epoch 2/10\n",
      "604/604 [==============================] - 2s 3ms/sample - loss: 0.1436 - val_loss: 0.1139\n",
      "Epoch 3/10\n",
      "604/604 [==============================] - 3s 5ms/sample - loss: 0.1317 - val_loss: 0.1089\n",
      "Epoch 4/10\n",
      "604/604 [==============================] - 3s 5ms/sample - loss: 0.1227 - val_loss: 0.1047\n",
      "Epoch 5/10\n",
      "604/604 [==============================] - 2s 4ms/sample - loss: 0.1152 - val_loss: 0.1012\n",
      "Epoch 6/10\n",
      "604/604 [==============================] - 2s 3ms/sample - loss: 0.1094 - val_loss: 0.0981\n",
      "Epoch 7/10\n",
      "604/604 [==============================] - 2s 3ms/sample - loss: 0.1040 - val_loss: 0.0953\n",
      "Epoch 8/10\n",
      "604/604 [==============================] - 2s 3ms/sample - loss: 0.0995 - val_loss: 0.0927\n",
      "Epoch 9/10\n",
      "604/604 [==============================] - 2s 3ms/sample - loss: 0.0953 - val_loss: 0.0904\n",
      "Epoch 10/10\n",
      "604/604 [==============================] - 2s 3ms/sample - loss: 0.0920 - val_loss: 0.0885\n"
     ]
    },
    {
     "name": "stderr",
     "output_type": "stream",
     "text": [
      "  0%|          | 3/672 [00:00<00:23, 28.42it/s]"
     ]
    },
    {
     "name": "stdout",
     "output_type": "stream",
     "text": [
      "building model step finished...\n",
      "Starting users recommendations: 672 users found!\n"
     ]
    },
    {
     "name": "stderr",
     "output_type": "stream",
     "text": [
      "100%|██████████| 672/672 [00:15<00:00, 42.15it/s]\n"
     ]
    }
   ],
   "source": [
    "final_outcomes = evaluate_recommenders(['BPR',\n",
    "                                         'CB',\n",
    "                                        'W2V',\n",
    "                                        'AE'], df_training, df_test_data, k=10)\n",
    "#final_outcomes = evaluate_recommenders(['BPR'], df_training, df_test_data, k=10)"
   ]
  },
  {
   "cell_type": "code",
   "execution_count": 144,
   "metadata": {},
   "outputs": [],
   "source": [
    "df_final_outcomes = pd.DataFrame(final_outcomes)"
   ]
  },
  {
   "cell_type": "code",
   "execution_count": 145,
   "metadata": {},
   "outputs": [
    {
     "data": {
      "text/html": [
       "<div>\n",
       "<style scoped>\n",
       "    .dataframe tbody tr th:only-of-type {\n",
       "        vertical-align: middle;\n",
       "    }\n",
       "\n",
       "    .dataframe tbody tr th {\n",
       "        vertical-align: top;\n",
       "    }\n",
       "\n",
       "    .dataframe thead th {\n",
       "        text-align: right;\n",
       "    }\n",
       "</style>\n",
       "<table border=\"1\" class=\"dataframe\">\n",
       "  <thead>\n",
       "    <tr style=\"text-align: right;\">\n",
       "      <th></th>\n",
       "      <th>BPR</th>\n",
       "      <th>CB</th>\n",
       "      <th>W2V</th>\n",
       "      <th>AE</th>\n",
       "    </tr>\n",
       "  </thead>\n",
       "  <tbody>\n",
       "    <tr>\n",
       "      <th>Hit Rate</th>\n",
       "      <td>0.132440</td>\n",
       "      <td>0.012946</td>\n",
       "      <td>0.089137</td>\n",
       "      <td>0.110565</td>\n",
       "    </tr>\n",
       "    <tr>\n",
       "      <th>Diversity</th>\n",
       "      <td>0.596608</td>\n",
       "      <td>0.283526</td>\n",
       "      <td>0.631342</td>\n",
       "      <td>0.653849</td>\n",
       "    </tr>\n",
       "    <tr>\n",
       "      <th>AVG Rank</th>\n",
       "      <td>213.840327</td>\n",
       "      <td>3816.491700</td>\n",
       "      <td>475.361830</td>\n",
       "      <td>494.353274</td>\n",
       "    </tr>\n",
       "  </tbody>\n",
       "</table>\n",
       "</div>"
      ],
      "text/plain": [
       "                  BPR           CB         W2V          AE\n",
       "Hit Rate     0.132440     0.012946    0.089137    0.110565\n",
       "Diversity    0.596608     0.283526    0.631342    0.653849\n",
       "AVG Rank   213.840327  3816.491700  475.361830  494.353274"
      ]
     },
     "execution_count": 145,
     "metadata": {},
     "output_type": "execute_result"
    }
   ],
   "source": [
    "df_final_outcomes.head()"
   ]
  },
  {
   "cell_type": "markdown",
   "metadata": {},
   "source": [
    "By the table above we can see that indeed BPR had the best performance but is not as diverse as AE or W2V. The Content-based approach seems to recommend many \"obscure\" recommendations from Diversity's perspective and it had a low Hit Rate. We can use this table to select the candidates for the Hybrid recommender."
   ]
  },
  {
   "cell_type": "code",
   "execution_count": 146,
   "metadata": {},
   "outputs": [],
   "source": [
    "from lenskit.metrics.topn import precision, recall\n",
    "from lenskit.topn import RecListAnalysis"
   ]
  },
  {
   "cell_type": "code",
   "execution_count": 147,
   "metadata": {},
   "outputs": [],
   "source": [
    "def evaluator(user_list, k):\n",
    "    final_list = []\n",
    "    \n",
    "    bpr_clf = BPR(factors=30)\n",
    "    bpr_clf.fit(df_training)\n",
    "\n",
    "    \n",
    "    evaluator = RecListAnalysis()\n",
    "    evaluator.add_metric(precision, name='precision_at_10')\n",
    "    evaluator.add_metric(recall, name='recall_at_10')\n",
    "    \n",
    "    for u in user_list:\n",
    "        testing = df_test_data[df_test_data['user'] == u][['user', 'item']]\n",
    "        recs = bpr_clf.recommend(u, n=k)\n",
    "        recs['user'] = u\n",
    "        recs = recs[['user', 'item']]\n",
    "        \n",
    "        evals = evaluator.compute(recs, testing)\n",
    "        \n",
    "        final_list.append(evals)\n",
    "        \n",
    "    \n",
    "    return final_list"
   ]
  },
  {
   "cell_type": "code",
   "execution_count": 148,
   "metadata": {},
   "outputs": [
    {
     "data": {
      "application/vnd.jupyter.widget-view+json": {
       "model_id": "b943d7bd4e1e4468be26ab09e0a987c9",
       "version_major": 2,
       "version_minor": 0
      },
      "text/plain": [
       "HBox(children=(FloatProgress(value=0.0), HTML(value='')))"
      ]
     },
     "metadata": {},
     "output_type": "display_data"
    },
    {
     "name": "stdout",
     "output_type": "stream",
     "text": [
      "\n"
     ]
    }
   ],
   "source": [
    "recs = evaluator(df_test_data['user'].unique(), k=10)"
   ]
  },
  {
   "cell_type": "code",
   "execution_count": 149,
   "metadata": {},
   "outputs": [
    {
     "data": {
      "text/html": [
       "<div>\n",
       "<style scoped>\n",
       "    .dataframe tbody tr th:only-of-type {\n",
       "        vertical-align: middle;\n",
       "    }\n",
       "\n",
       "    .dataframe tbody tr th {\n",
       "        vertical-align: top;\n",
       "    }\n",
       "\n",
       "    .dataframe thead th {\n",
       "        text-align: right;\n",
       "    }\n",
       "</style>\n",
       "<table border=\"1\" class=\"dataframe\">\n",
       "  <thead>\n",
       "    <tr style=\"text-align: right;\">\n",
       "      <th></th>\n",
       "      <th>item</th>\n",
       "      <th>score</th>\n",
       "      <th>movieId</th>\n",
       "      <th>title</th>\n",
       "      <th>genres</th>\n",
       "    </tr>\n",
       "  </thead>\n",
       "  <tbody>\n",
       "    <tr>\n",
       "      <th>0</th>\n",
       "      <td>58559</td>\n",
       "      <td>3.678711</td>\n",
       "      <td>58559</td>\n",
       "      <td>Dark Knight, The (2008)</td>\n",
       "      <td>[Action, Crime, Drama, IMAX]</td>\n",
       "    </tr>\n",
       "    <tr>\n",
       "      <th>1</th>\n",
       "      <td>79132</td>\n",
       "      <td>3.330491</td>\n",
       "      <td>79132</td>\n",
       "      <td>Inception (2010)</td>\n",
       "      <td>[Action, Crime, Drama, Mystery, Sci-Fi, Thrill...</td>\n",
       "    </tr>\n",
       "    <tr>\n",
       "      <th>2</th>\n",
       "      <td>7293</td>\n",
       "      <td>3.154107</td>\n",
       "      <td>7293</td>\n",
       "      <td>50 First Dates (2004)</td>\n",
       "      <td>[Comedy, Romance]</td>\n",
       "    </tr>\n",
       "    <tr>\n",
       "      <th>3</th>\n",
       "      <td>59315</td>\n",
       "      <td>3.028965</td>\n",
       "      <td>59315</td>\n",
       "      <td>Iron Man (2008)</td>\n",
       "      <td>[Action, Adventure, Sci-Fi]</td>\n",
       "    </tr>\n",
       "    <tr>\n",
       "      <th>4</th>\n",
       "      <td>7153</td>\n",
       "      <td>2.919460</td>\n",
       "      <td>7153</td>\n",
       "      <td>Lord of the Rings: The Return of the King, The...</td>\n",
       "      <td>[Action, Adventure, Drama, Fantasy]</td>\n",
       "    </tr>\n",
       "    <tr>\n",
       "      <th>5</th>\n",
       "      <td>4993</td>\n",
       "      <td>2.912037</td>\n",
       "      <td>4993</td>\n",
       "      <td>Lord of the Rings: The Fellowship of the Ring,...</td>\n",
       "      <td>[Adventure, Fantasy]</td>\n",
       "    </tr>\n",
       "    <tr>\n",
       "      <th>6</th>\n",
       "      <td>6365</td>\n",
       "      <td>2.909879</td>\n",
       "      <td>6365</td>\n",
       "      <td>Matrix Reloaded, The (2003)</td>\n",
       "      <td>[Action, Adventure, Sci-Fi, Thriller, IMAX]</td>\n",
       "    </tr>\n",
       "    <tr>\n",
       "      <th>7</th>\n",
       "      <td>8957</td>\n",
       "      <td>2.894021</td>\n",
       "      <td>8957</td>\n",
       "      <td>Saw (2004)</td>\n",
       "      <td>[Horror, Mystery, Thriller]</td>\n",
       "    </tr>\n",
       "    <tr>\n",
       "      <th>8</th>\n",
       "      <td>59784</td>\n",
       "      <td>2.887845</td>\n",
       "      <td>59784</td>\n",
       "      <td>Kung Fu Panda (2008)</td>\n",
       "      <td>[Action, Animation, Children, Comedy, IMAX]</td>\n",
       "    </tr>\n",
       "    <tr>\n",
       "      <th>9</th>\n",
       "      <td>5903</td>\n",
       "      <td>2.883407</td>\n",
       "      <td>5903</td>\n",
       "      <td>Equilibrium (2002)</td>\n",
       "      <td>[Action, Sci-Fi, Thriller]</td>\n",
       "    </tr>\n",
       "  </tbody>\n",
       "</table>\n",
       "</div>"
      ],
      "text/plain": [
       "    item     score  movieId  \\\n",
       "0  58559  3.678711    58559   \n",
       "1  79132  3.330491    79132   \n",
       "2   7293  3.154107     7293   \n",
       "3  59315  3.028965    59315   \n",
       "4   7153  2.919460     7153   \n",
       "5   4993  2.912037     4993   \n",
       "6   6365  2.909879     6365   \n",
       "7   8957  2.894021     8957   \n",
       "8  59784  2.887845    59784   \n",
       "9   5903  2.883407     5903   \n",
       "\n",
       "                                               title  \\\n",
       "0                            Dark Knight, The (2008)   \n",
       "1                                   Inception (2010)   \n",
       "2                              50 First Dates (2004)   \n",
       "3                                    Iron Man (2008)   \n",
       "4  Lord of the Rings: The Return of the King, The...   \n",
       "5  Lord of the Rings: The Fellowship of the Ring,...   \n",
       "6                        Matrix Reloaded, The (2003)   \n",
       "7                                         Saw (2004)   \n",
       "8                               Kung Fu Panda (2008)   \n",
       "9                                 Equilibrium (2002)   \n",
       "\n",
       "                                              genres  \n",
       "0                       [Action, Crime, Drama, IMAX]  \n",
       "1  [Action, Crime, Drama, Mystery, Sci-Fi, Thrill...  \n",
       "2                                  [Comedy, Romance]  \n",
       "3                        [Action, Adventure, Sci-Fi]  \n",
       "4                [Action, Adventure, Drama, Fantasy]  \n",
       "5                               [Adventure, Fantasy]  \n",
       "6        [Action, Adventure, Sci-Fi, Thriller, IMAX]  \n",
       "7                        [Horror, Mystery, Thriller]  \n",
       "8        [Action, Animation, Children, Comedy, IMAX]  \n",
       "9                         [Action, Sci-Fi, Thriller]  "
      ]
     },
     "execution_count": 149,
     "metadata": {},
     "output_type": "execute_result"
    }
   ],
   "source": [
    "bpr_clf.recommend(test_user, n=10).merge(df_movies, left_on='item', right_on='movieId')"
   ]
  },
  {
   "cell_type": "code",
   "execution_count": 150,
   "metadata": {},
   "outputs": [
    {
     "data": {
      "text/html": [
       "<div>\n",
       "<style scoped>\n",
       "    .dataframe tbody tr th:only-of-type {\n",
       "        vertical-align: middle;\n",
       "    }\n",
       "\n",
       "    .dataframe tbody tr th {\n",
       "        vertical-align: top;\n",
       "    }\n",
       "\n",
       "    .dataframe thead th {\n",
       "        text-align: right;\n",
       "    }\n",
       "</style>\n",
       "<table border=\"1\" class=\"dataframe\">\n",
       "  <thead>\n",
       "    <tr style=\"text-align: right;\">\n",
       "      <th></th>\n",
       "      <th>nrecs</th>\n",
       "      <th>precision_at_10</th>\n",
       "      <th>recall_at_10</th>\n",
       "    </tr>\n",
       "  </thead>\n",
       "  <tbody>\n",
       "    <tr>\n",
       "      <th>count</th>\n",
       "      <td>672.0</td>\n",
       "      <td>672.000000</td>\n",
       "      <td>672.000000</td>\n",
       "    </tr>\n",
       "    <tr>\n",
       "      <th>mean</th>\n",
       "      <td>10.0</td>\n",
       "      <td>0.296131</td>\n",
       "      <td>0.050770</td>\n",
       "    </tr>\n",
       "    <tr>\n",
       "      <th>std</th>\n",
       "      <td>0.0</td>\n",
       "      <td>0.273548</td>\n",
       "      <td>0.076125</td>\n",
       "    </tr>\n",
       "    <tr>\n",
       "      <th>min</th>\n",
       "      <td>10.0</td>\n",
       "      <td>0.000000</td>\n",
       "      <td>0.000000</td>\n",
       "    </tr>\n",
       "    <tr>\n",
       "      <th>25%</th>\n",
       "      <td>10.0</td>\n",
       "      <td>0.100000</td>\n",
       "      <td>0.004617</td>\n",
       "    </tr>\n",
       "    <tr>\n",
       "      <th>50%</th>\n",
       "      <td>10.0</td>\n",
       "      <td>0.200000</td>\n",
       "      <td>0.025479</td>\n",
       "    </tr>\n",
       "    <tr>\n",
       "      <th>75%</th>\n",
       "      <td>10.0</td>\n",
       "      <td>0.500000</td>\n",
       "      <td>0.055556</td>\n",
       "    </tr>\n",
       "    <tr>\n",
       "      <th>max</th>\n",
       "      <td>10.0</td>\n",
       "      <td>1.000000</td>\n",
       "      <td>0.562500</td>\n",
       "    </tr>\n",
       "  </tbody>\n",
       "</table>\n",
       "</div>"
      ],
      "text/plain": [
       "       nrecs  precision_at_10  recall_at_10\n",
       "count  672.0       672.000000    672.000000\n",
       "mean    10.0         0.296131      0.050770\n",
       "std      0.0         0.273548      0.076125\n",
       "min     10.0         0.000000      0.000000\n",
       "25%     10.0         0.100000      0.004617\n",
       "50%     10.0         0.200000      0.025479\n",
       "75%     10.0         0.500000      0.055556\n",
       "max     10.0         1.000000      0.562500"
      ]
     },
     "execution_count": 150,
     "metadata": {},
     "output_type": "execute_result"
    }
   ],
   "source": [
    "pd.concat(recs).describe()"
   ]
  },
  {
   "cell_type": "markdown",
   "metadata": {},
   "source": [
    "> If I had to choose one from all of this to try first it would be BPR algorithm that subjectively and objectively speaking had a good performance on this dataset. "
   ]
  },
  {
   "cell_type": "markdown",
   "metadata": {},
   "source": [
    "#### Exporting the best model to further usage"
   ]
  },
  {
   "cell_type": "code",
   "execution_count": 151,
   "metadata": {},
   "outputs": [],
   "source": [
    "import joblib as jb"
   ]
  },
  {
   "cell_type": "code",
   "execution_count": 152,
   "metadata": {},
   "outputs": [],
   "source": [
    "#Exporting a classfier and data used to create an API with Flask to serve the recommendations\n",
    "jb.dump(bpr_clf, 'bpr_clf.pkl')\n",
    "df_movies.to_csv('movies',index=False)\n",
    "df_ratings.to_csv('ratings', index=False)"
   ]
  },
  {
   "cell_type": "markdown",
   "metadata": {},
   "source": [
    "##  5. Hybrid Recommender"
   ]
  },
  {
   "cell_type": "markdown",
   "metadata": {},
   "source": [
    "We've seen BPR with the best performance considering Hit Rate metric but with lower diversity compared to W2V, Content Based and AutoEncoders.\n",
    "\n",
    "Let's try to build a hybrid recommender using BPR, W2V and CB with respective weights in the final recommendations as a refinment to \"vote\" for each item depending on the weights we give for each of the recommender"
   ]
  },
  {
   "cell_type": "code",
   "execution_count": 153,
   "metadata": {},
   "outputs": [],
   "source": [
    "df_hybrid_test = df_ratings[['userId', 'movieId', 'ratings']].copy()\n",
    "df_hybrid_test.columns = ['user', 'item', 'rating']"
   ]
  },
  {
   "cell_type": "code",
   "execution_count": 154,
   "metadata": {},
   "outputs": [],
   "source": [
    "def BPR_hybrid(user, training_data, k=10):\n",
    "    \n",
    "    stoplist = get_user_seen_movies(user, training_data)\n",
    "    recs = get_BPR_recs(bpr_clf, user, stoplist, k)\n",
    "    \n",
    "    return recs[~recs['item'].isin(stoplist)]"
   ]
  },
  {
   "cell_type": "code",
   "execution_count": 155,
   "metadata": {},
   "outputs": [],
   "source": [
    "def W2V_hybrid(user, training_data, k=10):\n",
    "    \n",
    "    interactions = get_user_seen_movies(user, training_data, flg_name=True)\n",
    "    recs = get_word2vec_recs(w2v_model,user, interactions, k)\n",
    "    \n",
    "    return recs[~recs['item'].isin(interactions)]"
   ]
  },
  {
   "cell_type": "code",
   "execution_count": 156,
   "metadata": {},
   "outputs": [],
   "source": [
    "def CB_hybrid(user, training_data, k=10):\n",
    "    \n",
    "    profile_data = generate_customers_profile(training_data)\n",
    "    \n",
    "    stoplist = get_user_seen_movies(user, training_data)\n",
    "    recs = get_cb_recs(user, stoplist, profile_data.loc[u].values, k)\n",
    "        \n",
    "    return recs[~recs['item'].isin(stoplist)]"
   ]
  },
  {
   "cell_type": "code",
   "execution_count": 157,
   "metadata": {},
   "outputs": [],
   "source": [
    "## Test Hybrid approach\n",
    "def get_hybrid_recs(user, training_data, weights=[1.2, 0.8, 1], k=10):\n",
    "    \n",
    "    final_result = defaultdict(float)\n",
    "    final_result_item = defaultdict(float)\n",
    "    \n",
    "    bpr_weight = weights[0]\n",
    "    cb_weight = weights[1]\n",
    "    w2v_weight = weights[2]\n",
    "    \n",
    "    ## recs from BPR\n",
    "    bpr_recs = BPR_hybrid(user, training_data, k)\n",
    "    \n",
    "    for m,i in bpr_recs[['movie','item']].values:\n",
    "        final_result[m] += bpr_weight\n",
    "        final_result_item[i] += bpr_weight\n",
    "        \n",
    "    ## recs from CB\n",
    "    cb_recs = CB_hybrid(user, training_data, k)\n",
    "    \n",
    "    for m,i in cb_recs[['movie', 'item']].values:\n",
    "        final_result[m] += cb_weight\n",
    "        final_result_item[i] += cb_weight\n",
    "    \n",
    "    ## recs from W2v\n",
    "    w2v_recs = W2V_hybrid(user, training_data, k)\n",
    "    \n",
    "    for m, i in w2v_recs[['movie', 'item']].values:\n",
    "        final_result[m] += w2v_weight\n",
    "        final_result_item[i] += w2v_weight\n",
    "        \n",
    "    df_results = pd.DataFrame([final_result]).T.reset_index()\n",
    "    df_results['item'] = final_result_item.keys()\n",
    "    \n",
    "    df_results.columns = ['movie', 'score', 'item']\n",
    "\n",
    "    return df_results.nlargest(k, 'score')\n",
    "    #return df_results"
   ]
  },
  {
   "cell_type": "code",
   "execution_count": 158,
   "metadata": {},
   "outputs": [],
   "source": [
    "## Position 1 = BPR weight |  Position 2: CB weight | Position 3: W2V weight\n",
    "weights=[0.5, 0.1, 0.4]"
   ]
  },
  {
   "cell_type": "code",
   "execution_count": 159,
   "metadata": {},
   "outputs": [
    {
     "data": {
      "text/html": [
       "<div>\n",
       "<style scoped>\n",
       "    .dataframe tbody tr th:only-of-type {\n",
       "        vertical-align: middle;\n",
       "    }\n",
       "\n",
       "    .dataframe tbody tr th {\n",
       "        vertical-align: top;\n",
       "    }\n",
       "\n",
       "    .dataframe thead th {\n",
       "        text-align: right;\n",
       "    }\n",
       "</style>\n",
       "<table border=\"1\" class=\"dataframe\">\n",
       "  <thead>\n",
       "    <tr style=\"text-align: right;\">\n",
       "      <th></th>\n",
       "      <th>movie</th>\n",
       "      <th>score</th>\n",
       "      <th>item</th>\n",
       "    </tr>\n",
       "  </thead>\n",
       "  <tbody>\n",
       "    <tr>\n",
       "      <th>7</th>\n",
       "      <td>Iron Man (2008)</td>\n",
       "      <td>0.9</td>\n",
       "      <td>59315</td>\n",
       "    </tr>\n",
       "    <tr>\n",
       "      <th>2</th>\n",
       "      <td>Matrix Reloaded, The (2003)</td>\n",
       "      <td>0.6</td>\n",
       "      <td>6365</td>\n",
       "    </tr>\n",
       "    <tr>\n",
       "      <th>9</th>\n",
       "      <td>Inception (2010)</td>\n",
       "      <td>0.6</td>\n",
       "      <td>79132</td>\n",
       "    </tr>\n",
       "    <tr>\n",
       "      <th>0</th>\n",
       "      <td>Lord of the Rings: The Fellowship of the Ring,...</td>\n",
       "      <td>0.5</td>\n",
       "      <td>4993</td>\n",
       "    </tr>\n",
       "    <tr>\n",
       "      <th>1</th>\n",
       "      <td>Equilibrium (2002)</td>\n",
       "      <td>0.5</td>\n",
       "      <td>5903</td>\n",
       "    </tr>\n",
       "    <tr>\n",
       "      <th>3</th>\n",
       "      <td>Lord of the Rings: The Return of the King, The...</td>\n",
       "      <td>0.5</td>\n",
       "      <td>7153</td>\n",
       "    </tr>\n",
       "    <tr>\n",
       "      <th>4</th>\n",
       "      <td>50 First Dates (2004)</td>\n",
       "      <td>0.5</td>\n",
       "      <td>7293</td>\n",
       "    </tr>\n",
       "    <tr>\n",
       "      <th>5</th>\n",
       "      <td>Saw (2004)</td>\n",
       "      <td>0.5</td>\n",
       "      <td>8957</td>\n",
       "    </tr>\n",
       "    <tr>\n",
       "      <th>6</th>\n",
       "      <td>Dark Knight, The (2008)</td>\n",
       "      <td>0.5</td>\n",
       "      <td>58559</td>\n",
       "    </tr>\n",
       "    <tr>\n",
       "      <th>8</th>\n",
       "      <td>Kung Fu Panda (2008)</td>\n",
       "      <td>0.5</td>\n",
       "      <td>59784</td>\n",
       "    </tr>\n",
       "  </tbody>\n",
       "</table>\n",
       "</div>"
      ],
      "text/plain": [
       "                                               movie  score   item\n",
       "7                                    Iron Man (2008)    0.9  59315\n",
       "2                        Matrix Reloaded, The (2003)    0.6   6365\n",
       "9                                   Inception (2010)    0.6  79132\n",
       "0  Lord of the Rings: The Fellowship of the Ring,...    0.5   4993\n",
       "1                                 Equilibrium (2002)    0.5   5903\n",
       "3  Lord of the Rings: The Return of the King, The...    0.5   7153\n",
       "4                              50 First Dates (2004)    0.5   7293\n",
       "5                                         Saw (2004)    0.5   8957\n",
       "6                            Dark Knight, The (2008)    0.5  58559\n",
       "8                               Kung Fu Panda (2008)    0.5  59784"
      ]
     },
     "execution_count": 159,
     "metadata": {},
     "output_type": "execute_result"
    }
   ],
   "source": [
    "get_hybrid_recs(test_user, df_hybrid_test, weights, 10)"
   ]
  },
  {
   "cell_type": "code",
   "execution_count": 160,
   "metadata": {},
   "outputs": [
    {
     "data": {
      "text/html": [
       "<div>\n",
       "<style scoped>\n",
       "    .dataframe tbody tr th:only-of-type {\n",
       "        vertical-align: middle;\n",
       "    }\n",
       "\n",
       "    .dataframe tbody tr th {\n",
       "        vertical-align: top;\n",
       "    }\n",
       "\n",
       "    .dataframe thead th {\n",
       "        text-align: right;\n",
       "    }\n",
       "</style>\n",
       "<table border=\"1\" class=\"dataframe\">\n",
       "  <thead>\n",
       "    <tr style=\"text-align: right;\">\n",
       "      <th></th>\n",
       "      <th>item</th>\n",
       "      <th>movie</th>\n",
       "      <th>genre</th>\n",
       "      <th>user</th>\n",
       "    </tr>\n",
       "  </thead>\n",
       "  <tbody>\n",
       "    <tr>\n",
       "      <th>3871</th>\n",
       "      <td>4993</td>\n",
       "      <td>Lord of the Rings: The Fellowship of the Ring,...</td>\n",
       "      <td>[Adventure, Fantasy]</td>\n",
       "      <td>672</td>\n",
       "    </tr>\n",
       "    <tr>\n",
       "      <th>4372</th>\n",
       "      <td>5903</td>\n",
       "      <td>Equilibrium (2002)</td>\n",
       "      <td>[Action, Sci-Fi, Thriller]</td>\n",
       "      <td>672</td>\n",
       "    </tr>\n",
       "    <tr>\n",
       "      <th>4603</th>\n",
       "      <td>6365</td>\n",
       "      <td>Matrix Reloaded, The (2003)</td>\n",
       "      <td>[Action, Adventure, Sci-Fi, Thriller, IMAX]</td>\n",
       "      <td>672</td>\n",
       "    </tr>\n",
       "    <tr>\n",
       "      <th>5026</th>\n",
       "      <td>7153</td>\n",
       "      <td>Lord of the Rings: The Return of the King, The...</td>\n",
       "      <td>[Action, Adventure, Drama, Fantasy]</td>\n",
       "      <td>672</td>\n",
       "    </tr>\n",
       "    <tr>\n",
       "      <th>5091</th>\n",
       "      <td>7293</td>\n",
       "      <td>50 First Dates (2004)</td>\n",
       "      <td>[Comedy, Romance]</td>\n",
       "      <td>672</td>\n",
       "    </tr>\n",
       "    <tr>\n",
       "      <th>5624</th>\n",
       "      <td>8957</td>\n",
       "      <td>Saw (2004)</td>\n",
       "      <td>[Horror, Mystery, Thriller]</td>\n",
       "      <td>672</td>\n",
       "    </tr>\n",
       "    <tr>\n",
       "      <th>6916</th>\n",
       "      <td>58559</td>\n",
       "      <td>Dark Knight, The (2008)</td>\n",
       "      <td>[Action, Crime, Drama, IMAX]</td>\n",
       "      <td>672</td>\n",
       "    </tr>\n",
       "    <tr>\n",
       "      <th>6944</th>\n",
       "      <td>59315</td>\n",
       "      <td>Iron Man (2008)</td>\n",
       "      <td>[Action, Adventure, Sci-Fi]</td>\n",
       "      <td>672</td>\n",
       "    </tr>\n",
       "    <tr>\n",
       "      <th>6966</th>\n",
       "      <td>59784</td>\n",
       "      <td>Kung Fu Panda (2008)</td>\n",
       "      <td>[Action, Animation, Children, Comedy, IMAX]</td>\n",
       "      <td>672</td>\n",
       "    </tr>\n",
       "    <tr>\n",
       "      <th>7575</th>\n",
       "      <td>79132</td>\n",
       "      <td>Inception (2010)</td>\n",
       "      <td>[Action, Crime, Drama, Mystery, Sci-Fi, Thrill...</td>\n",
       "      <td>672</td>\n",
       "    </tr>\n",
       "  </tbody>\n",
       "</table>\n",
       "</div>"
      ],
      "text/plain": [
       "       item                                              movie  \\\n",
       "3871   4993  Lord of the Rings: The Fellowship of the Ring,...   \n",
       "4372   5903                                 Equilibrium (2002)   \n",
       "4603   6365                        Matrix Reloaded, The (2003)   \n",
       "5026   7153  Lord of the Rings: The Return of the King, The...   \n",
       "5091   7293                              50 First Dates (2004)   \n",
       "5624   8957                                         Saw (2004)   \n",
       "6916  58559                            Dark Knight, The (2008)   \n",
       "6944  59315                                    Iron Man (2008)   \n",
       "6966  59784                               Kung Fu Panda (2008)   \n",
       "7575  79132                                   Inception (2010)   \n",
       "\n",
       "                                                  genre  user  \n",
       "3871                               [Adventure, Fantasy]   672  \n",
       "4372                         [Action, Sci-Fi, Thriller]   672  \n",
       "4603        [Action, Adventure, Sci-Fi, Thriller, IMAX]   672  \n",
       "5026                [Action, Adventure, Drama, Fantasy]   672  \n",
       "5091                                  [Comedy, Romance]   672  \n",
       "5624                        [Horror, Mystery, Thriller]   672  \n",
       "6916                       [Action, Crime, Drama, IMAX]   672  \n",
       "6944                        [Action, Adventure, Sci-Fi]   672  \n",
       "6966        [Action, Animation, Children, Comedy, IMAX]   672  \n",
       "7575  [Action, Crime, Drama, Mystery, Sci-Fi, Thrill...   672  "
      ]
     },
     "execution_count": 160,
     "metadata": {},
     "output_type": "execute_result"
    }
   ],
   "source": [
    "BPR_hybrid(test_user, df_hybrid_test, 10)"
   ]
  },
  {
   "cell_type": "code",
   "execution_count": 161,
   "metadata": {},
   "outputs": [
    {
     "data": {
      "text/html": [
       "<div>\n",
       "<style scoped>\n",
       "    .dataframe tbody tr th:only-of-type {\n",
       "        vertical-align: middle;\n",
       "    }\n",
       "\n",
       "    .dataframe tbody tr th {\n",
       "        vertical-align: top;\n",
       "    }\n",
       "\n",
       "    .dataframe thead th {\n",
       "        text-align: right;\n",
       "    }\n",
       "</style>\n",
       "<table border=\"1\" class=\"dataframe\">\n",
       "  <thead>\n",
       "    <tr style=\"text-align: right;\">\n",
       "      <th></th>\n",
       "      <th>item</th>\n",
       "      <th>movie</th>\n",
       "      <th>genre</th>\n",
       "      <th>user</th>\n",
       "    </tr>\n",
       "  </thead>\n",
       "  <tbody>\n",
       "    <tr>\n",
       "      <th>4603</th>\n",
       "      <td>6365</td>\n",
       "      <td>Matrix Reloaded, The (2003)</td>\n",
       "      <td>[Action, Adventure, Sci-Fi, Thriller, IMAX]</td>\n",
       "      <td>672</td>\n",
       "    </tr>\n",
       "    <tr>\n",
       "      <th>4880</th>\n",
       "      <td>6934</td>\n",
       "      <td>Matrix Revolutions, The (2003)</td>\n",
       "      <td>[Action, Adventure, Sci-Fi, Thriller, IMAX]</td>\n",
       "      <td>672</td>\n",
       "    </tr>\n",
       "    <tr>\n",
       "      <th>6691</th>\n",
       "      <td>52722</td>\n",
       "      <td>Spider-Man 3 (2007)</td>\n",
       "      <td>[Action, Adventure, Sci-Fi, Thriller, IMAX]</td>\n",
       "      <td>672</td>\n",
       "    </tr>\n",
       "    <tr>\n",
       "      <th>7004</th>\n",
       "      <td>60684</td>\n",
       "      <td>Watchmen (2009)</td>\n",
       "      <td>[Action, Drama, Mystery, Sci-Fi, Thriller, IMAX]</td>\n",
       "      <td>672</td>\n",
       "    </tr>\n",
       "    <tr>\n",
       "      <th>7526</th>\n",
       "      <td>77561</td>\n",
       "      <td>Iron Man 2 (2010)</td>\n",
       "      <td>[Action, Adventure, Sci-Fi, Thriller, IMAX]</td>\n",
       "      <td>672</td>\n",
       "    </tr>\n",
       "    <tr>\n",
       "      <th>7575</th>\n",
       "      <td>79132</td>\n",
       "      <td>Inception (2010)</td>\n",
       "      <td>[Action, Crime, Drama, Mystery, Sci-Fi, Thrill...</td>\n",
       "      <td>672</td>\n",
       "    </tr>\n",
       "    <tr>\n",
       "      <th>7760</th>\n",
       "      <td>85261</td>\n",
       "      <td>Mars Needs Moms (2011)</td>\n",
       "      <td>[Action, Adventure, Animation, Children, Comed...</td>\n",
       "      <td>672</td>\n",
       "    </tr>\n",
       "    <tr>\n",
       "      <th>8284</th>\n",
       "      <td>101076</td>\n",
       "      <td>G.I. Joe: Retaliation (2013)</td>\n",
       "      <td>[Action, Adventure, Sci-Fi, Thriller, IMAX]</td>\n",
       "      <td>672</td>\n",
       "    </tr>\n",
       "    <tr>\n",
       "      <th>8336</th>\n",
       "      <td>103042</td>\n",
       "      <td>Man of Steel (2013)</td>\n",
       "      <td>[Action, Adventure, Fantasy, Sci-Fi, IMAX]</td>\n",
       "      <td>672</td>\n",
       "    </tr>\n",
       "    <tr>\n",
       "      <th>8783</th>\n",
       "      <td>122886</td>\n",
       "      <td>Star Wars: Episode VII - The Force Awakens (2015)</td>\n",
       "      <td>[Action, Adventure, Fantasy, Sci-Fi, IMAX]</td>\n",
       "      <td>672</td>\n",
       "    </tr>\n",
       "  </tbody>\n",
       "</table>\n",
       "</div>"
      ],
      "text/plain": [
       "        item                                              movie  \\\n",
       "4603    6365                        Matrix Reloaded, The (2003)   \n",
       "4880    6934                     Matrix Revolutions, The (2003)   \n",
       "6691   52722                                Spider-Man 3 (2007)   \n",
       "7004   60684                                    Watchmen (2009)   \n",
       "7526   77561                                  Iron Man 2 (2010)   \n",
       "7575   79132                                   Inception (2010)   \n",
       "7760   85261                             Mars Needs Moms (2011)   \n",
       "8284  101076                       G.I. Joe: Retaliation (2013)   \n",
       "8336  103042                                Man of Steel (2013)   \n",
       "8783  122886  Star Wars: Episode VII - The Force Awakens (2015)   \n",
       "\n",
       "                                                  genre  user  \n",
       "4603        [Action, Adventure, Sci-Fi, Thriller, IMAX]   672  \n",
       "4880        [Action, Adventure, Sci-Fi, Thriller, IMAX]   672  \n",
       "6691        [Action, Adventure, Sci-Fi, Thriller, IMAX]   672  \n",
       "7004   [Action, Drama, Mystery, Sci-Fi, Thriller, IMAX]   672  \n",
       "7526        [Action, Adventure, Sci-Fi, Thriller, IMAX]   672  \n",
       "7575  [Action, Crime, Drama, Mystery, Sci-Fi, Thrill...   672  \n",
       "7760  [Action, Adventure, Animation, Children, Comed...   672  \n",
       "8284        [Action, Adventure, Sci-Fi, Thriller, IMAX]   672  \n",
       "8336         [Action, Adventure, Fantasy, Sci-Fi, IMAX]   672  \n",
       "8783         [Action, Adventure, Fantasy, Sci-Fi, IMAX]   672  "
      ]
     },
     "execution_count": 161,
     "metadata": {},
     "output_type": "execute_result"
    }
   ],
   "source": [
    "CB_hybrid(test_user, df_hybrid_test, 10)"
   ]
  },
  {
   "cell_type": "code",
   "execution_count": 162,
   "metadata": {},
   "outputs": [
    {
     "data": {
      "text/html": [
       "<div>\n",
       "<style scoped>\n",
       "    .dataframe tbody tr th:only-of-type {\n",
       "        vertical-align: middle;\n",
       "    }\n",
       "\n",
       "    .dataframe tbody tr th {\n",
       "        vertical-align: top;\n",
       "    }\n",
       "\n",
       "    .dataframe thead th {\n",
       "        text-align: right;\n",
       "    }\n",
       "</style>\n",
       "<table border=\"1\" class=\"dataframe\">\n",
       "  <thead>\n",
       "    <tr style=\"text-align: right;\">\n",
       "      <th></th>\n",
       "      <th>movie</th>\n",
       "      <th>score</th>\n",
       "      <th>item</th>\n",
       "      <th>genres</th>\n",
       "      <th>user</th>\n",
       "    </tr>\n",
       "  </thead>\n",
       "  <tbody>\n",
       "    <tr>\n",
       "      <th>0</th>\n",
       "      <td>Last Samurai, The (2003)</td>\n",
       "      <td>0.856360</td>\n",
       "      <td>7143</td>\n",
       "      <td>[Action, Adventure, Drama, War]</td>\n",
       "      <td>672</td>\n",
       "    </tr>\n",
       "    <tr>\n",
       "      <th>1</th>\n",
       "      <td>Hobbit: The Desolation of Smaug, The (2013)</td>\n",
       "      <td>0.853065</td>\n",
       "      <td>106489</td>\n",
       "      <td>[Adventure, Fantasy, IMAX]</td>\n",
       "      <td>672</td>\n",
       "    </tr>\n",
       "    <tr>\n",
       "      <th>2</th>\n",
       "      <td>Pirates of the Caribbean: The Curse of the Bla...</td>\n",
       "      <td>0.841363</td>\n",
       "      <td>6539</td>\n",
       "      <td>[Action, Adventure, Comedy, Fantasy]</td>\n",
       "      <td>672</td>\n",
       "    </tr>\n",
       "    <tr>\n",
       "      <th>3</th>\n",
       "      <td>Harry Potter and the Sorcerer's Stone (a.k.a. ...</td>\n",
       "      <td>0.831585</td>\n",
       "      <td>4896</td>\n",
       "      <td>[Adventure, Children, Fantasy]</td>\n",
       "      <td>672</td>\n",
       "    </tr>\n",
       "    <tr>\n",
       "      <th>4</th>\n",
       "      <td>How to Train Your Dragon (2010)</td>\n",
       "      <td>0.825958</td>\n",
       "      <td>76093</td>\n",
       "      <td>[Adventure, Animation, Children, Fantasy, IMAX]</td>\n",
       "      <td>672</td>\n",
       "    </tr>\n",
       "    <tr>\n",
       "      <th>5</th>\n",
       "      <td>Iron Man (2008)</td>\n",
       "      <td>0.819679</td>\n",
       "      <td>59315</td>\n",
       "      <td>[Action, Adventure, Sci-Fi]</td>\n",
       "      <td>672</td>\n",
       "    </tr>\n",
       "    <tr>\n",
       "      <th>6</th>\n",
       "      <td>Beautiful Mind, A (2001)</td>\n",
       "      <td>0.817915</td>\n",
       "      <td>4995</td>\n",
       "      <td>[Drama, Romance]</td>\n",
       "      <td>672</td>\n",
       "    </tr>\n",
       "    <tr>\n",
       "      <th>7</th>\n",
       "      <td>Constantine (2005)</td>\n",
       "      <td>0.817363</td>\n",
       "      <td>31696</td>\n",
       "      <td>[Action, Fantasy, Horror, Thriller]</td>\n",
       "      <td>672</td>\n",
       "    </tr>\n",
       "    <tr>\n",
       "      <th>8</th>\n",
       "      <td>Harry Potter and the Half-Blood Prince (2009)</td>\n",
       "      <td>0.813318</td>\n",
       "      <td>69844</td>\n",
       "      <td>[Adventure, Fantasy, Mystery, Romance, IMAX]</td>\n",
       "      <td>672</td>\n",
       "    </tr>\n",
       "    <tr>\n",
       "      <th>9</th>\n",
       "      <td>Pirates of the Caribbean: Dead Man's Chest (2006)</td>\n",
       "      <td>0.812266</td>\n",
       "      <td>45722</td>\n",
       "      <td>[Action, Adventure, Fantasy]</td>\n",
       "      <td>672</td>\n",
       "    </tr>\n",
       "  </tbody>\n",
       "</table>\n",
       "</div>"
      ],
      "text/plain": [
       "                                               movie     score    item  \\\n",
       "0                           Last Samurai, The (2003)  0.856360    7143   \n",
       "1        Hobbit: The Desolation of Smaug, The (2013)  0.853065  106489   \n",
       "2  Pirates of the Caribbean: The Curse of the Bla...  0.841363    6539   \n",
       "3  Harry Potter and the Sorcerer's Stone (a.k.a. ...  0.831585    4896   \n",
       "4                    How to Train Your Dragon (2010)  0.825958   76093   \n",
       "5                                    Iron Man (2008)  0.819679   59315   \n",
       "6                           Beautiful Mind, A (2001)  0.817915    4995   \n",
       "7                                 Constantine (2005)  0.817363   31696   \n",
       "8      Harry Potter and the Half-Blood Prince (2009)  0.813318   69844   \n",
       "9  Pirates of the Caribbean: Dead Man's Chest (2006)  0.812266   45722   \n",
       "\n",
       "                                            genres  user  \n",
       "0                  [Action, Adventure, Drama, War]   672  \n",
       "1                       [Adventure, Fantasy, IMAX]   672  \n",
       "2             [Action, Adventure, Comedy, Fantasy]   672  \n",
       "3                   [Adventure, Children, Fantasy]   672  \n",
       "4  [Adventure, Animation, Children, Fantasy, IMAX]   672  \n",
       "5                      [Action, Adventure, Sci-Fi]   672  \n",
       "6                                 [Drama, Romance]   672  \n",
       "7              [Action, Fantasy, Horror, Thriller]   672  \n",
       "8     [Adventure, Fantasy, Mystery, Romance, IMAX]   672  \n",
       "9                     [Action, Adventure, Fantasy]   672  "
      ]
     },
     "execution_count": 162,
     "metadata": {},
     "output_type": "execute_result"
    }
   ],
   "source": [
    "W2V_hybrid(test_user, df_hybrid_test, 10)"
   ]
  },
  {
   "cell_type": "markdown",
   "metadata": {},
   "source": [
    "> Comparing the hybrid outcomes to the individual recommendations, I would say that it is subjectively better as it rearranged the items in a better way for my own tastes, but it is still very close to BPR results considering the weights assigned to the items, but using this approach we can try different sets of weights in addition to use a `rank` metric such as NDCG to evaluate the performance regarding the positions for all users."
   ]
  },
  {
   "cell_type": "markdown",
   "metadata": {},
   "source": [
    "### 5.1 - Evaluating Hybrid Recommender with Hit Rate"
   ]
  },
  {
   "cell_type": "code",
   "execution_count": 163,
   "metadata": {},
   "outputs": [],
   "source": [
    "def evaluate_Hybrid_HR(user_list, training_data, test_data, weights, k=10):\n",
    "     \n",
    "    hits = 0\n",
    "    diversity = 0\n",
    "    serendipity = 0\n",
    "    user_count = len(user_list)\n",
    "    \n",
    "    print(f'Starting users recommendations: {len(user_list)} users found!')\n",
    "    \n",
    "    for u in tqdm(user_list):\n",
    "        stoplist = get_user_seen_movies(u, training_data, flg_name=True)\n",
    "        recs = get_hybrid_recs(u, training_data, weights, k)\n",
    "        # A hit is when we recommend something we know the user has liked (rating >= 4)\n",
    "        hits += calculate_user_hit_rate(recs, test_data[test_data['user'] == u], k)\n",
    "        div, ser = get_diversity_serendipity(recs['item'])\n",
    "        diversity += div\n",
    "        serendipity += ser\n",
    "        \n",
    "    return (hits / user_count, diversity / user_count, serendipity / user_count)\n",
    "    \n",
    "    #return hits / user_count"
   ]
  },
  {
   "cell_type": "code",
   "execution_count": 164,
   "metadata": {},
   "outputs": [
    {
     "name": "stderr",
     "output_type": "stream",
     "text": [
      "\r",
      "  0%|          | 0/672 [00:00<?, ?it/s]"
     ]
    },
    {
     "name": "stdout",
     "output_type": "stream",
     "text": [
      "Starting users recommendations: 672 users found!\n"
     ]
    },
    {
     "name": "stderr",
     "output_type": "stream",
     "text": [
      "100%|██████████| 672/672 [01:55<00:00,  5.80it/s]\n"
     ]
    }
   ],
   "source": [
    "hybrid_evaluation = evaluate_Hybrid_HR(df_training['user'].unique(),\n",
    "                                       df_training,\n",
    "                                       df_test_data,\n",
    "                                       weights,\n",
    "                                       10)"
   ]
  },
  {
   "cell_type": "code",
   "execution_count": 165,
   "metadata": {},
   "outputs": [
    {
     "data": {
      "text/plain": [
       "(0.3044642857142855, 0.5598453070966327, 346.5380952380953)"
      ]
     },
     "execution_count": 165,
     "metadata": {},
     "output_type": "execute_result"
    }
   ],
   "source": [
    "hybrid_evaluation"
   ]
  },
  {
   "cell_type": "markdown",
   "metadata": {},
   "source": [
    "The best thing we could do here is performing online tests comparing this hybrid x another recommender (BPR which has the best results could be a candidate) so we can have user's real feedback to check whether the position and also mixing different types of recommendations are making any (significant) difference for the user."
   ]
  },
  {
   "cell_type": "markdown",
   "metadata": {},
   "source": [
    "## 6. Conclusions"
   ]
  },
  {
   "cell_type": "markdown",
   "metadata": {},
   "source": [
    "After all this discussions we can see that Recommender Systems is not just about predicting ratings and it has many aspects to work on both from business and technical standpoints. It is a very *customer-driven* field, therefore we have to be constantly evaluating it with Online/field tests getting feedback from real users. It is like a `Lego` that you put many blocks together, each one with its own goal so you can build a whole **system** that is able to help people finding relevant items as well as helping companies to make more money, but it is not just about profit, it is about retain customers by knowing what they like and need. It is a win-win game after all.\n",
    "\n",
    "With all the goals set and considering the aspects discussed in this document to evaluate the quality and ROI of recommendations (always centralized in the user's needs), people might stick with you longer and maybe create an \"emotional bond\" with your brand because of the feeling that you know their habits almost better than themselves."
   ]
  },
  {
   "cell_type": "markdown",
   "metadata": {},
   "source": [
    "# References\n",
    "\n",
    "* https://gab41.lab41.org/recommender-systems-its-not-all-about-the-accuracy-562c7dceeaff#.5exl13wqv\n",
    "* https://queirozf.com/entries/evaluation-metrics-for-ranking-problems-introduction-and-examples\n",
    "* https://www.udemy.com/course/building-recommender-systems-with-machine-learning-and-ai/\n",
    "* https://kojinoshiba.com/recsys-cold-start/\n",
    "* https://github.com/marlesson/recsys_autoencoders\n",
    "* https://towardsdatascience.com/using-word2vec-for-music-recommendations-bb9649ac2484"
   ]
  },
  {
   "cell_type": "code",
   "execution_count": null,
   "metadata": {},
   "outputs": [],
   "source": []
  }
 ],
 "metadata": {
  "kernelspec": {
   "display_name": "recsys",
   "language": "python",
   "name": "recsys"
  },
  "language_info": {
   "codemirror_mode": {
    "name": "ipython",
    "version": 3
   },
   "file_extension": ".py",
   "mimetype": "text/x-python",
   "name": "python",
   "nbconvert_exporter": "python",
   "pygments_lexer": "ipython3",
   "version": "3.7.7"
  }
 },
 "nbformat": 4,
 "nbformat_minor": 4
}
